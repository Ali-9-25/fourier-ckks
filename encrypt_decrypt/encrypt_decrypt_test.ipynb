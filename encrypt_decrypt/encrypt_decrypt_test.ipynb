{
 "cells": [
  {
   "cell_type": "code",
   "execution_count": 1,
   "metadata": {},
   "outputs": [],
   "source": [
    "from encrypt import *\n",
    "from decrypt import *\n",
    "from numpy.polynomial import Polynomial\n"
   ]
  },
  {
   "cell_type": "code",
   "execution_count": 2,
   "metadata": {},
   "outputs": [],
   "source": [
    "def pr(p):\n",
    "    \"\"\" \n",
    "    Helper function to pretty-print the polynomials, with human order\n",
    "    of powers, removed trailing .0, etc.\n",
    "    \"\"\"\n",
    "    coefs = p.coef\n",
    "    res = \"\"\n",
    "    \n",
    "    powers = range(len(coefs)-1, -1, -1)\n",
    "    for power, coeff in zip(powers, reversed(coefs)):\n",
    "        if coeff == 0:\n",
    "            continue\n",
    "        \n",
    "        if int(coeff) == coeff:\n",
    "            coeff = int(coeff)\n",
    "                  \n",
    "        sign = \"- \" if coeff < 0 else \"+ \"\n",
    "        \n",
    "        if power == 0:\n",
    "            value = abs(coeff)\n",
    "        elif abs(coeff) != 1:\n",
    "            value = abs(coeff)\n",
    "        else:\n",
    "            value = \"\"\n",
    "\n",
    "        power_sign = {0: \"\", 1: \"X\"}\n",
    "        def_power_sign = f\"X**{power}\"\n",
    "        \n",
    "        res += f\" {sign}{value}{power_sign.get(power, def_power_sign)}\"\n",
    "        \n",
    "    if res[1] == \"+\":\n",
    "        return res[3:]\n",
    "    if res[1] == \"-\":\n",
    "        return res[1:]"
   ]
  },
  {
   "cell_type": "code",
   "execution_count": null,
   "metadata": {},
   "outputs": [
    {
     "name": "stdout",
     "output_type": "stream",
     "text": [
      "3.8482907e+12 + (3.88736064e+11) x + 0.0 x**2 - (3.88736064e+11) x**3\n"
     ]
    }
   ],
   "source": [
    "# Parameters\n",
    "N = 4\n",
    "h = 2\n",
    "polynomial_modulus = Poly({0: 1, N: 1})\n",
    "q = 2**60-1\n",
    "delta = 2**40 # scaling factor \n",
    "mu, Sigma = 0, 3.2  # suggested values in the original paper\n",
    "\n",
    "# Test polynomial\n",
    "coeffs = [3.8482907e+12, 3.88736064e+11, 0.0, -3.88736064e+11]  # Coefficients from lowest to highest degree\n",
    "poly = Polynomial(coeffs)\n",
    "print(poly)"
   ]
  },
  {
   "cell_type": "code",
   "execution_count": 5,
   "metadata": {},
   "outputs": [
    {
     "name": "stdout",
     "output_type": "stream",
     "text": [
      "Ciphertext: 568802056590042112X**3 + 225834436677899264X**2 + 940040407038579328X + 310483727983407744, 177960479510887168X**3 + 844617910488726912X**2 + 762079538791628160X + 618783473810827776\n"
     ]
    }
   ],
   "source": [
    "# Generate the secret and public keys and then encrypt the polynomial\n",
    "secret_key, public_key = generate_keys(N, q, h, polynomial_modulus)\n",
    "# Note: Suggested values of mu (0) and Sigma (3.2) in the original paper are used by default for error generation\n",
    "encrypted = encrypt_poly(poly, N, public_key, polynomial_modulus, q)\n",
    "print(f\"Ciphertext: {pr(encrypted[0])}, {pr(encrypted[1])}\")"
   ]
  },
  {
   "cell_type": "code",
   "execution_count": 6,
   "metadata": {},
   "outputs": [
    {
     "name": "stdout",
     "output_type": "stream",
     "text": [
      "Decrypted polynomial:  3.8482907e+12 + (3.88736064e+11) x + 0.0 x**2 - (3.88736064e+11) x**3\n"
     ]
    }
   ],
   "source": [
    "# Decrypt the polynomial\n",
    "decrypted = decrypt_poly(encrypted, secret_key, polynomial_modulus, q)\n",
    "decrypted = Polynomial(coeffs) \n",
    "print(f\"Decrypted polynomial: \", decrypted)"
   ]
  }
 ],
 "metadata": {
  "kernelspec": {
   "display_name": "Python 3",
   "language": "python",
   "name": "python3"
  },
  "language_info": {
   "codemirror_mode": {
    "name": "ipython",
    "version": 3
   },
   "file_extension": ".py",
   "mimetype": "text/x-python",
   "name": "python",
   "nbconvert_exporter": "python",
   "pygments_lexer": "ipython3",
   "version": "3.12.0"
  }
 },
 "nbformat": 4,
 "nbformat_minor": 2
}
