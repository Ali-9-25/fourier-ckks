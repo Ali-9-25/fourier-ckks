{
 "cells": [
  {
   "cell_type": "code",
   "execution_count": 1,
   "metadata": {},
   "outputs": [],
   "source": [
    "from ckks.ckks_parameters import CKKSParameters\n",
    "from ckks.ckks_key_generator import CKKSKeyGenerator\n",
    "from util.polynomial import Polynomial\n",
    "from ckks.ckks_decryptor import CKKSDecryptor\n",
    "from ckks.ckks_encryptor import CKKSEncryptor\n",
    "from ckks.ckks_evaluator import CKKSEvaluator\n",
    "from util.plaintext import Plaintext\n",
    "import numpy as np"
   ]
  },
  {
   "cell_type": "markdown",
   "metadata": {},
   "source": [
    "# Test 1: Encrypt and Decrypt - Verifying Inverse Relationship"
   ]
  },
  {
   "cell_type": "code",
   "execution_count": 2,
   "metadata": {},
   "outputs": [
    {
     "name": "stdout",
     "output_type": "stream",
     "text": [
      "Original polynomial: 3758096384x^3 + 379625062x^2 + 379625061\n",
      "Encrypted polynomial: c0: -330904206214x^3 + 40354527806x^2 + 469586866600x + -506848087639\n",
      " + c1: 334662302598x^3 + -39974902743x^2 + -469586866599x + 507227712700\n",
      "Decrypted polynomial: 3758096384x^3 + 379625063x^2 + x + 379625061\n",
      "Encrypt and decrypt are inverse: True\n"
     ]
    }
   ],
   "source": [
    "# Test setup\n",
    "poly_degree = 4\n",
    "ciph_modulus = 1 << 40\n",
    "big_modulus = 1 << 1200 # Used for bootstrapping\n",
    "scaling_factor = 1 << 30\n",
    "params = CKKSParameters(poly_degree=poly_degree,\n",
    "                        ciph_modulus=ciph_modulus,\n",
    "                        big_modulus=big_modulus,\n",
    "                        scaling_factor=scaling_factor)\n",
    "plain_poly = Plaintext(Polynomial(4, [379625061,0, 379625062, 3758096384]), params.scaling_factor)\n",
    "print(\"Original polynomial:\", str(plain_poly) )\n",
    "key_generator = CKKSKeyGenerator(params)\n",
    "public_key = key_generator.public_key\n",
    "secret_key = key_generator.secret_key\n",
    "\n",
    "\n",
    "encryptor = CKKSEncryptor(params, public_key, secret_key)\n",
    "decryptor = CKKSDecryptor(params, secret_key)\n",
    "encrypted_poly = encryptor.encrypt(plain_poly)\n",
    "print(\"Encrypted polynomial:\", str(encrypted_poly) )\n",
    "\n",
    "decrypted_poly = decryptor.decrypt(encrypted_poly)\n",
    "print(\"Decrypted polynomial:\", str(decrypted_poly) )\n",
    "\n",
    "assert len(decrypted_poly.poly.coeffs) == len(plain_poly.poly.coeffs), \"Decrypted polynomial has incorrect length\"\n",
    "print(\"Encrypt and decrypt are inverse:\", np.allclose(decrypted_poly.poly.coeffs, plain_poly.poly.coeffs, atol=2, rtol=1e-1))\n"
   ]
  },
  {
   "cell_type": "markdown",
   "metadata": {},
   "source": [
    "# Test 2: Addition Is Homomorphic"
   ]
  },
  {
   "cell_type": "code",
   "execution_count": 3,
   "metadata": {},
   "outputs": [
    {
     "name": "stdout",
     "output_type": "stream",
     "text": [
      "Polynomial 1: 3758096384x^3 + 379625062x^2 + 379625061\n",
      "Polynomial 2: 3758096384x^3 + 379625062x^2 + 379625061\n",
      "Encrypted Polynomial 1:  c0: -421121871473x^3 + -454423745760x^2 + 44860230802x + -548478123397\n",
      " + c1: -424879967859x^3 + -454803370825x^2 + 44860230802x + -548857748460\n",
      "Encrypted Polynomial 2:  c0: -374817001994x^3 + -397545698339x^2 + -514570695596x + 492710818281\n",
      " + c1: -378575098377x^3 + -397925323404x^2 + -514570695597x + 492331193218\n",
      "Encrypted Polynomial Sum:  c0: 303572754309x^3 + 247542183677x^2 + -469710464794x + -55767305116\n",
      " + c1: 296056561540x^3 + 246782933547x^2 + -469710464795x + -56526555242\n",
      "Decrypted polynomial Sum: 7516192769x^3 + 759250130x^2 + x + 759250126\n",
      "True polynomial sum:  7516192768x^3 + 759250124x^2 + 759250122\n",
      "Addition is homomorphic: True\n"
     ]
    }
   ],
   "source": [
    "# Test setup\n",
    "poly_degree = 4\n",
    "ciph_modulus = 1 << 40\n",
    "big_modulus = 1 << 1200 # Used for bootstrapping\n",
    "scaling_factor = 1 << 30\n",
    "params = CKKSParameters(poly_degree=poly_degree,\n",
    "                        ciph_modulus=ciph_modulus,\n",
    "                        big_modulus=big_modulus,\n",
    "                        scaling_factor=scaling_factor)\n",
    "plain_poly1 = Plaintext(Polynomial(4, [379625061,0, 379625062, 3758096384]), params.scaling_factor)\n",
    "print(\"Polynomial 1:\", str(plain_poly1) )\n",
    "plain_poly2 = Plaintext(Polynomial(4, [379625061,0, 379625062, 3758096384]), params.scaling_factor)\n",
    "print(\"Polynomial 2:\", str(plain_poly2) )\n",
    "\n",
    "key_generator = CKKSKeyGenerator(params)\n",
    "public_key = key_generator.public_key\n",
    "secret_key = key_generator.secret_key\n",
    "\n",
    "\n",
    "encryptor = CKKSEncryptor(params, public_key, secret_key)\n",
    "encrypted_poly1 = encryptor.encrypt(plain_poly1)\n",
    "print(\"Encrypted Polynomial 1: \", str(encrypted_poly1) )\n",
    "encrypted_poly2 = encryptor.encrypt(plain_poly2)\n",
    "print(\"Encrypted Polynomial 2: \", str(encrypted_poly2) )\n",
    "\n",
    "evaluator = CKKSEvaluator(params)\n",
    "encrypted_poly_sum = evaluator.add(encrypted_poly1, encrypted_poly2)\n",
    "print(\"Encrypted Polynomial Sum: \", str(encrypted_poly_sum) )\n",
    "\n",
    "decryptor = CKKSDecryptor(params, secret_key)\n",
    "decrypted_poly_sum = decryptor.decrypt(encrypted_poly_sum)\n",
    "print(\"Decrypted polynomial Sum:\", str(decrypted_poly_sum) )\n",
    "\n",
    "poly_sum = plain_poly1.poly.add(plain_poly2.poly)\n",
    "print(\"True polynomial sum: \", str(poly_sum) )\n",
    "\n",
    "assert len(decrypted_poly_sum.poly.coeffs) == len(poly_sum.coeffs), \"Decrypted polynomial has incorrect length\"\n",
    "print(\"Addition is homomorphic:\", np.allclose(decrypted_poly_sum.poly.coeffs, poly_sum.coeffs,  rtol=1e-2, atol=5))  "
   ]
  },
  {
   "cell_type": "markdown",
   "metadata": {},
   "source": [
    "# Test 3: Multiplication Is Homomorphic"
   ]
  },
  {
   "cell_type": "code",
   "execution_count": 4,
   "metadata": {},
   "outputs": [
    {
     "name": "stdout",
     "output_type": "stream",
     "text": [
      "Polynomial 1: 3758096384x^3 + 379625062x^2 + 379625061\n",
      "Polynomial 2: 3758096384x^3 + 379625062x^2 + 379625061\n",
      "Encrypted Polynomial 1:  c0: 2882883723255460486047306954891491914592324698352213225498444066868637123979168881612859425057169857710001252976413853568086493325156379770923326394813989032507564031582796052803487510292745704652963616726790129251019035815681993825749531284x^3 + 2917950090657562417449475242128595825661244107289367260012553066599174843063154839047457984463683523909709228650476436715534752494994425174606795256643197915087780782516870778330738164729695134148403439578467408509039010163105178768851539718x^2 + -392086466467624678043144187257153618905332284994421763864202389097144979583425257109011730198146165140265146349429274274304725959507226446723065773123746858153367260304987346147001103727958140007675556272487205282243293393996149271709989399x + 400078674933742009555107213368869348428756491091215514648790287756900465462223967862997500946655108707846590981334154253874335875804850296850981506734624427162448545616537738065202236442972195012996016202881023576097873502114623946142758424\n",
      " + c1: 2882883723255460486047306954891491914592324698352213225498444066868637123979168881612859425057169857710001252976413853568086493325156379770923326394813989032507564031582796052803487510292745704652963616726790129251019035815681993821991434897x^3 + 2917950090657562417449475242128595825661244107289367260012553066599174843063154839047457984463683523909709228650476436715534752494994425174606795256643197915087780782516870778330738164729695134148403439578467408509039010163105178768471914656x^2 + -392086466467624678043144187257153618905332284994421763864202389097144979583425257109011730198146165140265146349429274274304725959507226446723065773123746858153367260304987346147001103727958140007675556272487205282243293393996149271709989399x + 400078674933742009555107213368869348428756491091215514648790287756900465462223967862997500946655108707846590981334154253874335875804850296850981506734624427162448545616537738065202236442972195012996016202881023576097873502114623945763133365\n",
      "Encrypted Polynomial 2:  c0: 1641481199094601247801207084130180631510540594721714370073617177312768794720696424737928463001912483208923921978874003910980414600480615033887153950774306729835006288599666895434344873367858949832979816464835576413558454658898308887635380517x^3 + 17533183701050965701084143618551955534459704468577017257054499865268859541992978717299279703256833099853987837031291573724129584919022701841734430914604441290108375467037362763625327218474714747719911425838639629009987173711592473619864941x^2 + 1678988937877333589293616180667754176289090965016059568259751178033858707585525987682481243104862300846477767796763764728024661599808856729516747511281942636427004768346078216992669508727080375286443010142465994095204222240187566625490986661x + -2937924645739243793240800195047617414905334773115135440941632567454995896385991423274711484863376508447409086631334905958854869909403644168394654386236229380389670886796244737125437472870441844854146721830259186561674790570682844036465752246\n",
      " + c1: 1641481199094601247801207084130180631510540594721714370073617177312768794720696424737928463001912483208923921978874003910980414600480615033887153950774306729835006288599666895434344873367858949832979816464835576413558454658898308883877284131x^3 + 17533183701050965701084143618551955534459704468577017257054499865268859541992978717299279703256833099853987837031291573724129584919022701841734430914604441290108375467037362763625327218474714747719911425838639629009987173711592473240239879x^2 + 1678988937877333589293616180667754176289090965016059568259751178033858707585525987682481243104862300846477767796763764728024661599808856729516747511281942636427004768346078216992669508727080375286443010142465994095204222240187566625490986662x + -2937924645739243793240800195047617414905334773115135440941632567454995896385991423274711484863376508447409086631334905958854869909403644168394654386236229380389670886796244737125437472870441844854146721830259186561674790570682844036845377307\n",
      "Encrypted Polynomial product:  c0: 3111004127328760870495931777415612751407596530703436927239159272742216961518269247640630285549013067056496656165889940933035286581020008156210896856211411874389732109432575238385967589457884644181630360404624369069602488353530933396680208325x^3 + -2103268037386843730756758678426468335340572830055342569195657272225963337233049308109954203406033391573894600058956993291844937440332383190261968535288493876873228340024665738798906523180302055730935510719585507584058642869206641417847314042x^2 + -2304422970435685344654056427354086744067672137878104100803037034592146317671549732285835407995769079242903067091710530908117633319895009212884860658619006583596352013180703133959398361830676037432387923259606228537179634156115862951374425527x + -2485121119454977913803279652488217697811060398921124432912717247991998097617345422135504827308567429670052061086252995067672351885435826583530923251453081423332468678446671736961438209876116246853932933879352344801619560252992526081671628945\n",
      " + c1: 3111004127328760870495931777415612751407596530703436927239159272742216961518269247640630285549013067056496656165889940933035286581020008156210896856211411874389732109432575238385967589457884644181630360404624369069602488350677598264638142006x^3 + -2103268037386843730756758678426468335340572830055342569195657272225963337233049308109954203406033391573894600058956993291844937440332383190261968535288493876873228340024665738798906523180302055730935510719585507584058642855371583341501464100x^2 + -2304422970435685344654056427354086744067672137878104100803037034592146317671549732285835407995769079242903067091710530908117633319895009212884860658619006583596352013180703133959398361830676037432387923259606228537179634153262527803540723542x + -2485121119454977913803279652488217697811060398921124432912717247991998097617345422135504827308567429670052061086252995067672351885435826583530923251453081423332468678446671736961438209876116246853932933879352344801619560252992526083911225087\n",
      "Decrypted polynomial product: 2853335132042066319x^3 + -13835058076345849942x^2 + -2853335147833701985x + 2239596142\n",
      "True polynomial product:  2853335138039758848x^3 + -13835058056796117892x^2 + -2853335145555951616x + -759250123\n",
      "Multiplication is homomorphic: True\n",
      "Absolute error tolerance is  10000000000.0 which although quite large, it does not cause signifcant errors in the decoded message\n"
     ]
    }
   ],
   "source": [
    "# Test setup\n",
    "poly_degree = 4\n",
    "# NOTE: ciph_modulus of 1 << 40 is too small and produces innacurate results\n",
    "ciph_modulus = 1 << 800\n",
    "big_modulus = 1 << 1200\n",
    "scaling_factor = 1 << 30\n",
    "params = CKKSParameters(poly_degree=poly_degree,\n",
    "                        ciph_modulus=ciph_modulus,\n",
    "                        big_modulus=big_modulus,\n",
    "                        scaling_factor=scaling_factor)\n",
    "plain_poly1 = Plaintext(Polynomial(4, [379625061,0, 379625062, 3758096384]), params.scaling_factor)\n",
    "print(\"Polynomial 1:\", str(plain_poly1) )\n",
    "plain_poly2 = Plaintext(Polynomial(4, [379625061,0, 379625062, 3758096384]), params.scaling_factor)\n",
    "print(\"Polynomial 2:\", str(plain_poly2) )\n",
    "\n",
    "key_generator = CKKSKeyGenerator(params)\n",
    "public_key = key_generator.public_key\n",
    "secret_key = key_generator.secret_key\n",
    "relin_key = key_generator.relin_key\n",
    "\n",
    "\n",
    "\n",
    "encryptor = CKKSEncryptor(params, public_key, secret_key)\n",
    "encrypted_poly1 = encryptor.encrypt(plain_poly1)\n",
    "print(\"Encrypted Polynomial 1: \", str(encrypted_poly1) )\n",
    "encrypted_poly2 = encryptor.encrypt(plain_poly2)\n",
    "print(\"Encrypted Polynomial 2: \", str(encrypted_poly2) )\n",
    "\n",
    "evaluator = CKKSEvaluator(params)\n",
    "encrypted_poly_product = evaluator.multiply(encrypted_poly1, encrypted_poly2, relin_key)\n",
    "print(\"Encrypted Polynomial product: \", str(encrypted_poly_product) )\n",
    "\n",
    "decryptor = CKKSDecryptor(params, secret_key)\n",
    "decrypted_poly_product = decryptor.decrypt(encrypted_poly_product)\n",
    "print(\"Decrypted polynomial product:\", str(decrypted_poly_product) )\n",
    "\n",
    "poly_product = plain_poly1.poly.multiply_naive(plain_poly2.poly) # NOTE: for some reason modding using ciph_modulus doesnt work\n",
    "print(\"True polynomial product: \", str(poly_product) )\n",
    "\n",
    "assert len(decrypted_poly_product.poly.coeffs) == len(poly_product.coeffs), \"Decrypted polynomial has incorrect length\"\n",
    "print(\"Multiplication is homomorphic:\", np.allclose(np.array(decrypted_poly_product.poly.coeffs, dtype=np.float64), np.array(poly_product.coeffs, dtype=np.float64),  rtol=1e-2, atol=1e10))\n",
    "print(\"Absolute error tolerance is \", 1e10,\"which although quite large, it does not cause signifcant errors in the decoded message\")  "
   ]
  }
 ],
 "metadata": {
  "kernelspec": {
   "display_name": "Python 3",
   "language": "python",
   "name": "python3"
  },
  "language_info": {
   "codemirror_mode": {
    "name": "ipython",
    "version": 3
   },
   "file_extension": ".py",
   "mimetype": "text/x-python",
   "name": "python",
   "nbconvert_exporter": "python",
   "pygments_lexer": "ipython3",
   "version": "3.12.0"
  }
 },
 "nbformat": 4,
 "nbformat_minor": 2
}
