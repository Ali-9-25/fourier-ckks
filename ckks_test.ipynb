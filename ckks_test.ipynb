{
 "cells": [
  {
   "cell_type": "code",
   "execution_count": 1,
   "metadata": {},
   "outputs": [],
   "source": [
    "from ckks.ckks_parameters import CKKSParameters\n",
    "from ckks.ckks_key_generator import CKKSKeyGenerator\n",
    "from util.polynomial import Polynomial\n",
    "from ckks.ckks_decryptor import CKKSDecryptor\n",
    "from ckks.ckks_encryptor import CKKSEncryptor\n",
    "from ckks.ckks_evaluator import CKKSEvaluator\n",
    "from util.plaintext import Plaintext\n",
    "import numpy as np"
   ]
  },
  {
   "cell_type": "markdown",
   "metadata": {},
   "source": [
    "# Test 1: CKKS Roundrip"
   ]
  },
  {
   "cell_type": "code",
   "execution_count": 2,
   "metadata": {},
   "outputs": [
    {
     "name": "stdout",
     "output_type": "stream",
     "text": [
      "Message length: 4096\n",
      "First 5 elements: [(4+0j), (4+0j), (4+0j), (4+0j), (4+0j)]\n"
     ]
    },
    {
     "ename": "KeyboardInterrupt",
     "evalue": "",
     "output_type": "error",
     "traceback": [
      "\u001b[1;31m---------------------------------------------------------------------------\u001b[0m",
      "\u001b[1;31mKeyboardInterrupt\u001b[0m                         Traceback (most recent call last)",
      "Cell \u001b[1;32mIn[2], line 23\u001b[0m\n\u001b[0;32m     19\u001b[0m encoder \u001b[38;5;241m=\u001b[39m CKKSEncoder(params) \u001b[38;5;66;03m# Contains encode and decode functions\u001b[39;00m\n\u001b[0;32m     20\u001b[0m poly \u001b[38;5;241m=\u001b[39m encoder\u001b[38;5;241m.\u001b[39mencode(message, params\u001b[38;5;241m.\u001b[39mscaling_factor)\n\u001b[1;32m---> 23\u001b[0m key_generator \u001b[38;5;241m=\u001b[39m \u001b[43mCKKSKeyGenerator\u001b[49m\u001b[43m(\u001b[49m\u001b[43mparams\u001b[49m\u001b[43m)\u001b[49m\n\u001b[0;32m     24\u001b[0m public_key \u001b[38;5;241m=\u001b[39m key_generator\u001b[38;5;241m.\u001b[39mpublic_key\n\u001b[0;32m     25\u001b[0m secret_key \u001b[38;5;241m=\u001b[39m key_generator\u001b[38;5;241m.\u001b[39msecret_key\n",
      "File \u001b[1;32md:\\CUFE\\Parallel\\Project\\fourier-ckks\\ckks\\ckks_key_generator.py:38\u001b[0m, in \u001b[0;36mCKKSKeyGenerator.__init__\u001b[1;34m(self, params)\u001b[0m\n\u001b[0;32m     36\u001b[0m \u001b[38;5;28mself\u001b[39m\u001b[38;5;241m.\u001b[39mgenerate_secret_key(params)\n\u001b[0;32m     37\u001b[0m \u001b[38;5;28mself\u001b[39m\u001b[38;5;241m.\u001b[39mgenerate_public_key(params)\n\u001b[1;32m---> 38\u001b[0m \u001b[38;5;28;43mself\u001b[39;49m\u001b[38;5;241;43m.\u001b[39;49m\u001b[43mgenerate_relin_key\u001b[49m\u001b[43m(\u001b[49m\u001b[43mparams\u001b[49m\u001b[43m)\u001b[49m\n",
      "File \u001b[1;32md:\\CUFE\\Parallel\\Project\\fourier-ckks\\ckks\\ckks_key_generator.py:107\u001b[0m, in \u001b[0;36mCKKSKeyGenerator.generate_relin_key\u001b[1;34m(self, params)\u001b[0m\n\u001b[0;32m    104\u001b[0m sk_squared \u001b[38;5;241m=\u001b[39m \u001b[38;5;28mself\u001b[39m\u001b[38;5;241m.\u001b[39msecret_key\u001b[38;5;241m.\u001b[39ms\u001b[38;5;241m.\u001b[39mmultiply(\n\u001b[0;32m    105\u001b[0m     \u001b[38;5;28mself\u001b[39m\u001b[38;5;241m.\u001b[39msecret_key\u001b[38;5;241m.\u001b[39ms, \u001b[38;5;28mself\u001b[39m\u001b[38;5;241m.\u001b[39mparams\u001b[38;5;241m.\u001b[39mbig_modulus)  \u001b[38;5;66;03m# s^2\u001b[39;00m\n\u001b[0;32m    106\u001b[0m \u001b[38;5;66;03m# TODO: Understand later what switching key is\u001b[39;00m\n\u001b[1;32m--> 107\u001b[0m \u001b[38;5;28mself\u001b[39m\u001b[38;5;241m.\u001b[39mrelin_key \u001b[38;5;241m=\u001b[39m \u001b[38;5;28;43mself\u001b[39;49m\u001b[38;5;241;43m.\u001b[39;49m\u001b[43mgenerate_switching_key\u001b[49m\u001b[43m(\u001b[49m\u001b[43msk_squared\u001b[49m\u001b[43m)\u001b[49m\n",
      "File \u001b[1;32md:\\CUFE\\Parallel\\Project\\fourier-ckks\\ckks\\ckks_key_generator.py:89\u001b[0m, in \u001b[0;36mCKKSKeyGenerator.generate_switching_key\u001b[1;34m(self, new_key)\u001b[0m\n\u001b[0;32m     84\u001b[0m swk_coeff \u001b[38;5;241m=\u001b[39m Polynomial(\u001b[38;5;28mself\u001b[39m\u001b[38;5;241m.\u001b[39mparams\u001b[38;5;241m.\u001b[39mpoly_degree, sample_uniform(\n\u001b[0;32m     85\u001b[0m     \u001b[38;5;241m0\u001b[39m, mod_squared, \u001b[38;5;28mself\u001b[39m\u001b[38;5;241m.\u001b[39mparams\u001b[38;5;241m.\u001b[39mpoly_degree))\n\u001b[0;32m     86\u001b[0m swk_error \u001b[38;5;241m=\u001b[39m Polynomial(\u001b[38;5;28mself\u001b[39m\u001b[38;5;241m.\u001b[39mparams\u001b[38;5;241m.\u001b[39mpoly_degree,\n\u001b[0;32m     87\u001b[0m                        sample_triangle(\u001b[38;5;28mself\u001b[39m\u001b[38;5;241m.\u001b[39mparams\u001b[38;5;241m.\u001b[39mpoly_degree))\n\u001b[1;32m---> 89\u001b[0m sw0 \u001b[38;5;241m=\u001b[39m \u001b[43mswk_coeff\u001b[49m\u001b[38;5;241;43m.\u001b[39;49m\u001b[43mmultiply\u001b[49m\u001b[43m(\u001b[49m\u001b[38;5;28;43mself\u001b[39;49m\u001b[38;5;241;43m.\u001b[39;49m\u001b[43msecret_key\u001b[49m\u001b[38;5;241;43m.\u001b[39;49m\u001b[43ms\u001b[49m\u001b[43m,\u001b[49m\u001b[43m \u001b[49m\u001b[43mmod_squared\u001b[49m\u001b[43m)\u001b[49m\n\u001b[0;32m     90\u001b[0m sw0 \u001b[38;5;241m=\u001b[39m sw0\u001b[38;5;241m.\u001b[39mscalar_multiply(\u001b[38;5;241m-\u001b[39m\u001b[38;5;241m1\u001b[39m, mod_squared)\n\u001b[0;32m     91\u001b[0m sw0 \u001b[38;5;241m=\u001b[39m sw0\u001b[38;5;241m.\u001b[39madd(swk_error, mod_squared)\n",
      "File \u001b[1;32md:\\CUFE\\Parallel\\Project\\fourier-ckks\\util\\polynomial.py:111\u001b[0m, in \u001b[0;36mPolynomial.multiply\u001b[1;34m(self, poly, coeff_modulus, ntt, crt)\u001b[0m\n\u001b[0;32m    108\u001b[0m     prod \u001b[38;5;241m=\u001b[39m ntt\u001b[38;5;241m.\u001b[39mftt_inv(ab)\n\u001b[0;32m    109\u001b[0m     \u001b[38;5;28;01mreturn\u001b[39;00m Polynomial(\u001b[38;5;28mself\u001b[39m\u001b[38;5;241m.\u001b[39mring_degree, prod)\n\u001b[1;32m--> 111\u001b[0m \u001b[38;5;28;01mreturn\u001b[39;00m \u001b[38;5;28;43mself\u001b[39;49m\u001b[38;5;241;43m.\u001b[39;49m\u001b[43mmultiply_naive\u001b[49m\u001b[43m(\u001b[49m\u001b[43mpoly\u001b[49m\u001b[43m,\u001b[49m\u001b[43m \u001b[49m\u001b[43mcoeff_modulus\u001b[49m\u001b[43m)\u001b[49m\n",
      "File \u001b[1;32md:\\CUFE\\Parallel\\Project\\fourier-ckks\\util\\polynomial.py:212\u001b[0m, in \u001b[0;36mPolynomial.multiply_naive\u001b[1;34m(self, poly, coeff_modulus)\u001b[0m\n\u001b[0;32m    210\u001b[0m \u001b[38;5;28;01mfor\u001b[39;00m i \u001b[38;5;129;01min\u001b[39;00m \u001b[38;5;28mrange\u001b[39m(\u001b[38;5;28mself\u001b[39m\u001b[38;5;241m.\u001b[39mring_degree):\n\u001b[0;32m    211\u001b[0m     \u001b[38;5;28;01mif\u001b[39;00m \u001b[38;5;241m0\u001b[39m \u001b[38;5;241m<\u001b[39m\u001b[38;5;241m=\u001b[39m d \u001b[38;5;241m-\u001b[39m i \u001b[38;5;241m<\u001b[39m \u001b[38;5;28mself\u001b[39m\u001b[38;5;241m.\u001b[39mring_degree:\n\u001b[1;32m--> 212\u001b[0m         coeff \u001b[38;5;241m+\u001b[39m\u001b[38;5;241m=\u001b[39m \u001b[38;5;28mself\u001b[39m\u001b[38;5;241m.\u001b[39mcoeffs[i] \u001b[38;5;241m*\u001b[39m poly\u001b[38;5;241m.\u001b[39mcoeffs[d \u001b[38;5;241m-\u001b[39m i]\n\u001b[0;32m    213\u001b[0m poly_prod\u001b[38;5;241m.\u001b[39mcoeffs[index] \u001b[38;5;241m+\u001b[39m\u001b[38;5;241m=\u001b[39m sign \u001b[38;5;241m*\u001b[39m coeff\n\u001b[0;32m    215\u001b[0m \u001b[38;5;28;01mif\u001b[39;00m coeff_modulus:\n",
      "\u001b[1;31mKeyboardInterrupt\u001b[0m: "
     ]
    }
   ],
   "source": [
    "# Test setup\n",
    "from ckks.ckks_encoder import CKKSEncoder\n",
    "\n",
    "\n",
    "poly_degree = 8192 # Must be a power of 2\n",
    "ciph_modulus = 1 << 40\n",
    "big_modulus = 1 << 1200 # Used for bootstrapping\n",
    "scaling_factor = 1 << 30\n",
    "params = CKKSParameters(poly_degree=poly_degree,\n",
    "                        ciph_modulus=ciph_modulus,\n",
    "                        big_modulus=big_modulus,\n",
    "                        scaling_factor=scaling_factor)\n",
    "# Message length must be half of poly_degree\n",
    "message = [4.0 + 0j] * (poly_degree // 2)\n",
    "print(\"Message length:\", len(message))\n",
    "print(\"First 5 elements:\", message[:5])\n",
    "\n",
    "\n",
    "encoder = CKKSEncoder(params) # Contains encode and decode functions\n",
    "poly = encoder.encode(message, params.scaling_factor)\n",
    "\n",
    "\n",
    "key_generator = CKKSKeyGenerator(params)\n",
    "public_key = key_generator.public_key\n",
    "secret_key = key_generator.secret_key\n",
    "\n",
    "\n",
    "encryptor = CKKSEncryptor(params, public_key, secret_key)\n",
    "encrypted_poly = encryptor.encrypt(poly)\n",
    "\n",
    "decryptor = CKKSDecryptor(params, secret_key)\n",
    "decrypted_poly = decryptor.decrypt(encrypted_poly)\n",
    "\n",
    "decoded_message = encoder.decode(decrypted_poly)\n",
    "print(\"Decoded message length:\", len(decoded_message))\n",
    "print(\"First 5 elements of decoded message:\", decoded_message[:5])\n",
    "\n",
    "\n",
    "assert len(decoded_message) == len(message), \"Decoded message has incorrect length\"\n",
    "print(\"Decoded message matches original within tolerance:\", np.allclose(decoded_message, message, atol=1e-1, rtol=1e-1))\n"
   ]
  },
  {
   "cell_type": "markdown",
   "metadata": {},
   "source": [
    "# Test 2: Addition Is Homomorphic"
   ]
  },
  {
   "cell_type": "code",
   "execution_count": null,
   "metadata": {},
   "outputs": [
    {
     "name": "stdout",
     "output_type": "stream",
     "text": [
      "Message1 length: 4096\n",
      "Message2 length: 4096\n",
      "First 5 elements of message1: [(4+0j), (4+0j), (4+0j), (4+0j), (4+0j)]\n",
      "First 5 elements of message2: [(3+0j), (3+0j), (3+0j), (3+0j), (3+0j)]\n",
      "True message sum length: 4096\n",
      "First 5 elements of true sum: [(7+0j), (7+0j), (7+0j), (7+0j), (7+0j)]\n",
      "First 5 elements of decoded sum: [(6.999998500662044-6.755260389074877e-07j), (7.000005640644219-2.998539399498932e-06j), (6.999999784578556-4.941830954177475e-06j), (7.000001408346991-3.117330884167564e-06j), (6.9999968471263045+5.778340193867105e-07j)]\n",
      "Addition is homomorphic: True\n"
     ]
    }
   ],
   "source": [
    "# Test setup\n",
    "\n",
    "poly_degree = 8192 # Must be a power of 2\n",
    "ciph_modulus = 1 << 40\n",
    "big_modulus = 1 << 1200 # Used for bootstrapping\n",
    "scaling_factor = 1 << 30\n",
    "params = CKKSParameters(poly_degree=poly_degree,\n",
    "                        ciph_modulus=ciph_modulus,\n",
    "                        big_modulus=big_modulus,\n",
    "                        scaling_factor=scaling_factor)\n",
    "# Message length must be half of poly_degree\n",
    "message1 = [4.0 + 0j] * (poly_degree // 2)\n",
    "message2 = [3.0 + 0j] * (poly_degree // 2)\n",
    "print(\"Message1 length:\", len(message1))\n",
    "print(\"Message2 length:\", len(message2))\n",
    "print(\"First 5 elements of message1:\", message1[:5])\n",
    "print(\"First 5 elements of message2:\", message2[:5])\n",
    "\n",
    "\n",
    "\n",
    "key_generator = CKKSKeyGenerator(params)\n",
    "public_key = key_generator.public_key\n",
    "secret_key = key_generator.secret_key\n",
    "\n",
    "encoder = CKKSEncoder(params) # Contains encode and decode functions\n",
    "plain_poly1 = encoder.encode(message1, params.scaling_factor)\n",
    "plain_poly2 = encoder.encode(message2, params.scaling_factor)\n",
    "\n",
    "\n",
    "encryptor = CKKSEncryptor(params, public_key, secret_key)\n",
    "encrypted_poly1 = encryptor.encrypt(plain_poly1)\n",
    "encrypted_poly2 = encryptor.encrypt(plain_poly2)\n",
    "\n",
    "evaluator = CKKSEvaluator(params)\n",
    "encrypted_message_sum = evaluator.add(encrypted_poly1, encrypted_poly2)\n",
    "\n",
    "decryptor = CKKSDecryptor(params, secret_key)\n",
    "decrypted_message_sum = decryptor.decrypt(encrypted_message_sum)\n",
    "\n",
    "decoded_message_sum = encoder.decode(decrypted_message_sum)\n",
    "\n",
    "true_message_sum = [m1 + m2 for m1, m2 in zip(message1, message2)]\n",
    "print(\"True message sum length:\", len(true_message_sum))\n",
    "print(\"First 5 elements of true sum:\", true_message_sum[:5])\n",
    "print(\"First 5 elements of decoded sum:\", decoded_message_sum[:5])\n",
    "\n",
    "\n",
    "\n",
    "assert len(decoded_message_sum) == len(true_message_sum), \"Decoded message has incorrect length\"\n",
    "print(\"Addition is homomorphic:\", np.allclose(decoded_message_sum, true_message_sum,  rtol=1e-2, atol=1e-1))  "
   ]
  },
  {
   "cell_type": "markdown",
   "metadata": {},
   "source": [
    "# Test 3: Multiplication Is Homomorphic"
   ]
  },
  {
   "cell_type": "code",
   "execution_count": null,
   "metadata": {},
   "outputs": [
    {
     "name": "stdout",
     "output_type": "stream",
     "text": [
      "Message1 length: 4096\n",
      "Message2 length: 4096\n",
      "First 5 elements of message1: [(4+0j), (4+0j), (4+0j), (4+0j), (4+0j)]\n",
      "First 5 elements of message2: [(3+0j), (3+0j), (3+0j), (3+0j), (3+0j)]\n",
      "Decoded message product length: 4096\n",
      "First 5 elements of decoded product: [(12.000017330717952+1.8000333968012113e-05j), (12.000018105488307-2.2941719496983527e-05j), (11.999992375930299-5.300478966964159e-06j), (12.00003150215366-3.5393945333136374e-05j), (11.999979730315504+2.6520856035226214e-06j)]\n",
      "True message product length: 4096\n",
      "First 5 elements of true product: [(12+0j), (12+0j), (12+0j), (12+0j), (12+0j)]\n",
      "Multiplication is homomorphic: True\n"
     ]
    }
   ],
   "source": [
    "# Test setup\n",
    "\n",
    "\n",
    "poly_degree = 8192 # Must be a power of 2\n",
    "# NOTE: ciph_modulus of 1 << 40 is too small and produces innacurate results\n",
    "ciph_modulus = 1 << 800\n",
    "big_modulus = 1 << 1200\n",
    "scaling_factor = 1 << 30\n",
    "params = CKKSParameters(poly_degree=poly_degree,\n",
    "                        ciph_modulus=ciph_modulus,\n",
    "                        big_modulus=big_modulus,\n",
    "                        scaling_factor=scaling_factor)\n",
    "# Message length must be half of poly_degree\n",
    "message1 = [4.0 + 0j] * (poly_degree // 2)\n",
    "message2 = [3.0 + 0j] * (poly_degree // 2)\n",
    "print(\"Message1 length:\", len(message1))\n",
    "print(\"Message2 length:\", len(message2))\n",
    "print(\"First 5 elements of message1:\", message1[:5])\n",
    "print(\"First 5 elements of message2:\", message2[:5])\n",
    "\n",
    "\n",
    "\n",
    "poly_product = plain_poly1.poly.multiply_naive(plain_poly2.poly) # NOTE: for some reason modding using ciph_modulus doesnt work\n",
    "plain_poly_product = Plaintext(poly_product, params.scaling_factor)\n",
    "\n",
    "key_generator = CKKSKeyGenerator(params)\n",
    "public_key = key_generator.public_key\n",
    "secret_key = key_generator.secret_key\n",
    "relin_key = key_generator.relin_key\n",
    "\n",
    "encoder = CKKSEncoder(params) # Contains encode and decode functions\n",
    "plain_poly1 = encoder.encode(message1, params.scaling_factor)\n",
    "plain_poly2 = encoder.encode(message2, params.scaling_factor)\n",
    "\n",
    "\n",
    "\n",
    "encryptor = CKKSEncryptor(params, public_key, secret_key)\n",
    "encrypted_poly1 = encryptor.encrypt(plain_poly1)\n",
    "encrypted_poly2 = encryptor.encrypt(plain_poly2)\n",
    "\n",
    "evaluator = CKKSEvaluator(params)\n",
    "encrypted_poly_product = evaluator.multiply(encrypted_poly1, encrypted_poly2, relin_key)\n",
    "\n",
    "decryptor = CKKSDecryptor(params, secret_key)\n",
    "decrypted_poly_product = decryptor.decrypt(encrypted_poly_product)\n",
    "\n",
    "decoded_message_product = encoder.decode(decrypted_poly_product)\n",
    "print(\"Decoded message product length:\", len(decoded_message_product))\n",
    "print(\"First 5 elements of decoded product:\", decoded_message_product[:5])\n",
    "\n",
    "true_message_product = [m1 * m2 for m1, m2 in zip(message1, message2)]\n",
    "print(\"True message product length:\", len(true_message_product))\n",
    "print(\"First 5 elements of true product:\", true_message_product[:5])\n",
    "\n",
    "assert len(decoded_message_product) == len(true_message_product), \"Decoded message has incorrect length\"\n",
    "print(\"Multiplication is homomorphic:\", np.allclose(decoded_message_product, true_message_product,  rtol=1e-2, atol=1e-1))  "
   ]
  }
 ],
 "metadata": {
  "kernelspec": {
   "display_name": "cfe",
   "language": "python",
   "name": "python3"
  },
  "language_info": {
   "codemirror_mode": {
    "name": "ipython",
    "version": 3
   },
   "file_extension": ".py",
   "mimetype": "text/x-python",
   "name": "python",
   "nbconvert_exporter": "python",
   "pygments_lexer": "ipython3",
   "version": "3.9.21"
  }
 },
 "nbformat": 4,
 "nbformat_minor": 2
}
