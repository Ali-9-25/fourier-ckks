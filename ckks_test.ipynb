{
 "cells": [
  {
   "cell_type": "code",
   "execution_count": 1,
   "metadata": {},
   "outputs": [],
   "source": [
    "from ckks.ckks_parameters import CKKSParameters\n",
    "from ckks.ckks_key_generator import CKKSKeyGenerator\n",
    "from util.polynomial import Polynomial\n",
    "from ckks.ckks_decryptor import CKKSDecryptor\n",
    "from ckks.ckks_encryptor import CKKSEncryptor\n",
    "from ckks.ckks_evaluator import CKKSEvaluator\n",
    "from util.plaintext import Plaintext\n",
    "import numpy as np"
   ]
  },
  {
   "cell_type": "markdown",
   "metadata": {},
   "source": [
    "# Test 1: CKKS Roundrip"
   ]
  },
  {
   "cell_type": "code",
   "execution_count": 2,
   "metadata": {},
   "outputs": [
    {
     "name": "stdout",
     "output_type": "stream",
     "text": [
      "Message: [(4+0j), (3+0j)]\n",
      "Decoded message: [(3.999999998686854+6.585445244677857e-10j), (3.000000001313146-6.585445244677857e-10j)]\n",
      "Decoded message matches original within tolerance: True\n"
     ]
    }
   ],
   "source": [
    "# Test setup\n",
    "from ckks.ckks_encoder import CKKSEncoder\n",
    "\n",
    "\n",
    "poly_degree = 4\n",
    "ciph_modulus = 1 << 40\n",
    "big_modulus = 1 << 1200 # Used for bootstrapping\n",
    "scaling_factor = 1 << 30\n",
    "params = CKKSParameters(poly_degree=poly_degree,\n",
    "                        ciph_modulus=ciph_modulus,\n",
    "                        big_modulus=big_modulus,\n",
    "                        scaling_factor=scaling_factor)\n",
    "message = [4.0 + 0j, 3 + 0j]\n",
    "print(\"Message:\", message)\n",
    "\n",
    "\n",
    "encoder = CKKSEncoder(params) # Contains encode and decode functions\n",
    "poly = encoder.encode(message, params.scaling_factor)\n",
    "# print(\"Encoded polynomial:\", str(poly))\n",
    "\n",
    "\n",
    "key_generator = CKKSKeyGenerator(params)\n",
    "public_key = key_generator.public_key\n",
    "secret_key = key_generator.secret_key\n",
    "\n",
    "\n",
    "encryptor = CKKSEncryptor(params, public_key, secret_key)\n",
    "encrypted_poly = encryptor.encrypt(poly)\n",
    "# print(\"Encrypted polynomial:\", str(encrypted_poly) )\n",
    "\n",
    "decryptor = CKKSDecryptor(params, secret_key)\n",
    "decrypted_poly = decryptor.decrypt(encrypted_poly)\n",
    "# print(\"Decrypted polynomial:\", str(decrypted_poly) )\n",
    "\n",
    "decoded_message = encoder.decode(poly)\n",
    "print(\"Decoded message:\", decoded_message)\n",
    "\n",
    "\n",
    "assert len(decoded_message) == len(message), \"Decoded message has incorrect length\"\n",
    "print(\"Decoded message matches original within tolerance:\", np.allclose(decoded_message, message, atol=1e-1, rtol=1e-1))\n"
   ]
  },
  {
   "cell_type": "markdown",
   "metadata": {},
   "source": [
    "# Test 2: Addition Is Homomorphic"
   ]
  },
  {
   "cell_type": "code",
   "execution_count": null,
   "metadata": {},
   "outputs": [
    {
     "name": "stdout",
     "output_type": "stream",
     "text": [
      "Message1: [(4+0j), (3+0j)]\n",
      "Message2: [(4+0j), (3+0j)]\n",
      "True message sum: [(8+0j), (6+0j)]\n",
      "Decoded message Sum: [(7.999999999894898+1.5898670713276886e-09j), (6.000000003830392+2.7277807790326847e-10j)]\n",
      "Addition is homomorphic: True\n"
     ]
    }
   ],
   "source": [
    "# Test setup\n",
    "\n",
    "poly_degree = 4\n",
    "ciph_modulus = 1 << 40\n",
    "big_modulus = 1 << 1200 # Used for bootstrapping\n",
    "scaling_factor = 1 << 30\n",
    "params = CKKSParameters(poly_degree=poly_degree,\n",
    "                        ciph_modulus=ciph_modulus,\n",
    "                        big_modulus=big_modulus,\n",
    "                        scaling_factor=scaling_factor)\n",
    "message1 = [4.0 + 0j, 3 + 0j]\n",
    "print(\"Message1:\", message)\n",
    "message2 = [4.0 + 0j, 3 + 0j]\n",
    "print(\"Message2:\", message)\n",
    "\n",
    "\n",
    "\n",
    "key_generator = CKKSKeyGenerator(params)\n",
    "public_key = key_generator.public_key\n",
    "secret_key = key_generator.secret_key\n",
    "\n",
    "encoder = CKKSEncoder(params) # Contains encode and decode functions\n",
    "plain_poly1 = encoder.encode(message1, params.scaling_factor)\n",
    "plain_poly2 = encoder.encode(message2, params.scaling_factor)\n",
    "\n",
    "\n",
    "encryptor = CKKSEncryptor(params, public_key, secret_key)\n",
    "encrypted_poly1 = encryptor.encrypt(plain_poly1)\n",
    "encrypted_poly2 = encryptor.encrypt(plain_poly2)\n",
    "\n",
    "evaluator = CKKSEvaluator(params)\n",
    "encrypted_message_sum = evaluator.add(encrypted_poly1, encrypted_poly2)\n",
    "\n",
    "decryptor = CKKSDecryptor(params, secret_key)\n",
    "decrypted_message_sum = decryptor.decrypt(encrypted_message_sum)\n",
    "\n",
    "decoded_message_sum = encoder.decode(decrypted_message_sum)\n",
    "\n",
    "true_message_sum = [m1 + m2 for m1, m2 in zip(message1, message2)]\n",
    "print(\"True message sum:\", true_message_sum)\n",
    "\n",
    "\n",
    "print(\"Decoded message Sum:\", str(decoded_message_sum) )\n",
    "\n",
    "assert len(decoded_message_sum) == len(true_message_sum), \"Decoded message has incorrect length\"\n",
    "print(\"Addition is homomorphic:\", np.allclose(decoded_message_sum, true_message_sum,  rtol=1e-2, atol=1e-1))  "
   ]
  },
  {
   "cell_type": "markdown",
   "metadata": {},
   "source": [
    "# Test 3: Multiplication Is Homomorphic"
   ]
  },
  {
   "cell_type": "code",
   "execution_count": null,
   "metadata": {},
   "outputs": [
    {
     "name": "stdout",
     "output_type": "stream",
     "text": [
      "Message1: [(4+0j), (3+0j)]\n",
      "Message2: [(4+0j), (3+0j)]\n",
      "Decoded message product: [(15.99999999212901+1.3170890154554082e-08j), (9.00000000590324-9.878167618951328e-09j)]\n",
      "True message product: [(16+0j), (9+0j)]\n",
      "Multiplication is homomorphic: True\n"
     ]
    }
   ],
   "source": [
    "# Test setup\n",
    "\n",
    "\n",
    "poly_degree = 4\n",
    "# NOTE: ciph_modulus of 1 << 40 is too small and produces innacurate results\n",
    "ciph_modulus = 1 << 800\n",
    "big_modulus = 1 << 1200\n",
    "scaling_factor = 1 << 30\n",
    "params = CKKSParameters(poly_degree=poly_degree,\n",
    "                        ciph_modulus=ciph_modulus,\n",
    "                        big_modulus=big_modulus,\n",
    "                        scaling_factor=scaling_factor)\n",
    "message1 = [4.0 + 0j, 3 + 0j]\n",
    "print(\"Message1:\", message)\n",
    "message2 = [4.0 + 0j, 3 + 0j]\n",
    "print(\"Message2:\", message)\n",
    "\n",
    "\n",
    "poly_product = plain_poly1.poly.multiply_naive(plain_poly2.poly) # NOTE: for some reason modding using ciph_modulus doesnt work\n",
    "plain_poly_product = Plaintext(poly_product, params.scaling_factor)\n",
    "\n",
    "key_generator = CKKSKeyGenerator(params)\n",
    "public_key = key_generator.public_key\n",
    "secret_key = key_generator.secret_key\n",
    "relin_key = key_generator.relin_key\n",
    "\n",
    "encoder = CKKSEncoder(params) # Contains encode and decode functions\n",
    "plain_poly1 = encoder.encode(message1, params.scaling_factor)\n",
    "plain_poly2 = encoder.encode(message2, params.scaling_factor)\n",
    "\n",
    "\n",
    "\n",
    "encryptor = CKKSEncryptor(params, public_key, secret_key)\n",
    "encrypted_poly1 = encryptor.encrypt(plain_poly1)\n",
    "encrypted_poly2 = encryptor.encrypt(plain_poly2)\n",
    "\n",
    "evaluator = CKKSEvaluator(params)\n",
    "encrypted_poly_product = evaluator.multiply(encrypted_poly1, encrypted_poly2, relin_key)\n",
    "\n",
    "decryptor = CKKSDecryptor(params, secret_key)\n",
    "decrypted_poly_product = decryptor.decrypt(encrypted_poly_product)\n",
    "\n",
    "decoded_message_product = encoder.decode(decrypted_poly_product)\n",
    "print(\"Decoded message product:\", str(decoded_message_product) )\n",
    "\n",
    "true_message_product = [m1 * m2 for m1, m2 in zip(message1, message2)]\n",
    "print(\"True message product:\", true_message_product)\n",
    "\n",
    "assert len(decoded_message_product) == len(true_message_product), \"Decoded message has incorrect length\"\n",
    "print(\"Multiplication is homomorphic:\", np.allclose(decoded_message_product, true_message_product,  rtol=1e-2, atol=1e-1))  "
   ]
  }
 ],
 "metadata": {
  "kernelspec": {
   "display_name": "Python 3",
   "language": "python",
   "name": "python3"
  },
  "language_info": {
   "codemirror_mode": {
    "name": "ipython",
    "version": 3
   },
   "file_extension": ".py",
   "mimetype": "text/x-python",
   "name": "python",
   "nbconvert_exporter": "python",
   "pygments_lexer": "ipython3",
   "version": "3.12.0"
  }
 },
 "nbformat": 4,
 "nbformat_minor": 2
}
