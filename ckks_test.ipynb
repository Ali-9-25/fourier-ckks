{
 "cells": [
  {
   "cell_type": "code",
   "execution_count": 1,
   "metadata": {},
   "outputs": [],
   "source": [
    "from ckks.ckks_parameters import CKKSParameters\n",
    "from ckks.ckks_key_generator import CKKSKeyGenerator\n",
    "from util.polynomial import Polynomial\n",
    "from ckks.ckks_decryptor import CKKSDecryptor\n",
    "from ckks.ckks_encryptor import CKKSEncryptor\n",
    "from ckks.ckks_evaluator import CKKSEvaluator\n",
    "from util.plaintext import Plaintext\n",
    "from ckks.ckks_encoder import CKKSEncoder\n",
    "import numpy as np"
   ]
  },
  {
   "cell_type": "markdown",
   "metadata": {},
   "source": [
    "# Test 1: CKKS Roundrip"
   ]
  },
  {
   "cell_type": "code",
   "execution_count": 2,
   "metadata": {},
   "outputs": [
    {
     "name": "stdout",
     "output_type": "stream",
     "text": [
      "Message length: 4096\n",
      "First 5 elements: [(4+0j), (4+0j), (4+0j), (4+0j), (4+0j)]\n",
      "PARALLEL!!!!!!\n",
      "PARALLEL!!!!!!\n",
      "PARALLEL!!!!!!\n"
     ]
    }
   ],
   "source": [
    "poly_degree = 8192 # Must be a power of 2\n",
    "ciph_modulus = 1 << 40\n",
    "big_modulus = 1 << 1200 # Used for bootstrapping\n",
    "scaling_factor = 1 << 30\n",
    "params = CKKSParameters(poly_degree=poly_degree,\n",
    "                        ciph_modulus=ciph_modulus,\n",
    "                        big_modulus=big_modulus,\n",
    "                        scaling_factor=scaling_factor,\n",
    "                        prime_size=30)\n",
    "\n",
    "# Message length must be half of poly_degree\n",
    "message = [4.0 + 0j] * (poly_degree // 2)\n",
    "print(\"Message length:\", len(message))\n",
    "print(\"First 5 elements:\", message[:5])\n",
    "\n",
    "\n",
    "encoder = CKKSEncoder(params) # Contains encode and decode functions\n",
    "poly = encoder.encode(message, params.scaling_factor)\n",
    "\n",
    "\n",
    "key_generator = CKKSKeyGenerator(params)\n",
    "public_key = key_generator.public_key\n",
    "secret_key = key_generator.secret_key"
   ]
  },
  {
   "cell_type": "code",
   "execution_count": 3,
   "metadata": {},
   "outputs": [
    {
     "name": "stdout",
     "output_type": "stream",
     "text": [
      "PARALLEL!!!!!!\n",
      "PARALLEL!!!!!!\n",
      "PARALLEL!!!!!!\n",
      "Decoded message length: 4096\n",
      "First 5 elements of decoded message: [(4.000001904021996-6.554681651236348e-06j), (3.9999941243178276+6.6090800225138895e-06j), (4.000002829457428+2.5259919468662393e-06j), (4.000005138570792-2.2972318917028285e-06j), (4.000003010835665+3.7158031367797663e-06j)]\n",
      "Decoded message matches original within tolerance: True\n"
     ]
    }
   ],
   "source": [
    "encryptor = CKKSEncryptor(params, public_key, secret_key)\n",
    "encrypted_poly = encryptor.encrypt(poly)\n",
    "\n",
    "decryptor = CKKSDecryptor(params, secret_key)\n",
    "decrypted_poly = decryptor.decrypt(encrypted_poly)\n",
    "\n",
    "decoded_message = encoder.decode(decrypted_poly)\n",
    "print(\"Decoded message length:\", len(decoded_message))\n",
    "print(\"First 5 elements of decoded message:\", decoded_message[:5])\n",
    "\n",
    "\n",
    "assert len(decoded_message) == len(message), \"Decoded message has incorrect length\"\n",
    "print(\"Decoded message matches original within tolerance:\", np.allclose(decoded_message, message, atol=1e-1, rtol=1e-1))\n"
   ]
  },
  {
   "cell_type": "markdown",
   "metadata": {},
   "source": [
    "# Test 2: Addition Is Homomorphic"
   ]
  },
  {
   "cell_type": "code",
   "execution_count": 4,
   "metadata": {},
   "outputs": [
    {
     "name": "stdout",
     "output_type": "stream",
     "text": [
      "Message1 length: 4096\n",
      "Message2 length: 4096\n",
      "First 5 elements of message1: [(4+0j), (4+0j), (4+0j), (4+0j), (4+0j)]\n",
      "First 5 elements of message2: [(3+0j), (3+0j), (3+0j), (3+0j), (3+0j)]\n",
      "PARALLEL!!!!!!\n",
      "PARALLEL!!!!!!\n",
      "PARALLEL!!!!!!\n"
     ]
    }
   ],
   "source": [
    "# Test setup\n",
    "\n",
    "poly_degree = 8192 # Must be a power of 2\n",
    "ciph_modulus = 1 << 40\n",
    "big_modulus = 1 << 1200 # Used for bootstrapping\n",
    "scaling_factor = 1 << 30\n",
    "params = CKKSParameters(poly_degree=poly_degree,\n",
    "                        ciph_modulus=ciph_modulus,\n",
    "                        big_modulus=big_modulus,\n",
    "                        scaling_factor=scaling_factor,\n",
    "                        prime_size=30)\n",
    "\n",
    "# Message length must be half of poly_degree\n",
    "message1 = [4.0 + 0j] * (poly_degree // 2)\n",
    "message2 = [3.0 + 0j] * (poly_degree // 2)\n",
    "print(\"Message1 length:\", len(message1))\n",
    "print(\"Message2 length:\", len(message2))\n",
    "print(\"First 5 elements of message1:\", message1[:5])\n",
    "print(\"First 5 elements of message2:\", message2[:5])\n",
    "\n",
    "\n",
    "\n",
    "key_generator = CKKSKeyGenerator(params)\n"
   ]
  },
  {
   "cell_type": "code",
   "execution_count": 5,
   "metadata": {},
   "outputs": [
    {
     "name": "stdout",
     "output_type": "stream",
     "text": [
      "PARALLEL!!!!!!\n",
      "PARALLEL!!!!!!\n",
      "PARALLEL!!!!!!\n",
      "PARALLEL!!!!!!\n",
      "PARALLEL!!!!!!\n",
      "True message sum length: 4096\n",
      "First 5 elements of true sum: [(7+0j), (7+0j), (7+0j), (7+0j), (7+0j)]\n",
      "First 5 elements of decoded sum: [(7.000001737205552+1.421503764938773e-06j), (7.000001874691846+3.1939668756214325e-06j), (7.000004765795356+9.390598551747164e-07j), (7.0000056237031245+1.161074560412585e-06j), (7.000005641760131+2.3302905072921035e-06j)]\n",
      "Addition is homomorphic: True\n"
     ]
    }
   ],
   "source": [
    "public_key = key_generator.public_key\n",
    "secret_key = key_generator.secret_key\n",
    "\n",
    "encoder = CKKSEncoder(params) # Contains encode and decode functions\n",
    "plain_poly1 = encoder.encode(message1, params.scaling_factor)\n",
    "plain_poly2 = encoder.encode(message2, params.scaling_factor)\n",
    "\n",
    "\n",
    "encryptor = CKKSEncryptor(params, public_key, secret_key)\n",
    "encrypted_poly1 = encryptor.encrypt(plain_poly1)\n",
    "encrypted_poly2 = encryptor.encrypt(plain_poly2)\n",
    "\n",
    "evaluator = CKKSEvaluator(params)\n",
    "encrypted_message_sum = evaluator.add(encrypted_poly1, encrypted_poly2)\n",
    "\n",
    "decryptor = CKKSDecryptor(params, secret_key)\n",
    "decrypted_message_sum = decryptor.decrypt(encrypted_message_sum)\n",
    "\n",
    "decoded_message_sum = encoder.decode(decrypted_message_sum)\n",
    "\n",
    "true_message_sum = [m1 + m2 for m1, m2 in zip(message1, message2)]\n",
    "print(\"True message sum length:\", len(true_message_sum))\n",
    "print(\"First 5 elements of true sum:\", true_message_sum[:5])\n",
    "print(\"First 5 elements of decoded sum:\", decoded_message_sum[:5])\n",
    "\n",
    "\n",
    "\n",
    "assert len(decoded_message_sum) == len(true_message_sum), \"Decoded message has incorrect length\"\n",
    "print(\"Addition is homomorphic:\", np.allclose(decoded_message_sum, true_message_sum,  rtol=1e-2, atol=1e-1))  "
   ]
  },
  {
   "cell_type": "markdown",
   "metadata": {},
   "source": [
    "# Test 3: Multiplication Is Homomorphic"
   ]
  },
  {
   "cell_type": "code",
   "execution_count": 25,
   "metadata": {},
   "outputs": [
    {
     "name": "stdout",
     "output_type": "stream",
     "text": [
      "Message1 length: 8192\n",
      "Message2 length: 8192\n",
      "First 5 elements of message1: [(4+0j), (4+0j), (4+0j), (4+0j), (4+0j)]\n",
      "First 5 elements of message2: [(3+0j), (3+0j), (3+0j), (3+0j), (3+0j)]\n",
      "PARALLEL!!!!!!\n",
      "PARALLEL!!!!!!\n",
      "PARALLEL!!!!!!\n"
     ]
    }
   ],
   "source": [
    "# Test setup\n",
    "poly_degree = 8192 # Must be a power of 2\n",
    "# NOTE: ciph_modulus of 1 << 40 is too small and produces innacurate results\n",
    "ciph_modulus = 1 << 200\n",
    "big_modulus = 1 << 1200\n",
    "scaling_factor = 1 << 30\n",
    "params = CKKSParameters(poly_degree=poly_degree,\n",
    "                        ciph_modulus=ciph_modulus,\n",
    "                        big_modulus=big_modulus,\n",
    "                        scaling_factor=scaling_factor,\n",
    "                        prime_size=30)\n",
    "# Message length must be half of poly_degree\n",
    "message1 = [4.0 + 0j] * (poly_degree // 2)\n",
    "message2 = [3.0 + 0j] * (poly_degree // 2)\n",
    "print(\"Message1 length:\", len(message1))\n",
    "print(\"Message2 length:\", len(message2))\n",
    "print(\"First 5 elements of message1:\", message1[:5])\n",
    "print(\"First 5 elements of message2:\", message2[:5])\n",
    "\n",
    "\n",
    "\n",
    "poly_product = plain_poly1.poly.multiply_naive(plain_poly2.poly) # NOTE: for some reason modding using ciph_modulus doesnt work\n",
    "plain_poly_product = Plaintext(poly_product, params.scaling_factor)\n",
    "\n",
    "key_generator = CKKSKeyGenerator(params)"
   ]
  },
  {
   "cell_type": "code",
   "execution_count": 26,
   "metadata": {},
   "outputs": [
    {
     "name": "stdout",
     "output_type": "stream",
     "text": [
      "PARALLEL!!!!!!\n",
      "PARALLEL!!!!!!\n",
      "PARALLEL!!!!!!\n",
      "PARALLEL!!!!!!\n",
      "PARALLEL!!!!!!\n",
      "PARALLEL!!!!!!\n",
      "PARALLEL!!!!!!\n",
      "PARALLEL!!!!!!\n",
      "PARALLEL!!!!!!\n",
      "PARALLEL!!!!!!\n",
      "PARALLEL!!!!!!\n",
      "Decoded message product length: 8192\n",
      "First 5 elements of decoded product: [(11.999997352689313-1.8836529372661884e-05j), (11.999988700096845+3.7571629678194707e-06j), (11.999959559030575+4.028346396022141e-06j), (12.000011009101438-2.1647523444951844e-05j), (12.00004018935206-9.405351118770752e-06j)]\n",
      "True message product length: 8192\n",
      "First 5 elements of true product: [(12+0j), (12+0j), (12+0j), (12+0j), (12+0j)]\n",
      "Multiplication is homomorphic: True\n"
     ]
    }
   ],
   "source": [
    "\n",
    "public_key = key_generator.public_key\n",
    "secret_key = key_generator.secret_key\n",
    "relin_key = key_generator.relin_key\n",
    "\n",
    "encoder = CKKSEncoder(params) # Contains encode and decode functions\n",
    "plain_poly1 = encoder.encode(message1, params.scaling_factor)\n",
    "plain_poly2 = encoder.encode(message2, params.scaling_factor)\n",
    "\n",
    "\n",
    "\n",
    "encryptor = CKKSEncryptor(params, public_key, secret_key)\n",
    "encrypted_poly1 = encryptor.encrypt(plain_poly1)\n",
    "encrypted_poly2 = encryptor.encrypt(plain_poly2)\n",
    "\n",
    "evaluator = CKKSEvaluator(params)\n",
    "encrypted_poly_product = evaluator.multiply(encrypted_poly1, encrypted_poly2, relin_key)\n",
    "\n",
    "decryptor = CKKSDecryptor(params, secret_key)\n",
    "decrypted_poly_product = decryptor.decrypt(encrypted_poly_product)\n",
    "\n",
    "decoded_message_product = encoder.decode(decrypted_poly_product)\n",
    "print(\"Decoded message product length:\", len(decoded_message_product))\n",
    "print(\"First 5 elements of decoded product:\", decoded_message_product[:5])\n",
    "\n",
    "true_message_product = [m1 * m2 for m1, m2 in zip(message1, message2)]\n",
    "print(\"True message product length:\", len(true_message_product))\n",
    "print(\"First 5 elements of true product:\", true_message_product[:5])\n",
    "\n",
    "assert len(decoded_message_product) == len(true_message_product), \"Decoded message has incorrect length\"\n",
    "print(\"Multiplication is homomorphic:\", np.allclose(decoded_message_product, true_message_product,  rtol=1e-2, atol=1e-1))  "
   ]
  },
  {
   "cell_type": "code",
   "execution_count": 27,
   "metadata": {},
   "outputs": [
    {
     "name": "stdout",
     "output_type": "stream",
     "text": [
      "PARALLEL!!!!!!\n",
      "PARALLEL!!!!!!\n",
      "PARALLEL!!!!!!\n",
      "PARALLEL!!!!!!\n",
      "PARALLEL!!!!!!\n",
      "PARALLEL!!!!!!\n"
     ]
    }
   ],
   "source": [
    "encrypted_poly_product = evaluator.multiply(encrypted_poly1, encrypted_poly2, relin_key)"
   ]
  },
  {
   "cell_type": "code",
   "execution_count": 28,
   "metadata": {},
   "outputs": [],
   "source": [
    "encrypted_poly_product = evaluator.multiply(encrypted_poly1, encrypted_poly2, relin_key, is_parallel=False)"
   ]
  },
  {
   "cell_type": "code",
   "execution_count": null,
   "metadata": {},
   "outputs": [],
   "source": []
  }
 ],
 "metadata": {
  "kernelspec": {
   "display_name": "cfe",
   "language": "python",
   "name": "python3"
  },
  "language_info": {
   "codemirror_mode": {
    "name": "ipython",
    "version": 3
   },
   "file_extension": ".py",
   "mimetype": "text/x-python",
   "name": "python",
   "nbconvert_exporter": "python",
   "pygments_lexer": "ipython3",
   "version": "3.9.21"
  }
 },
 "nbformat": 4,
 "nbformat_minor": 2
}
