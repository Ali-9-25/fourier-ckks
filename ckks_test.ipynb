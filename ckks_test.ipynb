{
 "cells": [
  {
   "cell_type": "code",
   "execution_count": null,
   "metadata": {},
   "outputs": [],
   "source": [
    "from ckks.ckks_parameters import CKKSParameters\n",
    "from ckks.ckks_key_generator import CKKSKeyGenerator\n",
    "from util.polynomial import Polynomial\n",
    "from ckks.ckks_decryptor import CKKSDecryptor\n",
    "from ckks.ckks_encryptor import CKKSEncryptor\n",
    "from ckks.ckks_evaluator import CKKSEvaluator\n",
    "from util.plaintext import Plaintext\n",
    "from ckks.ckks_encoder import CKKSEncoder\n",
    "import numpy as np"
   ]
  },
  {
   "cell_type": "markdown",
   "metadata": {},
   "source": [
    "# Test 1: CKKS Roundrip"
   ]
  },
  {
   "cell_type": "code",
   "execution_count": 2,
   "metadata": {},
   "outputs": [
    {
     "name": "stdout",
     "output_type": "stream",
     "text": [
      "Message length: 4096\n",
      "First 5 elements: [(4+0j), (4+0j), (4+0j), (4+0j), (4+0j)]\n"
     ]
    }
   ],
   "source": [
    "# Test setup\n",
    "from ckks.ckks_encoder import CKKSEncoder\n",
    "\n",
    "\n",
    "poly_degree = 8192 # Must be a power of 2\n",
    "ciph_modulus = 1 << 40\n",
    "big_modulus = 1 << 1200 # Used for bootstrapping\n",
    "scaling_factor = 1 << 30\n",
    "params = CKKSParameters(poly_degree=poly_degree,\n",
    "                        ciph_modulus=ciph_modulus,\n",
    "                        big_modulus=big_modulus,\n",
    "                        scaling_factor=scaling_factor,\n",
    "                        prime_size=30)\n",
    "\n",
    "# Message length must be half of poly_degree\n",
    "message = [4.0 + 0j] * (poly_degree // 2)\n",
    "print(\"Message length:\", len(message))\n",
    "print(\"First 5 elements:\", message[:5])\n",
    "\n",
    "\n",
    "encoder = CKKSEncoder(params) # Contains encode and decode functions\n",
    "poly = encoder.encode(message, params.scaling_factor)\n",
    "\n",
    "\n",
    "key_generator = CKKSKeyGenerator(params)\n",
    "public_key = key_generator.public_key\n",
    "secret_key = key_generator.secret_key"
   ]
  },
  {
   "cell_type": "code",
   "execution_count": 3,
   "metadata": {},
   "outputs": [
    {
     "name": "stdout",
     "output_type": "stream",
     "text": [
      "PARALLEL!!!!!!\n",
      "PARALLEL!!!!!!\n",
      "PARALLEL!!!!!!\n",
      "Decoded message length: 4096\n",
      "First 5 elements of decoded message: [(4.000000185075158+1.933956379611621e-06j), (4.000004139451005-3.867820841370243e-06j), (4.000006800113919+3.083109651595119e-06j), (3.9999949664073573-3.3080030814388084e-06j), (3.9999924508016846-8.00470612034522e-07j)]\n",
      "Decoded message matches original within tolerance: True\n"
     ]
    }
   ],
   "source": [
    "encryptor = CKKSEncryptor(params, public_key, secret_key)\n",
    "encrypted_poly = encryptor.encrypt(poly)\n",
    "\n",
    "decryptor = CKKSDecryptor(params, secret_key)\n",
    "decrypted_poly = decryptor.decrypt(encrypted_poly)\n",
    "\n",
    "decoded_message = encoder.decode(decrypted_poly)\n",
    "print(\"Decoded message length:\", len(decoded_message))\n",
    "print(\"First 5 elements of decoded message:\", decoded_message[:5])\n",
    "\n",
    "\n",
    "assert len(decoded_message) == len(message), \"Decoded message has incorrect length\"\n",
    "print(\"Decoded message matches original within tolerance:\", np.allclose(decoded_message, message, atol=1e-1, rtol=1e-1))\n"
   ]
  },
  {
   "cell_type": "markdown",
   "metadata": {},
   "source": [
    "# Test 2: Addition Is Homomorphic"
   ]
  },
  {
   "cell_type": "code",
   "execution_count": 4,
   "metadata": {},
   "outputs": [
    {
     "name": "stdout",
     "output_type": "stream",
     "text": [
      "Message1 length: 4096\n",
      "Message2 length: 4096\n",
      "First 5 elements of message1: [(4+0j), (4+0j), (4+0j), (4+0j), (4+0j)]\n",
      "First 5 elements of message2: [(3+0j), (3+0j), (3+0j), (3+0j), (3+0j)]\n"
     ]
    }
   ],
   "source": [
    "# Test setup\n",
    "\n",
    "poly_degree = 8192 # Must be a power of 2\n",
    "ciph_modulus = 1 << 40\n",
    "big_modulus = 1 << 1200 # Used for bootstrapping\n",
    "scaling_factor = 1 << 30\n",
    "params = CKKSParameters(poly_degree=poly_degree,\n",
    "                        ciph_modulus=ciph_modulus,\n",
    "                        big_modulus=big_modulus,\n",
    "                        scaling_factor=scaling_factor,\n",
    "                        prime_size=30)\n",
    "\n",
    "# Message length must be half of poly_degree\n",
    "message1 = [4.0 + 0j] * (poly_degree // 2)\n",
    "message2 = [3.0 + 0j] * (poly_degree // 2)\n",
    "print(\"Message1 length:\", len(message1))\n",
    "print(\"Message2 length:\", len(message2))\n",
    "print(\"First 5 elements of message1:\", message1[:5])\n",
    "print(\"First 5 elements of message2:\", message2[:5])\n",
    "\n",
    "\n",
    "\n",
    "key_generator = CKKSKeyGenerator(params)\n"
   ]
  },
  {
   "cell_type": "code",
   "execution_count": 5,
   "metadata": {},
   "outputs": [
    {
     "name": "stdout",
     "output_type": "stream",
     "text": [
      "PARALLEL!!!!!!\n",
      "PARALLEL!!!!!!\n",
      "PARALLEL!!!!!!\n",
      "PARALLEL!!!!!!\n",
      "PARALLEL!!!!!!\n",
      "True message sum length: 4096\n",
      "First 5 elements of true sum: [(7+0j), (7+0j), (7+0j), (7+0j), (7+0j)]\n",
      "First 5 elements of decoded sum: [(6.999989149448134-4.000147575452434e-06j), (7.0000019968668665-1.8594009908065413e-07j), (6.999998372754779+1.64102787474478e-06j), (6.9999998979573785-3.1251035289926032e-06j), (6.9999995124693974+2.091162182569466e-07j)]\n",
      "Addition is homomorphic: True\n"
     ]
    }
   ],
   "source": [
    "public_key = key_generator.public_key\n",
    "secret_key = key_generator.secret_key\n",
    "\n",
    "encoder = CKKSEncoder(params) # Contains encode and decode functions\n",
    "plain_poly1 = encoder.encode(message1, params.scaling_factor)\n",
    "plain_poly2 = encoder.encode(message2, params.scaling_factor)\n",
    "\n",
    "\n",
    "encryptor = CKKSEncryptor(params, public_key, secret_key)\n",
    "encrypted_poly1 = encryptor.encrypt(plain_poly1)\n",
    "encrypted_poly2 = encryptor.encrypt(plain_poly2)\n",
    "\n",
    "evaluator = CKKSEvaluator(params)\n",
    "encrypted_message_sum = evaluator.add(encrypted_poly1, encrypted_poly2)\n",
    "\n",
    "decryptor = CKKSDecryptor(params, secret_key)\n",
    "decrypted_message_sum = decryptor.decrypt(encrypted_message_sum)\n",
    "\n",
    "decoded_message_sum = encoder.decode(decrypted_message_sum)\n",
    "\n",
    "true_message_sum = [m1 + m2 for m1, m2 in zip(message1, message2)]\n",
    "print(\"True message sum length:\", len(true_message_sum))\n",
    "print(\"First 5 elements of true sum:\", true_message_sum[:5])\n",
    "print(\"First 5 elements of decoded sum:\", decoded_message_sum[:5])\n",
    "\n",
    "\n",
    "\n",
    "assert len(decoded_message_sum) == len(true_message_sum), \"Decoded message has incorrect length\"\n",
    "print(\"Addition is homomorphic:\", np.allclose(decoded_message_sum, true_message_sum,  rtol=1e-2, atol=1e-1))  "
   ]
  },
  {
   "cell_type": "markdown",
   "metadata": {},
   "source": [
    "# Test 3: Multiplication Is Homomorphic"
   ]
  },
  {
   "cell_type": "code",
   "execution_count": 6,
   "metadata": {},
   "outputs": [
    {
     "name": "stdout",
     "output_type": "stream",
     "text": [
      "Message1 length: 4096\n",
      "Message2 length: 4096\n",
      "First 5 elements of message1: [(4+0j), (4+0j), (4+0j), (4+0j), (4+0j)]\n",
      "First 5 elements of message2: [(3+0j), (3+0j), (3+0j), (3+0j), (3+0j)]\n"
     ]
    }
   ],
   "source": [
    "# Test setup\n",
    "poly_degree = 8192 # Must be a power of 2\n",
    "# NOTE: ciph_modulus of 1 << 40 is too small and produces innacurate results\n",
    "ciph_modulus = 1 << 800\n",
    "big_modulus = 1 << 1200\n",
    "scaling_factor = 1 << 30\n",
    "params = CKKSParameters(poly_degree=poly_degree,\n",
    "                        ciph_modulus=ciph_modulus,\n",
    "                        big_modulus=big_modulus,\n",
    "                        scaling_factor=scaling_factor,\n",
    "                        prime_size=30)\n",
    "# Message length must be half of poly_degree\n",
    "message1 = [4.0 + 0j] * (poly_degree // 2)\n",
    "message2 = [3.0 + 0j] * (poly_degree // 2)\n",
    "print(\"Message1 length:\", len(message1))\n",
    "print(\"Message2 length:\", len(message2))\n",
    "print(\"First 5 elements of message1:\", message1[:5])\n",
    "print(\"First 5 elements of message2:\", message2[:5])\n",
    "\n",
    "\n",
    "\n",
    "poly_product = plain_poly1.poly.multiply_naive(plain_poly2.poly) # NOTE: for some reason modding using ciph_modulus doesnt work\n",
    "plain_poly_product = Plaintext(poly_product, params.scaling_factor)\n",
    "\n",
    "key_generator = CKKSKeyGenerator(params)"
   ]
  },
  {
   "cell_type": "code",
   "execution_count": 1,
   "metadata": {},
   "outputs": [
    {
     "ename": "NameError",
     "evalue": "name 'key_generator' is not defined",
     "output_type": "error",
     "traceback": [
      "\u001b[1;31m---------------------------------------------------------------------------\u001b[0m",
      "\u001b[1;31mNameError\u001b[0m                                 Traceback (most recent call last)",
      "Cell \u001b[1;32mIn[1], line 1\u001b[0m\n\u001b[1;32m----> 1\u001b[0m public_key \u001b[38;5;241m=\u001b[39m \u001b[43mkey_generator\u001b[49m\u001b[38;5;241m.\u001b[39mpublic_key\n\u001b[0;32m      2\u001b[0m secret_key \u001b[38;5;241m=\u001b[39m key_generator\u001b[38;5;241m.\u001b[39msecret_key\n\u001b[0;32m      3\u001b[0m relin_key \u001b[38;5;241m=\u001b[39m key_generator\u001b[38;5;241m.\u001b[39mrelin_key\n",
      "\u001b[1;31mNameError\u001b[0m: name 'key_generator' is not defined"
     ]
    }
   ],
   "source": [
    "\n",
    "public_key = key_generator.public_key\n",
    "secret_key = key_generator.secret_key\n",
    "relin_key = key_generator.relin_key\n",
    "\n",
    "encoder = CKKSEncoder(params) # Contains encode and decode functions\n",
    "plain_poly1 = encoder.encode(message1, params.scaling_factor)\n",
    "plain_poly2 = encoder.encode(message2, params.scaling_factor)\n",
    "\n",
    "\n",
    "\n",
    "encryptor = CKKSEncryptor(params, public_key, secret_key)\n",
    "encrypted_poly1 = encryptor.encrypt(plain_poly1)\n",
    "encrypted_poly2 = encryptor.encrypt(plain_poly2)\n",
    "\n",
    "evaluator = CKKSEvaluator(params)\n",
    "encrypted_poly_product = evaluator.multiply(encrypted_poly1, encrypted_poly2, relin_key)\n",
    "\n",
    "decryptor = CKKSDecryptor(params, secret_key)\n",
    "decrypted_poly_product = decryptor.decrypt(encrypted_poly_product)\n",
    "\n",
    "decoded_message_product = encoder.decode(decrypted_poly_product)\n",
    "print(\"Decoded message product length:\", len(decoded_message_product))\n",
    "print(\"First 5 elements of decoded product:\", decoded_message_product[:5])\n",
    "\n",
    "true_message_product = [m1 * m2 for m1, m2 in zip(message1, message2)]\n",
    "print(\"True message product length:\", len(true_message_product))\n",
    "print(\"First 5 elements of true product:\", true_message_product[:5])\n",
    "\n",
    "assert len(decoded_message_product) == len(true_message_product), \"Decoded message has incorrect length\"\n",
    "print(\"Multiplication is homomorphic:\", np.allclose(decoded_message_product, true_message_product,  rtol=1e-2, atol=1e-1))  "
   ]
  },
  {
   "cell_type": "code",
   "execution_count": 8,
   "metadata": {},
   "outputs": [
    {
     "name": "stdout",
     "output_type": "stream",
     "text": [
      "PARALLEL!!!!!!\n",
      "PARALLEL!!!!!!\n",
      "PARALLEL!!!!!!\n",
      "PARALLEL!!!!!!\n",
      "PARALLEL!!!!!!\n",
      "PARALLEL!!!!!!\n"
     ]
    }
   ],
   "source": [
    "encrypted_poly_product = evaluator.multiply(encrypted_poly1, encrypted_poly2, relin_key)"
   ]
  },
  {
   "cell_type": "code",
   "execution_count": 9,
   "metadata": {},
   "outputs": [
    {
     "name": "stdout",
     "output_type": "stream",
     "text": [
      "PARALLEL!!!!!!\n",
      "PARALLEL!!!!!!\n"
     ]
    }
   ],
   "source": [
    "encrypted_poly_product = evaluator.multiply(encrypted_poly1, encrypted_poly2, relin_key, is_parallel=False)"
   ]
  },
  {
   "cell_type": "code",
   "execution_count": null,
   "metadata": {},
   "outputs": [],
   "source": []
  }
 ],
 "metadata": {
  "kernelspec": {
   "display_name": "cfe",
   "language": "python",
   "name": "python3"
  },
  "language_info": {
   "codemirror_mode": {
    "name": "ipython",
    "version": 3
   },
   "file_extension": ".py",
   "mimetype": "text/x-python",
   "name": "python",
   "nbconvert_exporter": "python",
   "pygments_lexer": "ipython3",
   "version": "3.9.21"
  }
 },
 "nbformat": 4,
 "nbformat_minor": 2
}
