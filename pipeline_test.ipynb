{
 "cells": [
  {
   "cell_type": "code",
   "execution_count": 1,
   "metadata": {},
   "outputs": [
    {
     "name": "stdout",
     "output_type": "stream",
     "text": [
      "Setting up CKKS parameters and generating keys...\n",
      "Keys generated with poly_degree= 8192 and cipher modulus=2^800.\n"
     ]
    }
   ],
   "source": [
    "import numpy as np\n",
    "from ckks.ckks_parameters import CKKSParameters\n",
    "from ckks.ckks_key_generator import CKKSKeyGenerator\n",
    "from ckks.ckks_encryptor import CKKSEncryptor\n",
    "from ckks.ckks_decryptor import CKKSDecryptor\n",
    "from ckks.ckks_evaluator import CKKSEvaluator\n",
    "from ckks.ckks_encoder import CKKSEncoder\n",
    "from fft.fft import FFT1D, IFFT1D\n",
    "\n",
    "print(\"Setting up CKKS parameters and generating keys...\")\n",
    "poly_degree = 8192\n",
    "ciph_modulus = 1 << 800  \n",
    "big_modulus = 1 << 1200\n",
    "scaling_factor = 1 << 30\n",
    "params = CKKSParameters(\n",
    "    poly_degree=poly_degree,\n",
    "    ciph_modulus=ciph_modulus,\n",
    "    big_modulus=big_modulus,\n",
    "    scaling_factor=scaling_factor\n",
    ")\n",
    "keygen = CKKSKeyGenerator(params)\n",
    "public_key = keygen.public_key\n",
    "secret_key = keygen.secret_key\n",
    "relin_key = keygen.relin_key\n",
    "encoder = CKKSEncoder(params)\n",
    "encryptor = CKKSEncryptor(params, public_key, secret_key)\n",
    "decryptor = CKKSDecryptor(params, secret_key)\n",
    "evaluator = CKKSEvaluator(params)\n",
    "\n",
    "data_len = poly_degree // 2\n",
    "message_length = 2000\n",
    "print(\"Keys generated with poly_degree=\", poly_degree, \"and cipher modulus=2^800.\")"
   ]
  },
  {
   "cell_type": "code",
   "execution_count": null,
   "metadata": {},
   "outputs": [],
   "source": [
    "def convolution(x, h):\n",
    "    \"\"\"\n",
    "    x and h are the same size\n",
    "    \"\"\"\n",
    "    n = len(x)\n",
    "    y = np.zeros(n, dtype=complex)\n",
    "    for k in range(n):\n",
    "        for m in range(n):\n",
    "            y[k] += x[m] * h[(k - m) % n]\n",
    "    return y"
   ]
  },
  {
   "cell_type": "code",
   "execution_count": 3,
   "metadata": {},
   "outputs": [
    {
     "name": "stdout",
     "output_type": "stream",
     "text": [
      "Generating and embedding two messages of length 2000 ...\n",
      "Embedded vectors vA and vB of length 4096\n"
     ]
    }
   ],
   "source": [
    "print(\"Generating and embedding two messages of length\", message_length, \"...\")\n",
    "orig_msg1 = np.random.random(message_length) + 1j * np.random.random(message_length)\n",
    "orig_msg2 = np.random.random(message_length) + 1j * np.random.random(message_length)\n",
    "vA = np.zeros(data_len, dtype=complex)\n",
    "vB = np.zeros(data_len, dtype=complex)\n",
    "vA[:message_length] = orig_msg1\n",
    "vB[:message_length] = orig_msg2\n",
    "print(\"Embedded vectors vA and vB of length\", data_len)"
   ]
  },
  {
   "cell_type": "code",
   "execution_count": 4,
   "metadata": {},
   "outputs": [
    {
     "name": "stdout",
     "output_type": "stream",
     "text": [
      "\n",
      "Processing Message 1...\n",
      "  FFT done for Message 1.\n",
      "  Encoding done for Message 1.\n",
      "  Encryption done for Message 1.\n",
      "  Decryption done for Message 1.\n",
      "  Decoding done for Message 1.\n",
      "  IFFT done for Message 1.\n",
      "Message 1 recovery successful: True\n",
      "\n",
      "Processing Message 2...\n",
      "  FFT done for Message 2.\n",
      "  Encoding done for Message 2.\n",
      "  Encryption done for Message 2.\n",
      "  Decryption done for Message 2.\n",
      "  Decoding done for Message 2.\n",
      "  IFFT done for Message 2.\n",
      "Message 2 recovery successful: True\n"
     ]
    }
   ],
   "source": [
    "print(\"\\nProcessing Message 1...\")\n",
    "domA = FFT1D(vA)\n",
    "print(\"  FFT done for Message 1.\")\n",
    "plainA = encoder.encode(domA, params.scaling_factor)\n",
    "print(\"  Encoding done for Message 1.\")\n",
    "ctA = encryptor.encrypt(plainA)\n",
    "print(\"  Encryption done for Message 1.\")\n",
    "ptA = decryptor.decrypt(ctA)\n",
    "print(\"  Decryption done for Message 1.\")\n",
    "decA = encoder.decode(ptA)\n",
    "print(\"  Decoding done for Message 1.\")\n",
    "recA = IFFT1D(decA)\n",
    "print(\"  IFFT done for Message 1.\")\n",
    "successA = np.allclose(vA, recA, atol=1e-1, rtol=1e-1)\n",
    "print(\"Message 1 recovery successful:\", successA)\n",
    "\n",
    "print(\"\\nProcessing Message 2...\")\n",
    "domB = FFT1D(vB)\n",
    "print(\"  FFT done for Message 2.\")\n",
    "plainB = encoder.encode(domB, params.scaling_factor)\n",
    "print(\"  Encoding done for Message 2.\")\n",
    "ctB = encryptor.encrypt(plainB)\n",
    "print(\"  Encryption done for Message 2.\")\n",
    "ptB = decryptor.decrypt(ctB)\n",
    "print(\"  Decryption done for Message 2.\")\n",
    "decB = encoder.decode(ptB)\n",
    "print(\"  Decoding done for Message 2.\")\n",
    "recB = IFFT1D(decB)\n",
    "print(\"  IFFT done for Message 2.\")\n",
    "successB = np.allclose(vB, recB, atol=1e-1, rtol=1e-1)\n",
    "print(\"Message 2 recovery successful:\", successB)"
   ]
  },
  {
   "cell_type": "code",
   "execution_count": 5,
   "metadata": {},
   "outputs": [
    {
     "name": "stdout",
     "output_type": "stream",
     "text": [
      "\n",
      "Testing homomorphic addition...\n",
      "  Homomorphic addition done.\n",
      "  Decryption of sum done.\n",
      "  Decoding of sum done.\n",
      "  IFFT of sum done.\n",
      "Addition recovery successful: True\n"
     ]
    }
   ],
   "source": [
    "print(\"\\nTesting homomorphic addition...\")\n",
    "ct_sum = evaluator.add(ctA, ctB)\n",
    "print(\"  Homomorphic addition done.\")\n",
    "pt_sum = decryptor.decrypt(ct_sum)\n",
    "print(\"  Decryption of sum done.\")\n",
    "dec_sum = encoder.decode(pt_sum)\n",
    "print(\"  Decoding of sum done.\")\n",
    "time_sum = IFFT1D(dec_sum)\n",
    "print(\"  IFFT of sum done.\")\n",
    "true_sum = vA + vB\n",
    "add_success = np.allclose(time_sum, true_sum, atol=1e-1, rtol=1e-1)\n",
    "print(\"Addition recovery successful:\", add_success)"
   ]
  },
  {
   "cell_type": "code",
   "execution_count": 6,
   "metadata": {},
   "outputs": [
    {
     "name": "stdout",
     "output_type": "stream",
     "text": [
      "\n",
      "Testing homomorphic convolution...\n",
      "  Homomorphic multiplication done.\n",
      "  Decryption of product done.\n",
      "  Decoding of product done.\n",
      "  IFFT of product done.\n",
      "Multiplication (convolution) recovery successful: True\n"
     ]
    }
   ],
   "source": [
    "print(\"\\nTesting homomorphic convolution...\")\n",
    "ct_prod = evaluator.multiply(ctA, ctB, relin_key)\n",
    "print(\"  Homomorphic multiplication done.\")\n",
    "pt_prod = decryptor.decrypt(ct_prod)\n",
    "print(\"  Decryption of product done.\")\n",
    "dec_prod = encoder.decode(pt_prod)\n",
    "print(\"  Decoding of product done.\")\n",
    "time_conv = IFFT1D(dec_prod)\n",
    "print(\"  IFFT of product done.\")\n",
    "true_conv = convolution(vA, vB)\n",
    "mult_success = np.allclose(time_conv, true_conv, atol=1e-1, rtol=1e-1)\n",
    "print(\"Multiplication (convolution) recovery successful:\", mult_success)"
   ]
  }
 ],
 "metadata": {
  "kernelspec": {
   "display_name": "cfe",
   "language": "python",
   "name": "python3"
  },
  "language_info": {
   "codemirror_mode": {
    "name": "ipython",
    "version": 3
   },
   "file_extension": ".py",
   "mimetype": "text/x-python",
   "name": "python",
   "nbconvert_exporter": "python",
   "pygments_lexer": "ipython3",
   "version": "3.9.21"
  }
 },
 "nbformat": 4,
 "nbformat_minor": 2
}
