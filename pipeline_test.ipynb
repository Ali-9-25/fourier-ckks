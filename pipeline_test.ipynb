{
 "cells": [
  {
   "cell_type": "code",
   "execution_count": 1,
   "metadata": {},
   "outputs": [],
   "source": [
    "from FourierCKKS import *"
   ]
  },
  {
   "cell_type": "code",
   "execution_count": 3,
   "metadata": {},
   "outputs": [
    {
     "name": "stdout",
     "output_type": "stream",
     "text": [
      "Recovery1 successful: True, Recovery2 successful: True\n",
      "Addition recovery successful: True\n",
      "Convolution recovery successful: True\n"
     ]
    }
   ],
   "source": [
    "poly_degree = 1024\n",
    "message1_length = 256\n",
    "message2_length = 200\n",
    "message_out_length = message1_length + message2_length - 1\n",
    "fcks = FourierCKKS(poly_degree=poly_degree)\n",
    "orig1 = np.random.random(message1_length) + 1j * np.random.random(message1_length)\n",
    "orig2 = np.random.random(message2_length) + 1j * np.random.random(message2_length)\n",
    "ct1 = fcks.forward(orig1, message_out_length)\n",
    "ct2 = fcks.forward(orig2, message_out_length)\n",
    "rec1 = fcks.backward(ct1, message_out_length)\n",
    "rec2 = fcks.backward(ct2, message_out_length)\n",
    "success1 = np.allclose(rec1[:message1_length], orig1, atol=1e-1, rtol=1e-1)\n",
    "success2 = np.allclose(rec2[:message2_length], orig2, atol=1e-1, rtol=1e-1)\n",
    "print(f\"Recovery1 successful: {success1}, Recovery2 successful: {success2}\")\n",
    "\n",
    "ct_sum = fcks.cipher_add(ct1, ct2)\n",
    "rec_sum = fcks.backward(ct_sum, message_out_length)\n",
    "true_sum = orig1.copy()\n",
    "true_sum[:message2_length] += orig2\n",
    "add_success = np.allclose(rec_sum[:message1_length], true_sum, atol=1e-1, rtol=1e-1)\n",
    "print(f\"Addition recovery successful: {add_success}\")\n",
    "\n",
    "ct_conv = fcks.cipher_conv(ct1, ct2)\n",
    "rec_conv = fcks.backward(ct_conv, message_out_length)\n",
    "from fft.fft import linear_convolution_direct\n",
    "true_conv = linear_convolution_direct(orig1, orig2)\n",
    "conv_success = np.allclose(rec_conv, true_conv, atol=1e-1, rtol=1e-1)\n",
    "print(f\"Convolution recovery successful: {conv_success}\")"
   ]
  },
  {
   "cell_type": "code",
   "execution_count": null,
   "metadata": {},
   "outputs": [],
   "source": []
  }
 ],
 "metadata": {
  "kernelspec": {
   "display_name": "cfe",
   "language": "python",
   "name": "python3"
  },
  "language_info": {
   "codemirror_mode": {
    "name": "ipython",
    "version": 3
   },
   "file_extension": ".py",
   "mimetype": "text/x-python",
   "name": "python",
   "nbconvert_exporter": "python",
   "pygments_lexer": "ipython3",
   "version": "3.9.21"
  }
 },
 "nbformat": 4,
 "nbformat_minor": 2
}
