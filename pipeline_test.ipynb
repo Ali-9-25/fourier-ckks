{
 "cells": [
  {
   "cell_type": "code",
   "execution_count": 1,
   "metadata": {},
   "outputs": [],
   "source": [
    "from FourierCKKS import *"
   ]
  },
  {
   "cell_type": "code",
   "execution_count": 2,
   "metadata": {},
   "outputs": [
    {
     "name": "stdout",
     "output_type": "stream",
     "text": [
      "Recovery successful: Message1=True, Message2=True\n",
      "Addition recovery successful: True\n",
      "Convolution recovery successful: True\n"
     ]
    }
   ],
   "source": [
    "import numpy as np\n",
    "from fft.fft import linear_convolution_direct\n",
    "\n",
    "# Parameters\n",
    "poly_degree = 1024\n",
    "data_len = poly_degree // 2\n",
    "message1_length = 1500\n",
    "message2_length = 1300\n",
    "# For convolution, output length = L1 + L2 - 1\n",
    "conv_length = message1_length + message2_length - 1\n",
    "\n",
    "fcks = FourierCKKS(poly_degree=poly_degree)\n",
    "\n",
    "# Generate large sample messages\n",
    "orig1 = np.random.random(message1_length) + 1j * np.random.random(message1_length)\n",
    "orig2 = np.random.random(message2_length) + 1j * np.random.random(message2_length)\n",
    "\n",
    "# Encrypt with segmentation to conv_length\n",
    "ct1_list = fcks.forward(orig1, target_length=conv_length)\n",
    "ct2_list = fcks.forward(orig2, target_length=conv_length)\n",
    "\n",
    "# Decrypt segments back to original lengths\n",
    "rec1 = fcks.backward(ct1_list, target_length=message1_length)\n",
    "rec2 = fcks.backward(ct2_list, target_length=message2_length)\n",
    "success1 = np.allclose(rec1, orig1, atol=1e-1, rtol=1e-1)\n",
    "success2 = np.allclose(rec2, orig2, atol=1e-1, rtol=1e-1)\n",
    "print(f\"Recovery successful: Message1={success1}, Message2={success2}\")\n",
    "\n",
    "# Homomorphic addition\n",
    "ct_sum = fcks.cipher_add(ct1_list, ct2_list)\n",
    "rec_sum = fcks.backward(ct_sum, target_length=conv_length)\n",
    "true_sum = np.zeros(conv_length, dtype=complex)\n",
    "true_sum[:message1_length] += orig1\n",
    "true_sum[:message2_length] += orig2\n",
    "add_success = np.allclose(rec_sum, true_sum, atol=1e-1, rtol=1e-1)\n",
    "print(f\"Addition recovery successful: {add_success}\")\n",
    "\n",
    "# Homomorphic convolution\n",
    "ct_conv = fcks.cipher_conv(ct1_list, ct2_list)\n",
    "rec_conv = fcks.backward(ct_conv, target_length=conv_length)\n",
    "true_conv = linear_convolution_direct(orig1, orig2)\n",
    "conv_success = np.allclose(rec_conv, true_conv, atol=1e-1, rtol=1e-1)\n",
    "print(f\"Convolution recovery successful: {conv_success}\")\n"
   ]
  },
  {
   "cell_type": "code",
   "execution_count": null,
   "metadata": {},
   "outputs": [],
   "source": []
  }
 ],
 "metadata": {
  "kernelspec": {
   "display_name": "cfe",
   "language": "python",
   "name": "python3"
  },
  "language_info": {
   "codemirror_mode": {
    "name": "ipython",
    "version": 3
   },
   "file_extension": ".py",
   "mimetype": "text/x-python",
   "name": "python",
   "nbconvert_exporter": "python",
   "pygments_lexer": "ipython3",
   "version": "3.9.21"
  }
 },
 "nbformat": 4,
 "nbformat_minor": 2
}
