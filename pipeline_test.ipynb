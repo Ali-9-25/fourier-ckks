{
 "cells": [
  {
   "cell_type": "code",
   "execution_count": 3,
   "metadata": {},
   "outputs": [
    {
     "name": "stdout",
     "output_type": "stream",
     "text": [
      "Correctly raised exception for non-square data_len: data_len=512 is not a perfect square; cannot support 2D FFT packing.\n",
      "1D Recovery: True True\n",
      "1D Addition: True\n",
      "1D Convolution: True\n"
     ]
    }
   ],
   "source": [
    "from FourierCKKS import *\n",
    "import numpy as np\n",
    "from fft.fft import linear_convolution_direct, linear_convolution2d_direct\n",
    "\n",
    "# 1) Ensure constructor rejects non-square data_len\n",
    "try:\n",
    "    FourierCKKS(poly_degree=1024)\n",
    "except ValueError as e:\n",
    "    print(\"Correctly raised exception for non-square data_len:\", e)\n",
    "\n",
    "# Use poly_degree=512 => data_len=256 => img_side=16\n",
    "fcks = FourierCKKS(poly_degree=512)\n",
    "\n",
    "# ------- 1D Tests -------\n",
    "m1 = np.random.random(300) + 1j*np.random.random(300)\n",
    "m2 = np.random.random(200) + 1j*np.random.random(200)\n",
    "conv_len = 300 + 200 - 1\n",
    "\n",
    "ct1 = fcks.forward(m1, target_length=conv_len)\n",
    "ct2 = fcks.forward(m2, target_length=conv_len)\n",
    "r1 = fcks.backward(ct1, target_length=300)\n",
    "r2 = fcks.backward(ct2, target_length=200)\n",
    "print(\"1D Recovery:\", np.allclose(r1, m1, atol=1e-1), np.allclose(r2, m2, atol=1e-1))\n",
    "\n",
    "ct_sum = fcks.cipher_add(ct1, ct2)\n",
    "r_sum = fcks.backward(ct_sum, target_length=conv_len)\n",
    "t_sum = np.zeros(conv_len, dtype=complex)\n",
    "t_sum[:300] += m1\n",
    "t_sum[:200] += m2\n",
    "print(\"1D Addition:\", np.allclose(r_sum, t_sum, atol=1e-1))\n",
    "\n",
    "ct_conv = fcks.cipher_conv(ct1, ct2)\n",
    "r_conv = fcks.backward(ct_conv, target_length=conv_len)\n",
    "t_conv = linear_convolution_direct(m1, m2)\n",
    "print(\"1D Convolution:\", np.allclose(r_conv, t_conv, atol=1e-1))"
   ]
  },
  {
   "cell_type": "code",
   "execution_count": 6,
   "metadata": {},
   "outputs": [
    {
     "name": "stdout",
     "output_type": "stream",
     "text": [
      "2D Recovery: True True\n",
      "2D Addition: True\n",
      "2D Convolution: True\n"
     ]
    }
   ],
   "source": [
    "# ------- 2D Tests -------\n",
    "img = np.random.random((30, 40)) + 1j*np.random.random((30, 40))\n",
    "ker = np.random.random((10, 15)) + 1j*np.random.random((10, 15))\n",
    "out_h = 30 + 10 - 1\n",
    "out_w = 40 + 15 - 1\n",
    "\n",
    "ct_img = fcks.forward(img, target_height=out_h, target_width=out_w)\n",
    "ct_ker = fcks.forward(ker, target_height=out_h, target_width=out_w)\n",
    "\n",
    "r_img = fcks.backward(ct_img, target_height=out_h, target_width=out_w)\n",
    "r_ker = fcks.backward(ct_ker, target_height=out_h, target_width=out_w)\n",
    "print(\"2D Recovery:\", np.allclose(r_img[:30, :40], img, atol=1e-1), np.allclose(r_ker[:10, :15], ker, atol=1e-1))\n",
    "\n",
    "ct_sum2 = fcks.cipher_add(ct_img, ct_ker)\n",
    "r_sum2 = fcks.backward(ct_sum2, target_height=out_h, target_width=out_w)\n",
    "t_sum2 = np.zeros((out_h, out_w), dtype=complex)\n",
    "t_sum2[:30, :40] += img\n",
    "t_sum2[:10, :15] += ker\n",
    "print(\"2D Addition:\", np.allclose(r_sum2, t_sum2, atol=1e-1))\n",
    "\n",
    "ct_conv2 = fcks.cipher_conv(ct_img, ct_ker)\n",
    "r_conv2 = fcks.backward(ct_conv2, target_height=out_h, target_width=out_w)\n",
    "t_conv2 = linear_convolution2d_direct(img, ker)\n",
    "print(\"2D Convolution:\", np.allclose(r_conv2, t_conv2, atol=1e-1))\n"
   ]
  },
  {
   "cell_type": "code",
   "execution_count": null,
   "metadata": {},
   "outputs": [],
   "source": []
  }
 ],
 "metadata": {
  "kernelspec": {
   "display_name": "cfe",
   "language": "python",
   "name": "python3"
  },
  "language_info": {
   "codemirror_mode": {
    "name": "ipython",
    "version": 3
   },
   "file_extension": ".py",
   "mimetype": "text/x-python",
   "name": "python",
   "nbconvert_exporter": "python",
   "pygments_lexer": "ipython3",
   "version": "3.9.21"
  }
 },
 "nbformat": 4,
 "nbformat_minor": 2
}
