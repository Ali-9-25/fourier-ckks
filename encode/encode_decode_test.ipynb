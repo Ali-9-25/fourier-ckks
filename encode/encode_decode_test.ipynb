{
 "cells": [
  {
   "cell_type": "code",
   "execution_count": null,
   "metadata": {},
   "outputs": [],
   "source": [
    "from ckks.ckks_parameters import CKKSParameters\n",
    "from ckks.ckks_key_generator import CKKSKeyGenerator\n",
    "from ckks.ckks_encoder import CKKSEncoder"
   ]
  },
  {
   "cell_type": "markdown",
   "metadata": {},
   "source": [
    "# Test 1: Encode and Decode - Verifying Inverse Relationship"
   ]
  },
  {
   "cell_type": "code",
   "execution_count": 12,
   "metadata": {},
   "outputs": [
    {
     "name": "stdout",
     "output_type": "stream",
     "text": [
      "Message: [(4+0j), (3+0j)]\n",
      "Encoded polynomial: -44x^3 + 45x + 445\n",
      "Decoded polynomial: [(3.9994685316976595+0.005567769930602762j), (3.008405484050372-0.005567769930602762j)]\n",
      "Encode and decode are inverse: True\n"
     ]
    }
   ],
   "source": [
    "# Test setup\n",
    "poly_degree = 4\n",
    "ciph_modulus = 1 << 600\n",
    "q0 = 2**24\n",
    "big_modulus = 1 << 1200 # Used for bootstrapping\n",
    "scaling_factor = 2**7-1\n",
    "ciph_modulus = scaling_factor**2 * q0  # ql\n",
    "params = CKKSParameters(poly_degree=poly_degree,\n",
    "                        ciph_modulus=ciph_modulus,\n",
    "                        big_modulus=big_modulus,\n",
    "                        scaling_factor=scaling_factor)\n",
    "message = [4.0 + 0j, 3 + 0j]\n",
    "print(\"Message:\", message)\n",
    "\n",
    "key_generator = CKKSKeyGenerator(params)\n",
    "public_key = key_generator.public_key\n",
    "secret_key = key_generator.secret_key\n",
    "\n",
    "encoder = CKKSEncoder(params) # Contains encode and decode functions\n",
    "poly = encoder.encode(message, params.scaling_factor)\n",
    "print(\"Encoded polynomial:\", str(poly))\n",
    "decoded_message = encoder.decode(poly)\n",
    "print(\"Decoded polynomial:\", decoded_message)\n",
    "\n",
    "assert len(decoded_message) == len(message), \"Decoded polynomial has incorrect length\"\n",
    "print(\"Encode and decode are inverse:\", np.allclose(decoded_message, message, atol=1e-1))"
   ]
  },
  {
   "cell_type": "markdown",
   "metadata": {},
   "source": [
    "# Test 2: Addition Is Homomorphic"
   ]
  },
  {
   "cell_type": "code",
   "execution_count": 31,
   "metadata": {},
   "outputs": [
    {
     "name": "stdout",
     "output_type": "stream",
     "text": [
      "Message1: [(4+0j), (3+0j)]\n",
      "Message2: [(4+0j), (3+0j)]\n",
      "Encoded polynomial1: -379625061x^3 + 379625062x + 3758096384\n",
      "Encoded polynomial2: -379625061x^3 + 379625062x + 3758096384\n",
      "Encoded polynomial sum: -759250122x^3 + 759250124x + 7516192768\n",
      "True polynomial sum: [(8+0j), (6+0j)]\n",
      "Decoded polynomial sum: [(7.999999997373708+1.3170890489355713e-09j), (6.000000002626292-1.3170890489355713e-09j)]\n",
      "Addition is homomorphic: True\n"
     ]
    }
   ],
   "source": [
    "# Test setup\n",
    "from util.plaintext import Plaintext\n",
    "\n",
    "poly_degree = 2048\n",
    "ciph_modulus = 1 << 40\n",
    "big_modulus = 1 << 1200 # Used for bootstrapping\n",
    "scaling_factor = 1 << 30\n",
    "# poly_degree = 4\n",
    "# ciph_modulus = 1 << 600\n",
    "# q0 = 2**24\n",
    "# big_modulus = 1 << 1200 # Used for bootstrapping\n",
    "# scaling_factor = 2**7-1\n",
    "# ciph_modulus = scaling_factor**2 * q0  # ql\n",
    "params = CKKSParameters(poly_degree=poly_degree,\n",
    "                        ciph_modulus=ciph_modulus,\n",
    "                        big_modulus=big_modulus,\n",
    "                        scaling_factor=scaling_factor)\n",
    "message1 = [4.0 + 0j, 3 + 0j]\n",
    "print(\"Message1:\", message)\n",
    "message2 = [4.0 + 0j, 3 + 0j]\n",
    "print(\"Message2:\", message)\n",
    "\n",
    "key_generator = CKKSKeyGenerator(params)\n",
    "public_key = key_generator.public_key\n",
    "secret_key = key_generator.secret_key\n",
    "\n",
    "encoder = CKKSEncoder(params) # Contains encode and decode functions\n",
    "poly1 = encoder.encode(message1, params.scaling_factor)\n",
    "poly2 = encoder.encode(message2, params.scaling_factor)\n",
    "poly_sum = poly1.poly.add(poly2.poly)\n",
    "# poly_sum = poly1.poly.add(poly2.poly, params.ciph_modulus) # NOTE: For some reason this doesn't work\n",
    "plain_poly_sum = Plaintext(poly_sum, params.scaling_factor)\n",
    "\n",
    "print(\"Encoded polynomial1:\", str(poly1))\n",
    "print(\"Encoded polynomial2:\", str(poly2))\n",
    "print(\"Encoded polynomial sum:\", str(poly_sum))\n",
    "\n",
    "decoded_message_sum = encoder.decode(plain_poly_sum)\n",
    "true_message_sum = [m1 + m2 for m1, m2 in zip(message1, message2)]\n",
    "print(\"True polynomial sum:\", true_message_sum)\n",
    "print(\"Decoded polynomial sum:\", decoded_message_sum)\n",
    "\n",
    "assert len(decoded_message_sum) == len(message), \"Decoded polynomial has incorrect length\"\n",
    "print(\"Addition is homomorphic:\", np.allclose(decoded_message_sum, true_message_sum, atol=1e-1))\n"
   ]
  },
  {
   "cell_type": "markdown",
   "metadata": {},
   "source": [
    "# Test 3: Multiplication Is Homomorphic"
   ]
  },
  {
   "cell_type": "code",
   "execution_count": 26,
   "metadata": {},
   "outputs": [
    {
     "name": "stdout",
     "output_type": "stream",
     "text": [
      "Message1: [(4+0j), (3+0j)]\n",
      "Message2: [(4+0j), (3+0j)]\n",
      "Encoded polynomial1: -379625061x^3 + 379625062x + 3758096384\n",
      "Encoded polynomial2: -379625061x^3 + 379625062x + 3758096384\n",
      "Encoded polynomial prod: -2853335138039758848x^3 + 759250123x^2 + 2853335145555951616x + 14411518806071633020\n",
      "True polynomial prod: [(16+0j), (9+0j)]\n",
      "Decoded polynomial prod: [(15.999999989494833+5.268356149772113e-09j), (9.000000007878876-3.951267137265735e-09j)]\n",
      "Multiplication is homomorphic: True\n"
     ]
    }
   ],
   "source": [
    "# Test setup\n",
    "from util.plaintext import Plaintext\n",
    "\n",
    "poly_degree = 2048\n",
    "ciph_modulus = 1 << 40\n",
    "big_modulus = 1 << 1200 # Used for bootstrapping\n",
    "scaling_factor = 1 << 30\n",
    "# ciph_modulus = scaling_factor**2 * q0  # ql\n",
    "# poly_degree = 4\n",
    "# ciph_modulus = 1 << 600\n",
    "# q0 = 2**24\n",
    "# big_modulus = 1 << 1200 # Used for bootstrapping\n",
    "# scaling_factor = 2**7-1\n",
    "# ciph_modulus = scaling_factor**2 * q0  # ql\n",
    "params = CKKSParameters(poly_degree=poly_degree,\n",
    "                        ciph_modulus=ciph_modulus,\n",
    "                        big_modulus=big_modulus,\n",
    "                        scaling_factor=scaling_factor)\n",
    "message1 = [4.0 + 0j, 3 + 0j]\n",
    "print(\"Message1:\", message)\n",
    "message2 = [4.0 + 0j, 3 + 0j]\n",
    "print(\"Message2:\", message)\n",
    "\n",
    "key_generator = CKKSKeyGenerator(params)\n",
    "public_key = key_generator.public_key\n",
    "secret_key = key_generator.secret_key\n",
    "\n",
    "encoder = CKKSEncoder(params) # Contains encode and decode functions\n",
    "poly1 = encoder.encode(message1, params.scaling_factor)\n",
    "poly2 = encoder.encode(message2, params.scaling_factor)\n",
    "poly_prod = poly1.poly.multiply_naive(poly2.poly) # Use naive multiplication without NTT or CRT\n",
    "plain_poly_prod = Plaintext(poly_prod, params.scaling_factor**2)\n",
    "\n",
    "print(\"Encoded polynomial1:\", str(poly1))\n",
    "print(\"Encoded polynomial2:\", str(poly2))\n",
    "print(\"Encoded polynomial prod:\", str(poly_prod))\n",
    "\n",
    "decoded_message_prod = encoder.decode(plain_poly_prod)\n",
    "true_message_product = [m1 * m2 for m1, m2 in zip(message1, message2)]\n",
    "print(\"True polynomial prod:\", true_message_product)\n",
    "print(\"Decoded polynomial prod:\", decoded_message_prod)\n",
    "\n",
    "assert len(decoded_message_prod) == len(message), \"Decoded polynomial has incorrect length\"\n",
    "print(\"Multiplication is homomorphic:\", np.allclose(decoded_message_prod, true_message_product, atol=1e-1))\n"
   ]
  }
 ],
 "metadata": {
  "kernelspec": {
   "display_name": "Python 3",
   "language": "python",
   "name": "python3"
  },
  "language_info": {
   "codemirror_mode": {
    "name": "ipython",
    "version": 3
   },
   "file_extension": ".py",
   "mimetype": "text/x-python",
   "name": "python",
   "nbconvert_exporter": "python",
   "pygments_lexer": "ipython3",
   "version": "3.12.0"
  }
 },
 "nbformat": 4,
 "nbformat_minor": 2
}
