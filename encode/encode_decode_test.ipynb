{
 "cells": [
  {
   "cell_type": "code",
   "execution_count": 1,
   "metadata": {},
   "outputs": [],
   "source": [
    "from decode import *\n",
    "from encode import *"
   ]
  },
  {
   "cell_type": "code",
   "execution_count": 2,
   "metadata": {},
   "outputs": [
    {
     "name": "stdout",
     "output_type": "stream",
     "text": [
      "Original vector:  [3.+4.j 2.-1.j]\n",
      "Encoded polynoial:  163840.0 + 92682.0 x + 163840.0 x**2 + 46341.0 x**3\n",
      "Vector after encoding and decoding:  [3.00000054+4.00000162j 1.99999946-0.99999838j]\n"
     ]
    }
   ],
   "source": [
    "# TOY EXAMPLE FROM https://eprint.iacr.org/2016/421.pdf section 3.2\n",
    "z = np.array([3 + 4j, 2 - 1j]) # vector to encode\n",
    "# parameters from the paper\n",
    "delta = 2**16\n",
    "M = 8\n",
    "xi = np.exp(2 * np.pi * 1j / M) # Mth root of unity which will be used as a basis for our computation\n",
    "encoded_pol = encode(z, delta, M, xi)\n",
    "decoded = decode(encoded_pol, delta, M,xi)\n",
    "\n",
    "print(f\"Original vector: \", z)\n",
    "print(f\"Encoded polynoial: \", encoded_pol) \n",
    "print(f\"Vector after encoding and decoding: \", decoded)\n"
   ]
  }
 ],
 "metadata": {
  "kernelspec": {
   "display_name": "Python 3",
   "language": "python",
   "name": "python3"
  },
  "language_info": {
   "codemirror_mode": {
    "name": "ipython",
    "version": 3
   },
   "file_extension": ".py",
   "mimetype": "text/x-python",
   "name": "python",
   "nbconvert_exporter": "python",
   "pygments_lexer": "ipython3",
   "version": "3.12.0"
  }
 },
 "nbformat": 4,
 "nbformat_minor": 2
}
