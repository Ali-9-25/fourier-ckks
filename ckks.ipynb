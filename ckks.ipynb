{
 "cells": [
  {
   "cell_type": "markdown",
   "metadata": {},
   "source": [
    "## Math Background: \n",
    "\n",
    "For mathematical definitions and knowledge you can refer to this [notebook](mathematical_background.ipynb)."
   ]
  },
  {
   "cell_type": "markdown",
   "metadata": {},
   "source": [
    "## Homomorphic encryption scheme in a nutshell\n",
    "\n",
    "The **Cheon-Kim-Kim-Song** (CKKS) scheme is an **homomorphic encryption (HE)** scheme which allows the computation of some functions directly on encrypted data.\n",
    "\n",
    "In particular, HE allows the computation of additions and multiplication, from which more sophisticated functionality can be built:\n",
    "\n",
    "- between ciphertexts and ciphertexts;\n",
    "- between ciphertexts and plaintexts.\n",
    "\n",
    "The result of the operations, once decrypted, is the same as if it were applied on the corresponding plaintexts.\n",
    "\n",
    "### Typical encryption:\n",
    "$6.5 + 3.5 \\neq 18.3$\n",
    "\n",
    "E ⬇️ &nbsp; E ⬇️ &nbsp; D ⬆️\n",
    "\n",
    "$18.5 + 11.3 = 19.8$\n",
    "\n",
    "### Homomorphic encryption:\n",
    "$6.5 + 3.5 \\neq 10.0$\n",
    "\n",
    "E ⬇️ &nbsp; E ⬇️ &nbsp; D ⬆️\n",
    "\n",
    "$11.7 + 3.6 = 15.3$\n",
    "\n",
    "An example would be hospitals encrypt patient data (e.g., blood pressure readings) using CKKS. A central server computes averages or other statistics directly on the encrypted data. The decrypted results reveal only aggregate insights, protecting individual privacy."
   ]
  },
  {
   "cell_type": "markdown",
   "metadata": {},
   "source": [
    "## Steps in CCKS\n",
    "\n",
    "\n",
    "*TBD*: General outline with one or two lines of text, explaining the steps and what they entail...\n",
    "\n",
    "- [ ] Encoding and Decoding\n",
    "      * Vanilla\n",
    "      * Full\n",
    "- [ ] Encryption and Decryption\n",
    "- [ ] Multiplication and Relinearization\n",
    "- [ ] Rescaling\n",
    "\n"
   ]
  },
  {
   "cell_type": "markdown",
   "metadata": {},
   "source": [
    "## Plaintext Encoding and Decoding\n"
   ]
  },
  {
   "cell_type": "markdown",
   "metadata": {
    "jp-MarkdownHeadingCollapsed": true
   },
   "source": [
    "### Encoding\n",
    "\n",
    "For encoding, we aim to project a complex vector into the subspace:\n",
    "\n",
    "$$\n",
    "H = \\{(z_j)_{j \\in \\mathbb{Z}^*_M} : z_j = z_{-j}\\}.\n",
    "$$\n",
    "\n",
    "This is the $\\pi^{-1}$ projection discussed in the original paper, where half of the entries are conjugates of the other half. We know that:\n",
    "\n",
    "$$\n",
    "\\sigma(\\mathcal{R}) \\subseteq \\mathbb{H} = \\{ z \\in \\mathbb{C}^N : z_j = z_{-j} \\}.\n",
    "$$\n",
    "\n",
    "The process involves the following steps:\n",
    "\n",
    "1. **Projection using $\\pi^{-1}$:**  \n",
    "   The scaled vector is then projected using $\\pi^{-1}$. This ensures that the resulting vector lies in $\\mathbb{H}$.\n",
    "   \n"
   ]
  },
  {
   "cell_type": "code",
   "execution_count": 67,
   "metadata": {},
   "outputs": [],
   "source": [
    "# code inspired from https://colab.research.google.com/drive/1cdue90Fg_EB5cxxTYcv2_8_XxQnpnVWg?usp=sharing#scrollTo=qsDuOVro1H15\n",
    "\n",
    "from math import sin,cos,pi\n",
    "import numpy as np\n",
    "from numpy.polynomial import Polynomial"
   ]
  },
  {
   "cell_type": "code",
   "execution_count": 68,
   "metadata": {},
   "outputs": [
    {
     "data": {
      "text/plain": [
       "array([3.+4.j, 2.-1.j, 2.+1.j, 3.-4.j])"
      ]
     },
     "execution_count": 68,
     "metadata": {},
     "output_type": "execute_result"
    }
   ],
   "source": [
    "def pi_inverse(z: np.array) -> np.array:\n",
    "    \"\"\"Expands a vector of C^{N/2} by expanding it with its\n",
    "    complex conjugate.\"\"\"\n",
    "    \n",
    "    z_conjugate = z[::-1]\n",
    "    z_conjugate = [np.conjugate(x) for x in z_conjugate]\n",
    "    return np.concatenate([z, z_conjugate])\n",
    "\n",
    "# TOY EXAMPLE FROM https://eprint.iacr.org/2016/421.pdf section 3.2\n",
    "\n",
    "M = 8 # parameter from the paper\n",
    "delta = 64 # scaling factor \n",
    "xi = np.exp(2 * np.pi * 1j / M) # Mth root of unity which will be used as a basis for our computation\n",
    "z = np.array([3 +4j, 2 - 1j]) # vector to encode\n",
    "pi_z = pi_inverse(z) # pi^-1\n",
    "pi_z"
   ]
  },
  {
   "cell_type": "markdown",
   "metadata": {},
   "source": [
    "2. **Multiplication with $\\Delta$:**  \n",
    "   We start by multiplying the vector with $\\Delta$ to scale it appropriately."
   ]
  },
  {
   "cell_type": "code",
   "execution_count": 69,
   "metadata": {},
   "outputs": [
    {
     "data": {
      "text/plain": [
       "array([192.+256.j, 128. -64.j, 128. +64.j, 192.-256.j])"
      ]
     },
     "execution_count": 69,
     "metadata": {},
     "output_type": "execute_result"
    }
   ],
   "source": [
    "scaled_pi_z = delta * pi_z\n",
    "scaled_pi_z # scaled vector"
   ]
  },
  {
   "cell_type": "markdown",
   "metadata": {},
   "source": [
    "3. **Coordinate-Wise Random Rounding:**  \n",
    "   To project onto $\\sigma(\\mathcal{R})$, we use a technique called *coordinate-wise random rounding*. This is a method to discretize complex numbers in each coordinate independently while preserving certain statistical properties. For details, refer to [this paper](https://web.eecs.umich.edu/~cpeikert/pubs/toolkit.pdf).\n",
    "\n",
    "    \n",
    "   A. **Orthogonal $\\mathbb{Z}$-Basis:**\n",
    "   - The ring $\\mathcal{R}$ has an orthogonal $\\mathbb{Z}$-basis $\\{1, X, \\ldots, X^{N-1}\\}$.\n",
    "   - Since $\\sigma$ is an isomorphism, $\\sigma(\\mathcal{R})$ has a corresponding orthogonal $\\mathbb{Z}$-basis:\n",
    "     $$\n",
    "     \\beta = \\{b_1, b_2, \\ldots, b_N\\} = \\{\\sigma(1), \\sigma(X), \\ldots, \\sigma(X^{N-1})\\}.\n",
    "     $$"
   ]
  },
  {
   "cell_type": "code",
   "execution_count": 70,
   "metadata": {},
   "outputs": [],
   "source": [
    "def vandermonde(xi: np.complex128, M: int) -> np.array:\n",
    "    \"\"\"Computes the Vandermonde matrix from a m-th root of unity.\"\"\"\n",
    "    \n",
    "    N = M //2\n",
    "    matrix = []\n",
    "    # We will generate each row of the matrix\n",
    "    for i in range(N):\n",
    "        # For each row we select a different root\n",
    "        root = xi ** (2 * i + 1)\n",
    "        row = []\n",
    "\n",
    "        # Then we store its powers\n",
    "        for j in range(N):\n",
    "            row.append(root ** j)\n",
    "        matrix.append(row)\n",
    "    return matrix\n",
    "\n",
    "def create_sigma_R_basis(xi, M):\n",
    "    \"\"\"Creates the basis (sigma(1), sigma(X), ..., sigma(X** N-1)).\"\"\"\n",
    "    return np.array(vandermonde(xi, M)).T\n",
    "    \n",
    "sigma_R_basis = create_sigma_R_basis(xi, M)"
   ]
  },
  {
   "cell_type": "markdown",
   "metadata": {},
   "source": [
    "We can now have a look at the basis $\\{\\sigma(1), \\sigma(X), \\ldots, \\sigma(X^{N-1})\\}$."
   ]
  },
  {
   "cell_type": "code",
   "execution_count": 71,
   "metadata": {},
   "outputs": [
    {
     "data": {
      "text/plain": [
       "array([[ 1.00000000e+00+0.j        ,  1.00000000e+00+0.j        ,\n",
       "         1.00000000e+00+0.j        ,  1.00000000e+00+0.j        ],\n",
       "       [ 7.07106781e-01+0.70710678j, -7.07106781e-01+0.70710678j,\n",
       "        -7.07106781e-01-0.70710678j,  7.07106781e-01-0.70710678j],\n",
       "       [ 1.79380389e-16+1.j        , -4.67705010e-16-1.j        ,\n",
       "         7.70954637e-16+1.j        , -1.11479041e-15-1.j        ],\n",
       "       [-7.07106781e-01+0.70710678j,  7.07106781e-01+0.70710678j,\n",
       "         7.07106781e-01-0.70710678j, -7.07106781e-01-0.70710678j]])"
      ]
     },
     "execution_count": 71,
     "metadata": {},
     "output_type": "execute_result"
    }
   ],
   "source": [
    "sigma_R_basis"
   ]
  },
  {
   "cell_type": "markdown",
   "metadata": {},
   "source": [
    "B. **Projection in the Basis:**\n",
    "- For any $z \\in \\mathbb{H}$, we can write:\n",
    "     $$\n",
    "     z = \\sum_{i=1}^N z_i b_i,\n",
    "     $$\n",
    "     where $z_i$ are the coordinates of $z$ in the basis $\\beta$. These coordinates are computed as:\n",
    "     $$\n",
    "     z_i = \\frac{\\langle z, b_i \\rangle}{\\|b_i\\|^2} \\in \\mathbb{R}.\n",
    "     $$\n",
    "- Here, $\\langle x, y \\rangle$ is the **Hermitian inner product**:\n",
    "- Here, $\\langle x, y \\rangle$ is the **Hermitian inner product**:\n",
    "    $$\n",
    "    \\langle x, y \\rangle = \\sum_{k=1}^N x_k \\overline{y_k},\n",
    "    $$\n",
    "    where $\\overline{y_k}$ denotes the complex conjugate of $y_k$."
   ]
  },
  {
   "cell_type": "code",
   "execution_count": 72,
   "metadata": {},
   "outputs": [],
   "source": [
    "def compute_basis_coordinates(z):\n",
    "    \"\"\"Computes the coordinates of a vector with respect to the orthogonal lattice basis.\"\"\"\n",
    "    output = np.array([np.real(np.vdot(z, b) / np.vdot(b,b)) for b in sigma_R_basis])\n",
    "    return output\n",
    "\n",
    "\n",
    "coordinates = compute_basis_coordinates(scaled_pi_z)"
   ]
  },
  {
   "cell_type": "markdown",
   "metadata": {},
   "source": [
    "C. **Rounding to Integers:**\n",
    "   - Since the coordinates $z_i$ are real numbers (not integers), we apply **coordinate-wise random rounding**:\n",
    "     - Each $z_i$ is rounded to either $\\lfloor z_i \\rfloor$ or $\\lfloor z_i \\rfloor + 1$.\n",
    "     - The probability of rounding to $\\lfloor z_i \\rfloor + 1$ is proportional to the fractional part of $z_i$."
   ]
  },
  {
   "cell_type": "code",
   "execution_count": 73,
   "metadata": {},
   "outputs": [
    {
     "data": {
      "text/plain": [
       "[160, 90, 160, 45]"
      ]
     },
     "execution_count": 73,
     "metadata": {},
     "output_type": "execute_result"
    }
   ],
   "source": [
    "def round_coordinates(coordinates):\n",
    "    \"\"\"Gives the integral rest.\"\"\"\n",
    "    coordinates = coordinates - np.floor(coordinates)\n",
    "    return coordinates\n",
    "\n",
    "def coordinate_wise_random_rounding(coordinates):\n",
    "    \"\"\"Rounds coordinates randonmly.\"\"\"\n",
    "    r = round_coordinates(coordinates)\n",
    "    f = np.array([np.random.choice([c, c-1], 1, p=[1-c, c]) for c in r]).reshape(-1)\n",
    "    \n",
    "    rounded_coordinates = coordinates - f\n",
    "    rounded_coordinates = [int(coeff) for coeff in rounded_coordinates]\n",
    "    return rounded_coordinates\n",
    "\n",
    "rounded_coordinates = coordinate_wise_random_rounding(coordinates)\n",
    "rounded_coordinates"
   ]
  },
  {
   "cell_type": "markdown",
   "metadata": {},
   "source": [
    "D. **Reconstruction of $z$:**\n",
    "   - Once we have the rounded coordinates $\\{z_i\\}$, we reconstruct $z$ using the basis $\\beta$:\n",
    "     $$\n",
    "     z = \\sum_{i=1}^N z_i b_i.\n",
    "     $$\n"
   ]
  },
  {
   "cell_type": "code",
   "execution_count": 74,
   "metadata": {},
   "outputs": [
    {
     "data": {
      "text/plain": [
       "array([191.81980515+255.45941546j, 128.18019485 -64.54058454j,\n",
       "       128.18019485 +64.54058454j, 191.81980515-255.45941546j])"
      ]
     },
     "execution_count": 74,
     "metadata": {},
     "output_type": "execute_result"
    }
   ],
   "source": [
    "y = np.matmul(sigma_R_basis.T, rounded_coordinates)\n",
    "y"
   ]
  },
  {
   "cell_type": "markdown",
   "metadata": {},
   "source": [
    "4. **Applying $\\sigma^{-1}$:**  \n",
    "Finally, we apply $\\sigma^{-1}$, as described below. This step outputs an element in $\\mathbb{R}$, completing the encoding process."
   ]
  },
  {
   "cell_type": "markdown",
   "metadata": {},
   "source": [
    "Find a polynomial $m(X) = \\sum_{i=0}^{N-1} \\alpha_i X^i \\in \\mathbb{C}[X]/(X^N + 1)$, given a vector $z \\in \\mathbb{C}^N$, such that $\\sigma(m) = (m(\\xi), m(\\xi^3), \\ldots, m(\\xi^{2N-1})) = (z_1, \\ldots, z_N)$ where $\\xi_M$, the $M$-th root of unity: $\\xi_M = e^{2i\\pi/M}$. So we get:\n",
    "$\\sum_{j=0}^{N-1} \\alpha_j (\\xi^{2i-1})^j = z_i, \\; i = 1, \\ldots, N.$\n",
    "\n",
    "This can be viewed as a linear equation:\n",
    "\n",
    "$A\\alpha = z$, with $A$ the Vandermonde matrix of the $(\\xi^{2i-1})_{i=1,\\ldots,N}$, $\\alpha$ the vector of the polynomial coefficients, and $z$ the vector we want to encode.\n",
    "\n",
    "$$\n",
    "\\begin{bmatrix}\n",
    "1 & \\xi_1 & \\xi_1^2 & \\xi_1^3 \\\\\n",
    "1 & \\xi_3 & \\xi_3^2 & \\xi_3^3 \\\\\n",
    "1 & \\xi_5 & \\xi_5^2 & \\xi_5^3 \\\\\n",
    "1 & \\xi_7 & \\xi_7^2 & \\xi_7^3\n",
    "\\end{bmatrix}\n",
    "\\cdot\n",
    "\\begin{bmatrix}\n",
    "a_1 \\\\\n",
    "a_2 \\\\\n",
    "a_3 \\\\\n",
    "a_4\n",
    "\\end{bmatrix}\n",
    "=\\begin{bmatrix}\n",
    "z_1 \\\\\n",
    "z_2 \\\\\n",
    "z_3 \\\\\n",
    "z_4\n",
    "\\end{bmatrix}\n",
    "$$\n",
    "\n",
    "where $\\xi_1 = \\xi_M, \\xi_3 = (\\xi_M)^3, \\xi_5 = (\\xi_M)^5, \\ldots$.\n",
    "\n"
   ]
  },
  {
   "cell_type": "code",
   "execution_count": 75,
   "metadata": {},
   "outputs": [
    {
     "data": {
      "text/latex": [
       "$x \\mapsto \\text{160.0} + \\text{90.0}\\,x + \\text{160.0}\\,x^{2} + \\text{45.0}\\,x^{3}$"
      ],
      "text/plain": [
       "Polynomial([160.,  90., 160.,  45.], domain=[-1.,  1.], window=[-1.,  1.], symbol='x')"
      ]
     },
     "execution_count": 75,
     "metadata": {},
     "output_type": "execute_result"
    }
   ],
   "source": [
    "def sigma_inverse(b: np.array) -> Polynomial:\n",
    "    \"\"\"Encodes the vector b in a polynomial using an M-th root of unity.\"\"\"\n",
    "\n",
    "    # First we create the Vandermonde matrix\n",
    "    A = vandermonde(xi, M)\n",
    "\n",
    "    # Then we solve the system\n",
    "    coeffs = np.linalg.solve(A, b)\n",
    "\n",
    "    # Finally we output the polynomial\n",
    "    p = Polynomial(coeffs)\n",
    "    \n",
    "    # We round it afterwards due to numerical imprecision\n",
    "    coef = np.round(np.real(p.coef)).astype(int)\n",
    "    return Polynomial(coef)\n",
    "\n",
    "encoded = sigma_inverse(y)\n",
    "encoded"
   ]
  },
  {
   "cell_type": "markdown",
   "metadata": {},
   "source": [
    "Therefore, we have that:\n",
    "\n",
    "$\\alpha = A^{-1}z$, and that $\\sigma^{-1}(z) = \\sum_{i=0}^{N-1} \\alpha_i X^i \\in \\mathbb{C}[X]/(X^N + 1)$. "
   ]
  },
  {
   "cell_type": "markdown",
   "metadata": {
    "jp-MarkdownHeadingCollapsed": true
   },
   "source": [
    "### Decoding\n",
    "\n",
    "For decoding, we work with a cyclotomic polynomial ring $\\mathbb{Z}[X]/(X^N + 1)$ and aim to decode it to a vector $z \\in \\mathbb{C}^N$ such that:\n",
    "$$\n",
    "z = \\pi \\circ \\sigma(\\Delta^{-1} * m) \\in \\mathbb{C}^{N/2}.\n",
    "$$\n",
    "\n",
    "The decoding process involves the following steps:\n"
   ]
  },
  {
   "cell_type": "markdown",
   "metadata": {},
   "source": [
    "1. **Scaling by $1 / \\Delta$:**  \n",
    "   Multiply the polynomial $m$ by the inverse of $\\Delta$, i.e., $1 / \\Delta$. This rescales the polynomial back to the correct domain.\n"
   ]
  },
  {
   "cell_type": "code",
   "execution_count": 76,
   "metadata": {},
   "outputs": [],
   "source": [
    "rescaled_p = encoded / delta"
   ]
  },
  {
   "cell_type": "markdown",
   "metadata": {},
   "source": [
    "2. **Applying $\\sigma$:**  \n",
    "   Next, apply $\\sigma$, which maps the polynomial from $\\mathbb{Z}[X]/(X^N + 1)$ to a complex vector in $\\mathbb{C}^N$. This is explained in detail below."
   ]
  },
  {
   "cell_type": "markdown",
   "metadata": {},
   "source": [
    "To decode a polynomial $m(X)$ into a vector $z$, we evaluate on certain values, which will be the roots of $\\Phi(M) = X^N + 1$, where the $N$ roots are $\\xi, \\xi^3, \\ldots, \\xi^{2N-1}$. \n"
   ]
  },
  {
   "cell_type": "code",
   "execution_count": 77,
   "metadata": {},
   "outputs": [],
   "source": [
    "def sigmaf(p: Polynomial) -> np.array:\n",
    "    \"\"\"Decodes a polynomial by applying it to the M-th roots of unity.\"\"\"\n",
    "\n",
    "    outputs = []\n",
    "    N = M //2\n",
    "\n",
    "    # We simply apply the polynomial on the roots\n",
    "    for i in range(N):\n",
    "        root = xi ** (2 * i + 1)\n",
    "        output = p(root)\n",
    "        outputs.append(output)\n",
    "    return np.array(outputs)\n",
    "\n",
    "z_vector = sigmaf(rescaled_p)"
   ]
  },
  {
   "cell_type": "markdown",
   "metadata": {},
   "source": [
    "3. **Projection to $\\mathbb{C}^{N/2}$:**  \n",
    "   The final step is to project the vector onto $\\mathbb{C}^{N/2}$. Since the structure ensures that the second half of the array is the conjugate of the first half, this projection simply involves returning the first half of the array."
   ]
  },
  {
   "cell_type": "code",
   "execution_count": 78,
   "metadata": {},
   "outputs": [
    {
     "data": {
      "text/plain": [
       "array([2.99718446+3.99155337j, 2.00281554-1.00844663j])"
      ]
     },
     "execution_count": 78,
     "metadata": {},
     "output_type": "execute_result"
    }
   ],
   "source": [
    "def pi(z: np.array) -> np.array:\n",
    "    \"\"\"Projects a vector of H into C^{N/2}.\"\"\"\n",
    "    \n",
    "    N = M // 4\n",
    "    return z[:N]\n",
    "\n",
    "decoded = pi(z_vector)\n",
    "decoded"
   ]
  },
  {
   "cell_type": "markdown",
   "metadata": {},
   "source": [
    "If we put everything together we have:"
   ]
  },
  {
   "cell_type": "code",
   "execution_count": 79,
   "metadata": {},
   "outputs": [
    {
     "name": "stdout",
     "output_type": "stream",
     "text": [
      "Original vector:  [3.+4.j 2.-1.j]\n",
      "Encoded polynoial:  163840.0 + 92681.0·x + 163840.0·x² + 46341.0·x³\n",
      "Vector after encoding and decoding:  [2.99998975+3.99999083j 2.00001025-1.00000917j]\n"
     ]
    }
   ],
   "source": [
    "def sigma_R_discretization(z):\n",
    "    \"\"\"Projects a vector on the lattice using coordinate wise random rounding.\"\"\"\n",
    "    coordinates = compute_basis_coordinates(z)\n",
    "    \n",
    "    rounded_coordinates = coordinate_wise_random_rounding(coordinates)\n",
    "    y = np.matmul(sigma_R_basis.T, rounded_coordinates)\n",
    "    return y\n",
    "\n",
    "def decode(p: Polynomial, scale) -> np.array:\n",
    "        \"\"\"Decodes a polynomial by removing the scale, \n",
    "        evaluating on the roots, and project it on C^(N/2)\"\"\"\n",
    "        rescaled_p = p / scale\n",
    "        z = sigmaf(rescaled_p)\n",
    "        pi_z = pi(z)\n",
    "        return pi_z\n",
    "\n",
    "def encode(z: np.array, scale) -> Polynomial:\n",
    "    \"\"\"Encodes a vector by expanding it first to H,\n",
    "    scale it, project it on the lattice of sigma(R), and performs\n",
    "    sigma inverse.\n",
    "    \"\"\"\n",
    "    pi_z = pi_inverse(z)\n",
    "    scaled_pi_z = scale * pi_z\n",
    "    rounded_scale_pi_zi = sigma_R_discretization(scaled_pi_z)\n",
    "    p = sigma_inverse(rounded_scale_pi_zi)\n",
    "    \n",
    "    # We round it afterwards due to numerical imprecision\n",
    "    coef = np.round(np.real(p.coef)).astype(int)\n",
    "    p = Polynomial(coef)\n",
    "    return p\n",
    "\n",
    "\n",
    "# Another example with larger Delta\n",
    "\n",
    "delta = 2**16\n",
    "encoded_pol = encode(z, delta)\n",
    "decoded = decode(encoded_pol, delta)\n",
    "\n",
    "print(f\"Original vector: \", z)\n",
    "print(f\"Encoded polynoial: \", encoded_pol) \n",
    "print(f\"Vector after encoding and decoding: \", decoded)\n"
   ]
  },
  {
   "cell_type": "markdown",
   "metadata": {},
   "source": [
    "We will use this encoded poynomial $163840.0 + 92682.0·x + 163840.0·x² + 46341.0·x³$ as an example for encryption and decryption later."
   ]
  },
  {
   "cell_type": "code",
   "execution_count": 80,
   "metadata": {},
   "outputs": [],
   "source": [
    "# code from https://github.com/AI-Tech-Research-Lab/Introduction-to-BFV-HE-ML/blob/main/BFV_theory/BFV_theory.ipynb\n",
    "\n",
    "def Poly(coeffs):\n",
    "    \"\"\"\n",
    "    Helper function to build polynomials, passing a dictionary of coefficients.\n",
    "    For example, passing {0: 1, 1: -2, 2: 2} returns the polynomial\n",
    "    2X**2 - 2X + 1\n",
    "    \"\"\"\n",
    "    max_power = max(coeffs.keys())\n",
    "    _coeffs = np.zeros(max_power + 1)\n",
    "     \n",
    "    for i, c in coeffs.items():\n",
    "        _coeffs[i] = c\n",
    "        \n",
    "    return Polynomial(_coeffs)\n",
    "\n",
    "def pr(p):\n",
    "    \"\"\" \n",
    "    Helper function to pretty-print the polynomials, with human order\n",
    "    of powers, removed trailing .0, etc.\n",
    "    \"\"\"\n",
    "    coefs = p.coef\n",
    "    res = \"\"\n",
    "    \n",
    "    powers = range(len(coefs)-1, -1, -1)\n",
    "    for power, coeff in zip(powers, reversed(coefs)):\n",
    "        if coeff == 0:\n",
    "            continue\n",
    "        \n",
    "        if int(coeff) == coeff:\n",
    "            coeff = int(coeff)\n",
    "                  \n",
    "        sign = \"- \" if coeff < 0 else \"+ \"\n",
    "        \n",
    "        if power == 0:\n",
    "            value = abs(coeff)\n",
    "        elif abs(coeff) != 1:\n",
    "            value = abs(coeff)\n",
    "        else:\n",
    "            value = \"\"\n",
    "\n",
    "        power_sign = {0: \"\", 1: \"X\"}\n",
    "        def_power_sign = f\"X**{power}\"\n",
    "        \n",
    "        res += f\" {sign}{value}{power_sign.get(power, def_power_sign)}\"\n",
    "        \n",
    "    if res[1] == \"+\":\n",
    "        return res[3:]\n",
    "    if res[1] == \"-\":\n",
    "        return res[1:]\n",
    "\n",
    "def mod_on_coefficients(polynomial, modulo):\n",
    "    \"\"\"\n",
    "    Apply the modulo on the coefficients of a polynomial.\n",
    "    \"\"\"\n",
    "    coefs = polynomial.coef\n",
    "    mod_coefs = []\n",
    "    for c in coefs:\n",
    "        mod_coefs.append(c % modulo)\n",
    "        \n",
    "    return Polynomial(mod_coefs)\n",
    "\n",
    "def round_on_nearest_integer(polynomial):\n",
    "    \"\"\"\n",
    "    Round the coefficients of a polynomial to the\n",
    "    nearest integer.\n",
    "    \"\"\"\n",
    "    coefs = polynomial.coef\n",
    "    round_coefs = []\n",
    "    for c in coefs:\n",
    "        round_coefs.append(round(c))\n",
    "    \n",
    "    return Polynomial(round_coefs)\n",
    "\n",
    "\n",
    "def reduce_polynomial(polynomial, cyclotomic_polynomial, q):\n",
    "    \"\"\"\n",
    "    Reduce a polynomial modulo a cyclotomic polynomial and a modulus.\n",
    "    \"\"\"\n",
    "    remainder = polynomial % polynomial_modulus # polynomial modulo cyclotomic polynomial -> get the remainder\n",
    "    return mod_on_coefficients(remainder, q) # perfrom mod operation on coefficients\n",
    "\n",
    "\n",
    "def find_negative_coefficients(polynomial):\n",
    "    \"\"\"\n",
    "    Returns a list with indices of negative coefficients\n",
    "    \"\"\"\n",
    "    coeffs = polynomial.coef[::]\n",
    "    neg_indices = []\n",
    "    for i in range(len(coeffs)):\n",
    "        if coeffs[i] < 0:\n",
    "            neg_indices.append(i)\n",
    "\n",
    "    return neg_indices\n"
   ]
  },
  {
   "cell_type": "markdown",
   "metadata": {},
   "source": [
    "## Ciphertext Encryption and Decryption\n",
    "\n",
    "The schemes like BFV or also CKKS are based on a hard computation problem called Ring Learning With Errors."
   ]
  },
  {
   "cell_type": "markdown",
   "metadata": {},
   "source": [
    "### Coefficients\n",
    "\n",
    "First, the coefficients of the polynomials in RLWE are whole numbers, and they are always taken **modulo** some fixed number $q$. This means that each coefficient is the **remainder** when divided by $q$, effectively keeping them within a limited range.\n",
    "\n",
    "#### Example:\n",
    "Let’s take the modulus $q = 12$. You can think of this like a **clock**, where each hour corresponds to an element in the range $\\{0, 1, 2, \\dots, 11\\}$. On a clock, if you add $10 + 5$, the result isn’t $15$, instead it wraps around to $3$.\n",
    "\n",
    "Similarly, in modular arithmetic, coefficients work the same way. For example:\n",
    "\n",
    "$$\n",
    "10 + 5 \\mod 12 = 3\n",
    "$$\n",
    "\n",
    "---\n",
    "\n",
    "#### Ring of Polynomials\n",
    "Now assume we are working with polynomials instead of just numbers. A polynomial like:\n",
    "\n",
    "$$\n",
    "f(x) = 10x + 5\n",
    "$$\n",
    "\n",
    "is in the \"ring of polynomials,\" where each coefficient $10$ and $5$ is taken **modulo $q$**. So, if $q = 12$, the polynomial remains valid and computations wrap around, just like on the clock.\n",
    "\n",
    "### Polynomial Modulus\n",
    "\n",
    "The second important aspect is that the **polynomials themselves are also reduced modulo a special polynomial**. This special polynomial is called the **polynomial modulus**. Every polynomial used in the scheme is divided by this polynomial modulus, and only the remainder is kept.\n",
    "\n",
    "In homomorphic encryption (HE) schemes, the polynomial modulus is commonly chosen in the form:\n",
    "\n",
    "$$\n",
    "f(x) = x^N + 1\n",
    "$$\n",
    "\n",
    "where $N$ is a power of $2$. For example, if we take $N = 8$, the polynomial modulus becomes:\n",
    "\n",
    "$$\n",
    "f(x) = x^8 + 1\n",
    "$$\n",
    "\n",
    "---\n",
    "\n",
    "### Key Characteristics of Polynomials in the Scheme\n",
    "\n",
    "The polynomials used in the scheme have two important properties:\n",
    "\n",
    "1. **Coefficients are reduced modulo $q$**:\n",
    "   Each coefficient in the polynomial is reduced modulo $q$, creating a ring structure where coefficients belong to the range $\\{0, 1, 2, \\dots, q-1\\}$.\n",
    "\n",
    "2. **Maximum degree is $N-1$**:\n",
    "   The polynomials are reduced modulo the polynomial $f(x) = x^N + 1$, meaning their degree can be at most $N-1$.\n",
    "\n",
    "---\n",
    "\n",
    "If $q = 23$ and $N = 8$, then the polynomials in the scheme are of the form:\n",
    "\n",
    "$$\n",
    "p(x) = a_0 + a_1x + a_2x^2 + \\dots + a_7x^7\n",
    "$$\n",
    "\n",
    "where each coefficient $a_i$ satisfies $0 \\leq a_i < 23$. This means there are 8 coefficients, each in the range from $0$ to $22$.\n",
    "\n",
    "### Practical Example\n",
    "Let's take 2 polynomials $a = 3x^{4}$ and $b = 4x^{5}$ with $N=8$ -> polynomial modulous $x^{8} + 1$ and $q=7$. When we multiple $a*b$, we get $12x^9$.\n",
    "\n",
    "After each operation, we have to perform the division with the polynomial modulus and keep the remainder.\n",
    "\n",
    "$$\n",
    "12x^{9} \\mod (x^8 + 1) = -12x\n",
    "$$\n",
    "\n",
    "Also, the result's coefficients have to be taken $\\mod q$.\n",
    "\n",
    "$[-12x]_q = 2x$"
   ]
  },
  {
   "cell_type": "code",
   "execution_count": 81,
   "metadata": {},
   "outputs": [
    {
     "name": "stdout",
     "output_type": "stream",
     "text": [
      "A: 3X**4\n",
      "B: 4X**5\n",
      "Product of A and B: 12X**9\n",
      "Polynomial modulus: X**8 + 1\n",
      "----------------------\n",
      "Remainder of (A*B) / polynomial modulus: - 12X\n",
      "Apply also mod k: 2X\n"
     ]
    }
   ],
   "source": [
    "a = Poly({4: 3})\n",
    "b = Poly({5: 4})\n",
    "q = 7\n",
    "polynomial_modulus = Poly({0: 1, 8: 1})\n",
    "\n",
    "prod = a * b\n",
    "\n",
    "quo, rem = divmod(prod, polynomial_modulus)\n",
    "final_result = mod_on_coefficients(rem, q)\n",
    "\n",
    "print(f\"A: {pr(a)}\")\n",
    "print(f\"B: {pr(b)}\")\n",
    "print(f\"Product of A and B: {pr(prod)}\")\n",
    "print(f\"Polynomial modulus: {pr(polynomial_modulus)}\")\n",
    "print(f\"----------------------\")\n",
    "print(f\"Remainder of (A*B) / polynomial modulus: {pr(rem)}\")\n",
    "print(f\"Apply also mod k: {pr(final_result)}\")"
   ]
  },
  {
   "cell_type": "markdown",
   "metadata": {},
   "source": [
    "### CKKS Encryption and Decryption\n",
    "\n",
    "In CKKS, encryption takes a plaintext (typically a vector of real or complex numbers) and converts it into a ciphertext using a **public key** derived from a **private key**. The decryption process, which recovers the plaintext, is feasible only if you know the private key.\n",
    "\n",
    "---\n",
    "\n",
    "#### Ciphertext\n",
    "The encryption of a plaintext produces a ciphertext, which is represented by **two or more polynomials** from the same ring. However, the ciphertext uses:\n",
    "- The same **polynomial modulus** $f(x) = x^N + 1$.\n",
    "- A much larger modulus $q$, known as the **ciphertext coefficient modulus**, to allow space for noise during homomorphic computations.\n",
    "\n",
    "\n",
    "#### Example with Small Parameters\n",
    "To simplify, let’s consider smaller, insecure parameters for an example:\n",
    "- $N = 4$, so $f(x) = x^4 + 1$..\n",
    "- $q = ^{60} - 1 $ (ciphertext modulus).\n",
    "\n",
    "##### Example Plaintext:\n",
    "A plaintext polynomial might be:\n",
    "\n",
    "$$\n",
    "p(x) = 163840 + 92682x + 163840x^2 + 46341^3\n",
    "$$\n",
    "\n",
    "\n",
    "##### Encryption:\n",
    "Encryption transforms $p(x)$ into a ciphertext $(c_0(x), c_1(x))$, where both $c_0(x)$ and $c_1(x)$ are polynomials with coefficients reduced modulo $q = 2^{60} - 1 $.\n"
   ]
  },
  {
   "cell_type": "code",
   "execution_count": 82,
   "metadata": {},
   "outputs": [
    {
     "name": "stdout",
     "output_type": "stream",
     "text": [
      "Ciphertext coefficient modulo: 1152921504606846975\n",
      "Polynomial modulus: X**4 + 1\n",
      "Plaintext polynomial: 46341X**3 + 163840X**2 + 92682X + 163840\n"
     ]
    }
   ],
   "source": [
    "q = 2**60 - 1 \n",
    "N = 4\n",
    "m = Poly({0: 163840, 1: 92682, 2: 163840, 3:46341})\n",
    "\n",
    "polynomial_modulus = Poly({0: 1, N: 1})\n",
    "\n",
    "print(f\"Ciphertext coefficient modulo: {q}\")\n",
    "print(f\"Polynomial modulus: {pr(polynomial_modulus)}\")\n",
    "print(f\"Plaintext polynomial: {pr(m)}\")"
   ]
  },
  {
   "cell_type": "markdown",
   "metadata": {},
   "source": [
    "#### Generation of Private Key $s$\n",
    "\n",
    "In CKKS (and similar schemes), the private key $s$ is a randomly generated polynomial with certain constraints. Here’s a brief explanation:\n",
    "\n",
    "1. **Parameter $h$**:\n",
    "   - The parameter $h$ determines the number of non-zero coefficients in the secret key $s$.\n",
    "\n",
    "2. **Structure of $s$**:\n",
    "   - $s(x)$ is a polynomial in the ring $R = \\mathbb{Z}[x]/(f(x))$, where $f(x) = x^N + 1$.\n",
    "   - The coefficients of $s(x)$ are either $-1$, $0$, or $1$.\n",
    "\n",
    "3. **Generation Process**:\n",
    "   - Randomly select $h$ positions in the polynomial $s(x)$ to be non-zero.\n",
    "   - Assign these positions a value of $1$ or $-1$ (randomly chosen).\n",
    "   - The remaining coefficients are set to $0$."
   ]
  },
  {
   "cell_type": "code",
   "execution_count": 83,
   "metadata": {},
   "outputs": [
    {
     "name": "stdout",
     "output_type": "stream",
     "text": [
      "Secret key: - X**3 - X**2\n"
     ]
    }
   ],
   "source": [
    "import random\n",
    "\n",
    "\n",
    "def secret_key_pol(N, h):\n",
    "    \"\"\"\n",
    "    Generate the secret key.\n",
    "    N = degree of polynomial modulous\n",
    "    h = number of non-zero coefficients in the polynomial generated\n",
    "    \"\"\"\n",
    "    s = {}\n",
    "    non_zero_indices = random.sample(range(N), h)\n",
    "    \n",
    "    # Assign ±1 randomly to the selected positions\n",
    "    for idx in non_zero_indices:\n",
    "        s[idx] = random.choice([-1, 1])\n",
    "    \n",
    "    return Poly(s)\n",
    "\n",
    "h = 2\n",
    "s = secret_key_pol(N, h) # secret key\n",
    "print(f\"Secret key: {pr(s)}\")"
   ]
  },
  {
   "cell_type": "markdown",
   "metadata": {},
   "source": [
    "#### Generation of Public Key $(a, b)$\n",
    "\n",
    "In CKKS (and similar schemes), the public key is derived from the private key $s$ and includes two polynomials $(a, b)$. Here’s a brief explanation:\n",
    "\n",
    "1. **Structure of the Public Key**:\n",
    "   - The public key $(a, b)$ consists of two polynomials in the ring $R = \\mathbb{Z}[x]/(f(x))$, where $f(x) = x^N + 1$.\n",
    "   - The coefficients of these polynomials are reduced modulo a large number $q$ (ciphertext modulus).\n",
    "\n",
    "2. **Generation Process**:\n",
    "   - Randomly generate a polynomial $a(x)$ with coefficients modulo $q$.\n",
    "   - Compute $b(x)$ as:\n",
    "     $$\n",
    "     b(x) = -a(x) \\cdot s(x) + e(x) \\pmod{q}\n",
    "     $$\n",
    "     where:\n",
    "     - $s(x)$ is the private key.\n",
    "     - $e(x)$ is a small error (noise) polynomial, with coefficients sampled from a discrete Gaussian or uniform distribution to ensure security.\n",
    "\n",
    "3. **Result**:\n",
    "   - The public key is $(a(x), b(x))$, where:\n",
    "     - $a(x)$ is the random polynomial.\n",
    "     - $b(x)$ is derived using the private key and noise.\n"
   ]
  },
  {
   "cell_type": "code",
   "execution_count": 84,
   "metadata": {},
   "outputs": [
    {
     "name": "stdout",
     "output_type": "stream",
     "text": [
      "a: 315146228264186816X**3 + 410344545916459840X**2 + 788941638083153280X + 210424441770790848\n",
      "\n",
      "e: - 6X**3 - 4X - 4\n",
      "\n",
      "Public key: 999366079853944064X**3 + 1048199718113451008X**2 + 427430730426200320X + 1106556825214080768, 315146228264186816X**3 + 410344545916459840X**2 + 788941638083153280X + 210424441770790848\n",
      "\n"
     ]
    }
   ],
   "source": [
    "def create_error_pol(N, Sigma, mu):\n",
    "    \"\"\"\n",
    "    Generate an error polynomial.\n",
    "    \"\"\"\n",
    "    e = np.random.normal(mu, Sigma, N)\n",
    "    e_map = {}\n",
    "    for i in range(len(e)):\n",
    "        e_map[i] = round(e[i])\n",
    "    \n",
    "    return Poly(e_map)\n",
    "\n",
    "def sample_pol(N, modulous):\n",
    "    \"\"\"\n",
    "    Sample a polynomial.\n",
    "    \"\"\"\n",
    "    coeffs = {}\n",
    "    for i in range(N):\n",
    "        c = np.random.randint(0, modulous)\n",
    "        coeffs[i] = c\n",
    "    return Poly(coeffs)\n",
    "\n",
    "\n",
    "mu, Sigma = 0, 3.2 # suggested values in the original paper\n",
    "a = sample_pol(N, q)\n",
    "e = create_error_pol(N, Sigma, mu)\n",
    "\n",
    "b = (-a*s)+e\n",
    "b = reduce_polynomial(b, polynomial_modulus, q)\n",
    "\n",
    "\n",
    "# public key\n",
    "pk = (b, a)\n",
    "\n",
    "print(f\"a: {pr(a)}\\n\")\n",
    "print(f\"e: {pr(e)}\\n\")\n",
    "print(f\"Public key: {pr(pk[0])}, {pr(pk[1])}\\n\")"
   ]
  },
  {
   "cell_type": "markdown",
   "metadata": {},
   "source": [
    "To perform the encryption we need three \"small\" polynomials:\n",
    "\n",
    "- Two error polynomials (\"small error\" polynomials), extracted from a discrete Gaussian distribution (similarly to the one used in the public key);\n",
    "- A \"small\" polynomial, $v$ which has coefficients drawn from $(-1, 0, 1)$, similar to $s$."
   ]
  },
  {
   "cell_type": "code",
   "execution_count": 85,
   "metadata": {},
   "outputs": [
    {
     "name": "stdout",
     "output_type": "stream",
     "text": [
      "e_1: - 3X**3 + 2X**2 + X + 2\n",
      "\n",
      "e_2: - X**3 + X**2 + 2X + 1\n",
      "\n",
      "v: - X**2 - X + 1\n",
      "\n"
     ]
    }
   ],
   "source": [
    "e1 = create_error_pol(N, Sigma, mu)\n",
    "e2 = create_error_pol(N, Sigma, mu)\n",
    "\n",
    "coeffs = {}\n",
    "for i in range(0, N):\n",
    "    coeffs[i] = np.random.randint(-1, 2)    \n",
    "v = Poly(coeffs)\n",
    "\n",
    "print(f\"e_1: {pr(e1)}\\n\")\n",
    "print(f\"e_2: {pr(e2)}\\n\")\n",
    "print(f\"v: {pr(v)}\\n\")"
   ]
  },
  {
   "cell_type": "markdown",
   "metadata": {},
   "source": [
    "### Encryption in CKKS"
   ]
  },
  {
   "cell_type": "markdown",
   "metadata": {},
   "source": [
    "In CKKS, the ciphertext is represented by two polynomials:\n",
    "\n",
    "$$\n",
    "\\text{ct} = \\left( \\left[ pk[0] \\cdot v + e_1 + m \\right]_{\\Phi_N, q}, \\, \\left[ pk[1] \\cdot v + e_2 \\right]_{\\Phi_N, q} \\right)\n",
    "$$\n",
    "\n",
    "Where:\n",
    "- $m$: The plaintext polynomial\n",
    "- $v$: A random polynomial for security.\n",
    "- $e_1, e_2$: Small noise polynomials.\n",
    "- $q$: Ciphertext modulus.\n",
    "- $\\Phi_N = x^N + 1$: The polynomial modulus."
   ]
  },
  {
   "cell_type": "code",
   "execution_count": 86,
   "metadata": {},
   "outputs": [
    {
     "name": "stdout",
     "output_type": "stream",
     "text": [
      "Ciphertext: 676657135921186048X**3 + 667133667080180736X**2 + 320239985066156288X + 848279613967945728, 268781548871420672X**3 + 563899970669362688X**2 + 893663424576549376X + 935915215951437568\n"
     ]
    }
   ],
   "source": [
    "from math import floor\n",
    "\n",
    "ct0 = pk[0] * v + e1 + m\n",
    "ct0 = reduce_polynomial(ct0, polynomial_modulus, q)\n",
    "\n",
    "ct1 = pk[1] * v + e2\n",
    "ct1 = reduce_polynomial(ct1, polynomial_modulus, q)\n",
    "\n",
    "ciphertext = (ct0, ct1)\n",
    "print(f\"Ciphertext: {pr(ct0)}, {pr(ct1)}\")"
   ]
  },
  {
   "cell_type": "markdown",
   "metadata": {},
   "source": [
    "### Decryption in CKKS"
   ]
  },
  {
   "cell_type": "markdown",
   "metadata": {},
   "source": [
    "### Decryption in CKKS\n",
    "\n",
    "The decryption process in CKKS is relatively straightforward. The ciphertext is represented as two polynomials $(c_0, c_1)$, and decryption uses the private key $s$.\n",
    "\n",
    "Multiply the second term of the ciphertext $c_1$ with the private key $s$, and sum it with the first term $c_0$:\n",
    "   $$\n",
    "   \\text{Dec} = c_0 + c_1 \\cdot s \\pmod{\\Phi_N, q}\n",
    "   $$\n",
    "\n",
    "   Substituting the ciphertext structure, we get:\n",
    "   $$\n",
    "   \\text{Dec} = \\left[\\Delta \\cdot m - e_v - e_1 + e_2\\cdot s\\right]_{\\Phi_N, q}\n",
    "   $$\n",
    "\n",
    "Inside this polynomial we have the scaled message summed to some noise. If the noise is not too big, we can recover the message.\n",
    "\n",
    "To do that, we just try to make the modulo with the polynomial modulus, than to apply\n",
    "to the coefficients of the resulting polynomial."
   ]
  },
  {
   "cell_type": "code",
   "execution_count": 87,
   "metadata": {},
   "outputs": [
    {
     "name": "stdout",
     "output_type": "stream",
     "text": [
      "Plain starting message: 46341X**3 + 163840X**2 + 92682X + 163840\n",
      "Final decryption result: 46080X**3 + 163840X**2 + 92672X + 163840\n"
     ]
    }
   ],
   "source": [
    "plaintext = ciphertext[1] * s + ciphertext[0]\n",
    "plaintext = reduce_polynomial(plaintext, polynomial_modulus, q)\n",
    "\n",
    "print(f\"Plain starting message: {pr(m)}\")\n",
    "print(f\"Final decryption result: {pr(plaintext)}\")"
   ]
  },
  {
   "cell_type": "markdown",
   "metadata": {},
   "source": [
    "Then if we try to decode the decrypted result, we get:"
   ]
  },
  {
   "cell_type": "code",
   "execution_count": 88,
   "metadata": {},
   "outputs": [
    {
     "name": "stdout",
     "output_type": "stream",
     "text": [
      "Original vector:  [3.+4.j 2.-1.j]\n",
      "Decoded vector: [3.00270873+3.99707764j 1.99729127-1.00292236j]\n"
     ]
    }
   ],
   "source": [
    "delta = 2**16\n",
    "decoded_vector = decode(plaintext, delta)\n",
    "\n",
    "print(f\"Original vector: \", z)\n",
    "print(f\"Decoded vector: {decoded_vector}\")"
   ]
  },
  {
   "cell_type": "markdown",
   "metadata": {},
   "source": [
    "Following the decoding process, we obtain a high-quality approximation of the original input vector.\n",
    "\n",
    "The steps achieved thus far can be summarized as follows:\n",
    "\n",
    "**Input Vector → Encoding → Encryption → Decryption → Decoding → Approximation of Input Vector**"
   ]
  },
  {
   "cell_type": "markdown",
   "metadata": {},
   "source": [
    "We are ready to define some other helper functions to automatize the process of encryption and decryption."
   ]
  },
  {
   "cell_type": "code",
   "execution_count": 89,
   "metadata": {},
   "outputs": [],
   "source": [
    "def generate_keys(N, q, h, pol_modulus, mu=0, Sigma=3.2):\n",
    "   \n",
    "    # secret key\n",
    "    sk = secret_key_pol(N, h)\n",
    "\n",
    "    a = sample_pol(N, q)\n",
    "    e = create_error_pol(N, Sigma, mu)\n",
    "    \n",
    "    b = (-a*sk)+e\n",
    "    b = reduce_polynomial(b, pol_modulus, q)\n",
    "    \n",
    "    # public key\n",
    "    pk = (b, a)\n",
    "\n",
    "    return sk, pk\n",
    "\n",
    "def encrypt_poly(m, N, pk, pol_modulus, q):\n",
    "    e1 = create_error_pol(N, Sigma, mu)\n",
    "    e2 = create_error_pol(N, Sigma, mu)\n",
    "    \n",
    "    coeffs = {}\n",
    "    for i in range(0, N):\n",
    "        coeffs[i] = np.random.randint(-1, 2)    \n",
    "    v = Poly(coeffs)\n",
    "\n",
    "    ct0 = pk[0] * v + e1 + m\n",
    "    ct0 = reduce_polynomial(ct0, pol_modulus, q)\n",
    "    \n",
    "    ct1 = pk[1] * v + e2\n",
    "    ct1 = reduce_polynomial(ct1, pol_modulus, q)\n",
    "    return ct0, ct1\n",
    "\n",
    "def decrypt_poly(ct, sk, pol_modulus, q):\n",
    "    plaintext = ct[1] * sk + ct[0]\n",
    "    plaintext = reduce_polynomial(plaintext, polynomial_modulus, q)\n",
    "    \n",
    "    return plaintext\n"
   ]
  },
  {
   "cell_type": "markdown",
   "metadata": {},
   "source": [
    "Now we will show a complete example with endoding/decoding and encryption/decryption for a vector of 2 real numbers.\n"
   ]
  },
  {
   "cell_type": "code",
   "execution_count": 90,
   "metadata": {},
   "outputs": [
    {
     "name": "stdout",
     "output_type": "stream",
     "text": [
      "Original vector:  [4.+0.j 3.+0.j]\n"
     ]
    }
   ],
   "source": [
    "# PARAMETERS\n",
    "N = 4\n",
    "h = 2\n",
    "polynomial_modulus = Poly({0: 1, N: 1})\n",
    "q = 2**60-1\n",
    "delta = 2**40 # scaling factor \n",
    "\n",
    "# vector with 2 integers\n",
    "z = np.array([4.0 + 0j, 3 + 0j])\n",
    "print(f\"Original vector: \", z)"
   ]
  },
  {
   "cell_type": "code",
   "execution_count": 91,
   "metadata": {},
   "outputs": [
    {
     "name": "stdout",
     "output_type": "stream",
     "text": [
      "Encoded polynomial:  3.8482907e+12 + (3.88736064e+11)·x + 0.0·x² - (3.88736064e+11)·x³\n",
      "Encoded polynomial after mod q:  3.8482907e+12 + (3.88736064e+11)·x + 0.0·x² + (1.15292112e+18)·x³\n"
     ]
    }
   ],
   "source": [
    "# VECTOR ENCODING\n",
    "encoded_pol = encode(z, delta) # encoded polynomial\n",
    "neg_coeff = find_negative_coefficients(encoded_pol) # store the positions with negative coefficients\n",
    "encoded_pol_after_mod = mod_on_coefficients(encoded_pol, q) # to ensure that the coefficients are within Zq\n",
    "\n",
    "print(f\"Encoded polynomial: \", encoded_pol)\n",
    "print(f\"Encoded polynomial after mod q: \", encoded_pol_after_mod)"
   ]
  },
  {
   "cell_type": "markdown",
   "metadata": {},
   "source": [
    "As we can see when we encode our vector the coefficients must be modulo q, so we perform modulous operation on the coefficients. We can see that only the coefficient of $x^3$ changed because it was a negative number."
   ]
  },
  {
   "cell_type": "code",
   "execution_count": 92,
   "metadata": {},
   "outputs": [
    {
     "name": "stdout",
     "output_type": "stream",
     "text": [
      "Ciphertext: 415193336926331008X**3 + 725402141172790784X**2 + 472972262291130880X + 369459668976911104, 1124032430660510976X**3 + 177973160243288576X**2 + 444082799608730880X + 547428980929502336\n"
     ]
    }
   ],
   "source": [
    "# GENERATE THE SECRET AND PUBLIC KEYS AND THEN ENCRYPT THE POLYNOMIAL\n",
    "secret_key, public_key = generate_keys(N, q, h, polynomial_modulus)\n",
    "encrypted = encrypt_poly(encoded_pol_after_mod, N, public_key, polynomial_modulus, q)\n",
    "print(f\"Ciphertext: {pr(encrypted[0])}, {pr(encrypted[1])}\")"
   ]
  },
  {
   "cell_type": "code",
   "execution_count": 93,
   "metadata": {},
   "outputs": [
    {
     "name": "stdout",
     "output_type": "stream",
     "text": [
      "Decrypted polynomial:  3.8482907e+12 + (3.88736064e+11)·x + (1.1529215e+18)·x² -\n",
      "(3.88736064e+11)·x³\n"
     ]
    }
   ],
   "source": [
    "# DECRYPT POLYNOMIAL\n",
    "decrypted = decrypt_poly(encrypted, secret_key, polynomial_modulus, q)\n",
    "\n",
    "# We then change back the coefficients, where the mod operation changed them\n",
    "coeffs = decrypted.coef[::] # get the coefficients of the decrypted polynomial\n",
    "for x in neg_coeff: \n",
    "    coeffs[x] -= q # perform coefficient - q for the initial negative coefficients\n",
    "\n",
    "decrypted = Polynomial(coeffs) \n",
    "print(f\"Decrypted polynomial: \", decrypted)"
   ]
  },
  {
   "cell_type": "markdown",
   "metadata": {},
   "source": [
    "Finally we decode the vector."
   ]
  },
  {
   "cell_type": "code",
   "execution_count": 94,
   "metadata": {},
   "outputs": [
    {
     "name": "stdout",
     "output_type": "stream",
     "text": [
      "Original vector:  [4.+0.j 3.+0.j]\n",
      "Vector after decoding:  [4.+1048576.j 3.-1048576.j]\n"
     ]
    }
   ],
   "source": [
    "decoded = decode(decrypted, delta) \n",
    "\n",
    "print(f\"Original vector: \", z)\n",
    "print(f\"Vector after decoding: \", decoded)"
   ]
  },
  {
   "cell_type": "markdown",
   "metadata": {},
   "source": [
    "Again after the decoding process, we obtain a high-quality approximation of the original input vector."
   ]
  },
  {
   "cell_type": "markdown",
   "metadata": {},
   "source": [
    "### Homomorphic Operations\n",
    "\n",
    "The core of homomorphic encryption are the operations that can be done on encrypted data, that includes addition on ciphertext and plaintext, ciphertext and ciphertext, as well as multiplication of ciphertext and plaintext, as well as ciphertext and ciphertext. Another example that will be shown is squaring a ciphertext."
   ]
  },
  {
   "cell_type": "markdown",
   "metadata": {},
   "source": [
    "## Addition\n",
    "\n",
    "Addition in CKKS is rather straightforward, we have the following ciphertexts:\n",
    "$$ c_1 = (c_{10}, c_{11})$$\n",
    "$$ c_2 = (c_{20}, c_{21})$$\n",
    "\n",
    "$$ c_{add} = c_1 + c_2 = (c_{10} + c_{20}, c_{11} + c_{21})$$\n",
    "\n",
    "With addition, the resulting ciphertext contains both the original message terms and an accumulated error term. Since the noise terms are typically miniscule compared to the scaling factor, the accumulated error remains manageable."
   ]
  },
  {
   "cell_type": "code",
   "execution_count": 95,
   "metadata": {},
   "outputs": [
    {
     "name": "stdout",
     "output_type": "stream",
     "text": [
      "Message 1: 46341X**3 + 123821X**2 + 92682X + 163840\n",
      "Message cipher text 1: 676657135921186048X**3 + 667133667080140800X**2 + 320239985066156288X + 848279613967945728, 268781548871420672X**3 + 563899970669362688X**2 + 893663424576549376X + 935915215951437568\n",
      "Message 2: 57321X**3 + 294721X**2 + 103456X + 204800\n",
      "Message cipher text 2: 676657135921197056X**3 + 667133667080311552X**2 + 320239985066167040X + 848279613967986688, 268781548871420672X**3 + 563899970669362688X**2 + 893663424576549376X + 935915215951437568\n",
      "Added ciphertext: 1353314271842383104X**3 + 1334267334160452352X**2 + 640479970132323328X + 1696559227935932416, 537563097742841344X**3 + 1127799941338725376X**2 + 1787326849153098752X + 1871830431902875136\n",
      "Message 1 + Message 2: 103662X**3 + 418542X**2 + 196138X + 368640\n",
      "Final decryption result: 103168X**3 + 418560X**2 + 196096X + 368640\n"
     ]
    }
   ],
   "source": [
    "def add(c_1, c_2):\n",
    "    c_add_0 = [x + y for x, y in zip(c_1[0], c_2[0])]\n",
    "    c_add_1 = [x + y for x, y in zip(c_1[1], c_2[1])]\n",
    "\n",
    "    c_add_0 = Poly({i: coeff for i, coeff in enumerate(c_add_0)})\n",
    "    c_add_1 = Poly({i: coeff for i, coeff in enumerate(c_add_1)})\n",
    "    return (c_add_0, c_add_1)\n",
    "\n",
    "m1 = Poly({0: 163840, 1: 92682, 2: 123821, 3: 46341})\n",
    "m2 = Poly({0: 204800, 1: 103456, 2: 294721, 3: 57321})\n",
    "sum_message = m1+m2\n",
    "\n",
    "ct10 = pk[0] * v + e1 + m1\n",
    "ct10 = reduce_polynomial(ct10, polynomial_modulus, q)\n",
    "\n",
    "ct11 = pk[1] * v + e2\n",
    "ct11 = reduce_polynomial(ct11, polynomial_modulus, q)\n",
    "\n",
    "c1 = (ct10, ct11)\n",
    "\n",
    "ct20 = pk[0] * v + e1 + m2\n",
    "ct20 = reduce_polynomial(ct20, polynomial_modulus, q)\n",
    "\n",
    "ct21 = pk[1] * v + e2\n",
    "ct21 = reduce_polynomial(ct21, polynomial_modulus, q)\n",
    "\n",
    "c2 = (ct20, ct21)\n",
    "\n",
    "(c_add0, c_add1) = add(c1, c2)\n",
    "ciphertext = (c_add0, c_add1)\n",
    "\n",
    "plaintext = ciphertext[1] * s + ciphertext[0]\n",
    "plaintext = reduce_polynomial(plaintext, polynomial_modulus, q)\n",
    "\n",
    "print(f\"Message 1: {pr(m1)}\")\n",
    "print(f\"Message cipher text 1: {pr(ct10)}, {pr(ct11)}\")\n",
    "print(f\"Message 2: {pr(m2)}\")\n",
    "print(f\"Message cipher text 2: {pr(ct20)}, {pr(ct21)}\")\n",
    "\n",
    "print(f\"Added ciphertext: {pr(c_add0)}, {pr(c_add1)}\")\n",
    "\n",
    "print(f\"Message 1 + Message 2: {pr(sum_message)}\")\n",
    "print(f\"Final decryption result: {pr(plaintext)}\")\n"
   ]
  },
  {
   "cell_type": "markdown",
   "metadata": {},
   "source": [
    "## Multiplication\n",
    "\n",
    "\n",
    "Multiplication in CKKS is more complex compared to addition because it introduces significant growth in both the ciphertext dimension and noise. After multiplying two ciphertexts, the resulting ciphertext will have three components (dimension 3), compared to the original ciphertext dimension of 2. This growth in dimension occurs because the homomorphic multiplication generates additional terms.\n",
    "\n",
    "Additionally, the scale and noise grow faster during multiplication. For example, given two ciphertexts $c$ and $c'$ with scale $\\Delta$, the resulting ciphertext will have terms scaled by $\\Delta^2$. to address these issues, two kep operations are performed after multiplication: rescaling and relinearization.\n",
    "\n",
    "$$ CMult(c,c') = c_{mult} = (d_0, d_1, d_2) = (c_0 \\cdot c'_0, c_0 \\cdot c'_1 + c'_0 \\cdot c_1, c_1 \\cdot c'_1)$$\n",
    "\n",
    "### Rescaling\n",
    "Rescaling is used to manage the growth of the scale $\\Delta$ and reduce the noise after multiplication. Without rescaling, the scale would grow exponentially with successive multiplications, making decryption and further operations impractical.\n",
    "\n",
    "Ciphertexts are initialized at a level L, and for every multiplication it decreases the level of the resulting ciphertext. For any binary operation to happen, the two involved ciphertext should have the same level, else the operation will fail. The modulo q can be defined as the following : $q = \\Delta^L * q_0$ with $\\Delta$ as the scaling factor and $q_0$ as the base modulus. With this the rescaling operation can be defined as : \n",
    "$$ RS_{l \\rightarrow l-1}(c) = \\lfloor \\frac{q_{l-1}}{q_l}c \\rceil (mod \\space q_{l-1}) = \\lfloor \\Delta ^{-1}c \\rceil (mod \\space q_{l-1})$$\n",
    "\n",
    "### Relinearization\n",
    "Relinearization is used to manage the growth of the ciphertext dimension. After multiplication, the ciphertext dimension increases to 3, which makes further operations computationally expensive and memory-intensive. Relinearization reduces the ciphertext dimension back to 2, while preserving the correctness of the encrypted data.\n",
    "\n",
    "To relinearize a 3-dimensional ciphertext,we use an evaluation key evk\n",
    "$$ evk = (-a_0 \\cdot s + e + p \\cdot s^2, a)$$\n",
    "$$ Relin((d_0, d_1, d_2), evk) = (d_0, d_1) + \\lfloor p^{-1}*d_2*evk \\rceil$$"
   ]
  },
  {
   "cell_type": "code",
   "execution_count": 96,
   "metadata": {},
   "outputs": [
    {
     "name": "stdout",
     "output_type": "stream",
     "text": [
      "Message 1: 46341X**3 + 123821X**2 + 92682X + 163840\n",
      "Message cipher text 1: 676657135921186048X**3 + 667133667080140800X**2 + 320239985066156288X + 848279613967945728, 268781548871420672X**3 + 563899970669362688X**2 + 893663424576549376X + 935915215951437568\n",
      "Message 2: 57321X**3 + 294721X**2 + 103456X + 204800\n",
      "Message cipher text 2: 676657135921197056X**3 + 667133667080311552X**2 + 320239985066167040X + 848279613967986688, 268781548871420672X**3 + 563899970669362688X**2 + 893663424576549376X + 935915215951437568\n",
      "Message 1 * Message 2: 2656312461X**6 + 20755209402X**5 + 46599528359X**4 + 59007466538X**3 + 83234138432X**2 + 35931504640X + 33554432000\n"
     ]
    }
   ],
   "source": [
    "def multiply(c_1, c_2):\n",
    "    d_0 = [x * y for x, y in zip(c_1[0], c_2[0])]\n",
    "    d_1 = [x * y for x, y in zip(c_1[0], c_2[1])] + [x * y for x, y in zip(c_1[1], c_2[0])]\n",
    "    d_2 = [x * y for x, y in zip(c_1[1], c_2[1])]\n",
    "\n",
    "    d_0 = Poly({i: coeff for i, coeff in enumerate(d_0)})\n",
    "    d_1 = Poly({i: coeff for i, coeff in enumerate(d_1)})\n",
    "    d_2 = Poly({i: coeff for i, coeff in enumerate(d_2)})\n",
    "    return (d_0, d_1, d_2)\n",
    "\n",
    "def relin(ciphertext, evk, p, q):\n",
    "    \n",
    "    d_0, d_1, d_2 = ciphertext\n",
    "    evk_0, evk_1 = evk\n",
    "\n",
    "    P_0 = ( d_2 * evk_0 / p) % q\n",
    "    P_1 = ( d_2 * evk_1 / p) % q\n",
    "\n",
    "    d_0_new = (d_0 + P_0) % q\n",
    "    d_1_new = (d_1 + P_1) % q\n",
    "    return (d_0_new, d_1_new)\n",
    "\n",
    "def rescale(ciphertext, delta, q):\n",
    "    q = q/delta\n",
    "    rescaled_ciphertext = tuple((component / delta) % q for component in ciphertext)\n",
    "    return (ciphertext)\n",
    "\n",
    "m1 = Poly({0: 163840, 1: 92682, 2: 123821, 3: 46341})\n",
    "m2 = Poly({0: 204800, 1: 103456, 2: 294721, 3: 57321})\n",
    "mul_message = m1*m2\n",
    "\n",
    "ct10 = pk[0] * v + e1 + m1\n",
    "ct10 = reduce_polynomial(ct10, polynomial_modulus, q)\n",
    "\n",
    "ct11 = pk[1] * v + e2\n",
    "ct11 = reduce_polynomial(ct11, polynomial_modulus, q)\n",
    "\n",
    "c1 = (ct10, ct11)\n",
    "\n",
    "ct20 = pk[0] * v + e1 + m2\n",
    "ct20 = reduce_polynomial(ct20, polynomial_modulus, q)\n",
    "\n",
    "ct21 = pk[1] * v + e2\n",
    "ct21 = reduce_polynomial(ct21, polynomial_modulus, q)\n",
    "\n",
    "c2 = (ct20, ct21)\n",
    "p = 2**30\n",
    "evk = (-a*s + e + p*s,a)\n",
    "ciphertext = multiply(c1, c2)\n",
    "(c_mul0, c_mul1) = rescale(relin(ciphertext, evk, p, q), delta, q)\n",
    "ciphertext = (c_mul0, c_mul1)\n",
    "\n",
    "plaintext = ciphertext[1] * s + ciphertext[0]\n",
    "\n",
    "print(f\"Message 1: {pr(m1)}\")\n",
    "print(f\"Message cipher text 1: {pr(ct10)}, {pr(ct11)}\")\n",
    "print(f\"Message 2: {pr(m2)}\")\n",
    "print(f\"Message cipher text 2: {pr(ct20)}, {pr(ct21)}\")\n",
    "\n",
    "print(f\"Message 1 * Message 2: {pr(mul_message)}\")"
   ]
  }
 ],
 "metadata": {
  "kernelspec": {
   "display_name": "Python 3 (ipykernel)",
   "language": "python",
   "name": "python3"
  },
  "language_info": {
   "codemirror_mode": {
    "name": "ipython",
    "version": 3
   },
   "file_extension": ".py",
   "mimetype": "text/x-python",
   "name": "python",
   "nbconvert_exporter": "python",
   "pygments_lexer": "ipython3",
   "version": "3.11.10"
  }
 },
 "nbformat": 4,
 "nbformat_minor": 4
}
