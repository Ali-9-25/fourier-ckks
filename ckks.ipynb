{
 "cells": [
  {
   "cell_type": "code",
   "execution_count": 8,
   "metadata": {
    "vscode": {
     "languageId": "plaintext"
    }
   },
   "outputs": [],
   "source": [
    "import numpy as np"
   ]
  },
  {
   "cell_type": "markdown",
   "metadata": {},
   "source": [
    "## Definitions:\n",
    "\n",
    "### Primitive root of unity\n",
    "Any complex number that yields 1 when raised to some positive integer power n.\n",
    "1. $ \\zeta^n = 1 $\n",
    "2. $ \\zeta^k \\neq 1 $ for all integers $ k $ such that $ 0 < k < n $.\n",
    "\n",
    "$\\zeta^n = e^{i(2\\pi \\frac{k}{n})}$\n",
    "\n",
    "### Cyclotomic Polynomial\n",
    "A **cyclotomic polynomial** is a special type of polynomial defined as the unique irreducible polynomial with integer coefficients whose roots are the **primitive roots of unity** $e^{i(2\\pi\\frac{k}{n})}$, where k runs over the positive integers less than n and coprime to n. The formula is equal to:\n",
    "\n",
    "$$\n",
    "\\Phi_{n}(x) = \\prod_{\\substack{1 \\leq k \\leq n \\\\ \\gcd(k, n) = 1}} \\left(x - e^{2i\\pi \\frac{k}{n}}\\right)\n",
    "$$\n",
    "\n",
    "The $n$-th cyclotomic polynomial, denoted as $\\Phi_n(x)$, is defined by:\n",
    "\n"
   ]
  },
  {
   "cell_type": "code",
   "execution_count": 2,
   "metadata": {
    "vscode": {
     "languageId": "plaintext"
    }
   },
   "outputs": [],
   "source": [
    "class CKKSEncoder:\n",
    "    \"\"\"Basic CKKS encoder to encode complex vectors into polynomials.\"\"\"\n",
    "    \n",
    "    def __init__(self, M: int):\n",
    "        \"\"\"Initialization of the encoder for M a power of 2. \n",
    "        \n",
    "        xi, which is an M-th root of unity will, be used as a basis for our computations.\n",
    "        \"\"\"\n",
    "        self.xi = np.exp(2 * np.pi * 1j / M)\n",
    "        self.M = M"
   ]
  },
  {
   "cell_type": "code",
   "execution_count": 7,
   "metadata": {},
   "outputs": [
    {
     "name": "stdout",
     "output_type": "stream",
     "text": [
      "(0.7071067811865476+0.7071067811865475j)\n"
     ]
    }
   ],
   "source": [
    "# First we set the parameters\n",
    "M = 8\n",
    "N = M //2\n",
    "\n",
    "# We set xi, which will be used in our computations\n",
    "xi = np.exp(2 * np.pi * 1j / M)\n",
    "print(xi)\n",
    "encoder = CKKSEncoder(M)\n",
    "\n",
    "b = np.array([1, 2, 3, 4])"
   ]
  },
  {
   "cell_type": "code",
   "execution_count": null,
   "metadata": {},
   "outputs": [],
   "source": []
  }
 ],
 "metadata": {
  "kernelspec": {
   "display_name": "myenv",
   "language": "python",
   "name": "myenv"
  },
  "language_info": {
   "codemirror_mode": {
    "name": "ipython",
    "version": 3
   },
   "file_extension": ".py",
   "mimetype": "text/x-python",
   "name": "python",
   "nbconvert_exporter": "python",
   "pygments_lexer": "ipython3",
   "version": "3.13.0"
  }
 },
 "nbformat": 4,
 "nbformat_minor": 4
}
