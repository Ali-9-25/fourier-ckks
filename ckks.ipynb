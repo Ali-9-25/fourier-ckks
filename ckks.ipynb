{
 "cells": [
  {
   "cell_type": "markdown",
   "metadata": {},
   "source": [
    "## Definitions:\n",
    "\n",
    "### Primitive root of unity\n",
    "Any complex number that yields 1 when raised to some positive integer power n.\n",
    "1. $ \\zeta^n = 1 $\n",
    "2. $ \\zeta^k \\neq 1 $ for all integers $ k $ such that $ 0 < k < n $.\n",
    "\n",
    "$\\zeta^n = e^{i(2\\pi \\frac{k}{n})}$\n",
    "\n",
    "For 2N-th roots of unity, this means any number $\\zeta$ that satisfies $\\zeta^{2N}=1$\n",
    "\n",
    "### Cyclotomic Polynomial\n",
    "A **cyclotomic polynomial** is a special type of polynomial defined as the unique irreducible polynomial with integer coefficients whose roots are the **primitive roots of unity** $e^{i(2\\pi\\frac{k}{n})}$, where k runs over the positive integers less than n and coprime to n. The formula is equal to:\n",
    "\n",
    "$$\n",
    "\\Phi_{n}(x) = \\prod_{\\substack{1 \\leq k \\leq n \\\\ \\gcd(k, n) = 1}} \\left(x - e^{2i\\pi \\frac{k}{n}}\\right)\n",
    "$$\n",
    "\n",
    "**Special Case**: $\\Phi_M(X) = X^N + 1$\n",
    "\n",
    "The specific form $\\Phi_M(X) = X^N + 1$ arises when:\n",
    "\n",
    "- $M = 2N$, i.e., $M$ is an even number and M is a power of 2.\n",
    "- The roots of $\\Phi_{2N}(X)$ are the primitive $2N$-th roots of unity.\n",
    "\n",
    "\n",
    "#### 2.1. Roots of $X^N + 1$\n",
    "\n",
    "The equation $X^N + 1 = 0$ has $N$ distinct roots in the complex plane. These roots are the **odd powers** of $\\xi$, a primitive $2N$-th root of unity:\n",
    "\n",
    "$$\n",
    "\\xi = e^{2\\pi i / (2N)}, \\quad \\text{so } \\xi^{2k+1} \\text{ for } k = 0, 1, \\dots, N-1.\n",
    "$$\n",
    "\n",
    "\n",
    "\n",
    "#### 2.2. Factorization\n",
    "\n",
    "The polynomial $X^N + 1$ factors as:\n",
    "\n",
    "$$\n",
    "X^N + 1 = \\prod_{k=0}^{N-1} \\left( X - \\xi^{2k+1} \\right),\n",
    "$$\n",
    "\n",
    "where $\\xi^{2k+1}$ are the odd powers of the primitive $2N$-th root of unity $\\xi$.\n",
    "\n",
    "\n",
    "\n",
    "#### 2.3. Minimal Polynomial\n",
    "\n",
    "When $M = 2N$, the primitive $2N$-th roots of unity are precisely the roots of $X^N + 1$. Hence, the minimal polynomial of the primitive $2N$-th roots of unity is:\n",
    "\n",
    "$$\n",
    "\\Phi_{2N}(X) = X^N + 1.\n",
    "$$\n",
    "\n",
    "\n",
    "### Isomorphism\n",
    "\n",
    "An isomorphism between two algebraic structures is a bijective homomorphism.\n",
    "\n",
    "**Addition Preservation**:\n",
    "$\\sigma(m1 + m2) = \\sigma(m1) + \\sigma(m2)$\n",
    "\n",
    "**Multiplication Preservation**:\n",
    "$\\sigma(m1 * m2) = \\sigma(m1) \\circ \\sigma(m2)$\n",
    "\n",
    "- Injectivity: No two distinct polynomials map to the same vector under σ.\n",
    "- Surjectivity: Every vector in ${C^N}$ (satisfying the necessary properties) is the image of some polynomial under σσ.\n",
    "\n",
    "\n"
   ]
  },
  {
   "cell_type": "markdown",
   "metadata": {},
   "source": [
    "## Plaintext Encoding and Decoding\n",
    "\n",
    "### Canonical embedding $\\sigma:$"
   ]
  },
  {
   "cell_type": "markdown",
   "metadata": {},
   "source": [
    "### Encoding\n",
    "\n",
    "For encoding, we aim to project a complex vector into the subspace:\n",
    "\n",
    "$$\n",
    "H = \\{(z_j)_{j \\in \\mathbb{Z}^*_M} : z_j = z_{-j}\\}.\n",
    "$$\n",
    "\n",
    "This is the $\\pi^{-1}$ projection discussed in the original paper, where half of the entries are conjugates of the other half. We know that:\n",
    "\n",
    "$$\n",
    "\\sigma(\\mathcal{R}) \\subseteq \\mathbb{H} = \\{ z \\in \\mathbb{C}^N : z_j = z_{-j} \\}.\n",
    "$$\n",
    "\n",
    "The process involves the following steps:\n",
    "\n",
    "1. **Projection using $\\pi^{-1}$:**  \n",
    "   The scaled vector is then projected using $\\pi^{-1}$. This ensures that the resulting vector lies in $\\mathbb{H}$.\n",
    "   \n"
   ]
  },
  {
   "cell_type": "code",
   "execution_count": 300,
   "metadata": {},
   "outputs": [],
   "source": [
    "# code inspired from https://colab.research.google.com/drive/1cdue90Fg_EB5cxxTYcv2_8_XxQnpnVWg?usp=sharing#scrollTo=qsDuOVro1H15\n",
    "\n",
    "from math import sin,cos,pi\n",
    "import numpy as np\n",
    "from numpy.polynomial import Polynomial"
   ]
  },
  {
   "cell_type": "code",
   "execution_count": 301,
   "metadata": {},
   "outputs": [
    {
     "data": {
      "text/plain": [
       "array([3.+4.j, 2.-1.j, 2.+1.j, 3.-4.j])"
      ]
     },
     "execution_count": 301,
     "metadata": {},
     "output_type": "execute_result"
    }
   ],
   "source": [
    "def pi_inverse(z: np.array) -> np.array:\n",
    "    \"\"\"Expands a vector of C^{N/2} by expanding it with its\n",
    "    complex conjugate.\"\"\"\n",
    "    \n",
    "    z_conjugate = z[::-1]\n",
    "    z_conjugate = [np.conjugate(x) for x in z_conjugate]\n",
    "    return np.concatenate([z, z_conjugate])\n",
    "\n",
    "# TOY EXAMPLE FROM https://eprint.iacr.org/2016/421.pdf section 3.2\n",
    "\n",
    "M = 8 # parameter from the paper\n",
    "delta = 64 # scaling factor \n",
    "xi = np.exp(2 * np.pi * 1j / M) # Mth root of unity which will be used as a basis for our computation\n",
    "z = np.array([3 +4j, 2 - 1j]) # vector to encode\n",
    "pi_z = pi_inverse(z) # pi^-1\n",
    "pi_z"
   ]
  },
  {
   "cell_type": "markdown",
   "metadata": {},
   "source": [
    "2. **Multiplication with $\\Delta$:**  \n",
    "   We start by multiplying the vector with $\\Delta$ to scale it appropriately."
   ]
  },
  {
   "cell_type": "code",
   "execution_count": 302,
   "metadata": {},
   "outputs": [
    {
     "data": {
      "text/plain": [
       "array([192.+256.j, 128. -64.j, 128. +64.j, 192.-256.j])"
      ]
     },
     "execution_count": 302,
     "metadata": {},
     "output_type": "execute_result"
    }
   ],
   "source": [
    "scaled_pi_z = delta * pi_z\n",
    "scaled_pi_z # scaled vector"
   ]
  },
  {
   "cell_type": "markdown",
   "metadata": {},
   "source": [
    "3. **Coordinate-Wise Random Rounding:**  \n",
    "   To project onto $\\sigma(\\mathcal{R})$, we use a technique called *coordinate-wise random rounding*. This is a method to discretize complex numbers in each coordinate independently while preserving certain statistical properties. For details, refer to [this paper](https://web.eecs.umich.edu/~cpeikert/pubs/toolkit.pdf).\n",
    "\n",
    "    \n",
    "   A. **Orthogonal $\\mathbb{Z}$-Basis:**\n",
    "   - The ring $\\mathcal{R}$ has an orthogonal $\\mathbb{Z}$-basis $\\{1, X, \\ldots, X^{N-1}\\}$.\n",
    "   - Since $\\sigma$ is an isomorphism, $\\sigma(\\mathcal{R})$ has a corresponding orthogonal $\\mathbb{Z}$-basis:\n",
    "     $$\n",
    "     \\beta = \\{b_1, b_2, \\ldots, b_N\\} = \\{\\sigma(1), \\sigma(X), \\ldots, \\sigma(X^{N-1})\\}.\n",
    "     $$"
   ]
  },
  {
   "cell_type": "code",
   "execution_count": 303,
   "metadata": {},
   "outputs": [],
   "source": [
    "def vandermonde(xi: np.complex128, M: int) -> np.array:\n",
    "    \"\"\"Computes the Vandermonde matrix from a m-th root of unity.\"\"\"\n",
    "    \n",
    "    N = M //2\n",
    "    matrix = []\n",
    "    # We will generate each row of the matrix\n",
    "    for i in range(N):\n",
    "        # For each row we select a different root\n",
    "        root = xi ** (2 * i + 1)\n",
    "        row = []\n",
    "\n",
    "        # Then we store its powers\n",
    "        for j in range(N):\n",
    "            row.append(root ** j)\n",
    "        matrix.append(row)\n",
    "    return matrix\n",
    "\n",
    "def create_sigma_R_basis(xi, M):\n",
    "    \"\"\"Creates the basis (sigma(1), sigma(X), ..., sigma(X** N-1)).\"\"\"\n",
    "    return np.array(vandermonde(xi, M)).T\n",
    "    \n",
    "sigma_R_basis = create_sigma_R_basis(xi, M)"
   ]
  },
  {
   "cell_type": "markdown",
   "metadata": {},
   "source": [
    "We can now have a look at the basis $\\{\\sigma(1), \\sigma(X), \\ldots, \\sigma(X^{N-1})\\}$."
   ]
  },
  {
   "cell_type": "code",
   "execution_count": 304,
   "metadata": {},
   "outputs": [
    {
     "data": {
      "text/plain": [
       "array([[ 1.00000000e+00+0.j        ,  1.00000000e+00+0.j        ,\n",
       "         1.00000000e+00+0.j        ,  1.00000000e+00+0.j        ],\n",
       "       [ 7.07106781e-01+0.70710678j, -7.07106781e-01+0.70710678j,\n",
       "        -7.07106781e-01-0.70710678j,  7.07106781e-01-0.70710678j],\n",
       "       [ 1.79380389e-16+1.j        , -4.67705010e-16-1.j        ,\n",
       "         7.70954637e-16+1.j        , -1.11479041e-15-1.j        ],\n",
       "       [-7.07106781e-01+0.70710678j,  7.07106781e-01+0.70710678j,\n",
       "         7.07106781e-01-0.70710678j, -7.07106781e-01-0.70710678j]])"
      ]
     },
     "execution_count": 304,
     "metadata": {},
     "output_type": "execute_result"
    }
   ],
   "source": [
    "sigma_R_basis"
   ]
  },
  {
   "cell_type": "markdown",
   "metadata": {},
   "source": [
    "B. **Projection in the Basis:**\n",
    "   - For any $z \\in \\mathbb{H}$, we can write:\n",
    "     $$\n",
    "     z = \\sum_{i=1}^N z_i b_i,\n",
    "     $$\n",
    "     where $z_i$ are the coordinates of $z$ in the basis $\\beta$. These coordinates are computed as:\n",
    "     $$\n",
    "     z_i = \\frac{\\langle z, b_i \\rangle}{\\|b_i\\|^2} \\in \\mathbb{R}.\n",
    "     $$\n",
    "    - Here, $\\langle x, y \\rangle$ is the **Hermitian inner product**:\n",
    "    $$\n",
    "    \\langle x, y \\rangle = \\sum_{k=1}^N x_k \\overline{y_k},\n",
    "    $$\n",
    "    where $\\overline{y_k}$ denotes the complex conjugate of $y_k$."
   ]
  },
  {
   "cell_type": "code",
   "execution_count": 331,
   "metadata": {},
   "outputs": [],
   "source": [
    "def compute_basis_coordinates(z):\n",
    "    \"\"\"Computes the coordinates of a vector with respect to the orthogonal lattice basis.\"\"\"\n",
    "    output = np.array([np.real(np.vdot(z, b) / np.vdot(b,b)) for b in sigma_R_basis])\n",
    "    return output\n",
    "\n",
    "\n",
    "coordinates = compute_basis_coordinates(scaled_pi_z)"
   ]
  },
  {
   "cell_type": "markdown",
   "metadata": {},
   "source": [
    "C. **Rounding to Integers:**\n",
    "   - Since the coordinates $z_i$ are real numbers (not integers), we apply **coordinate-wise random rounding**:\n",
    "     - Each $z_i$ is rounded to either $\\lfloor z_i \\rfloor$ or $\\lfloor z_i \\rfloor + 1$.\n",
    "     - The probability of rounding to $\\lfloor z_i \\rfloor + 1$ is proportional to the fractional part of $z_i$."
   ]
  },
  {
   "cell_type": "code",
   "execution_count": 306,
   "metadata": {},
   "outputs": [
    {
     "data": {
      "text/plain": [
       "[160, 90, 160, 45]"
      ]
     },
     "execution_count": 306,
     "metadata": {},
     "output_type": "execute_result"
    }
   ],
   "source": [
    "def round_coordinates(coordinates):\n",
    "    \"\"\"Gives the integral rest.\"\"\"\n",
    "    coordinates = coordinates - np.floor(coordinates)\n",
    "    return coordinates\n",
    "\n",
    "def coordinate_wise_random_rounding(coordinates):\n",
    "    \"\"\"Rounds coordinates randonmly.\"\"\"\n",
    "    r = round_coordinates(coordinates)\n",
    "    f = np.array([np.random.choice([c, c-1], 1, p=[1-c, c]) for c in r]).reshape(-1)\n",
    "    \n",
    "    rounded_coordinates = coordinates - f\n",
    "    rounded_coordinates = [int(coeff) for coeff in rounded_coordinates]\n",
    "    return rounded_coordinates\n",
    "\n",
    "rounded_coordinates = coordinate_wise_random_rounding(coordinates)\n",
    "rounded_coordinates"
   ]
  },
  {
   "cell_type": "markdown",
   "metadata": {},
   "source": [
    "D. **Reconstruction of $z$:**\n",
    "   - Once we have the rounded coordinates $\\{z_i\\}$, we reconstruct $z$ using the basis $\\beta$:\n",
    "     $$\n",
    "     z = \\sum_{i=1}^N z_i b_i.\n",
    "     $$\n"
   ]
  },
  {
   "cell_type": "code",
   "execution_count": 307,
   "metadata": {},
   "outputs": [
    {
     "data": {
      "text/plain": [
       "array([191.81980515+255.45941546j, 128.18019485 -64.54058454j,\n",
       "       128.18019485 +64.54058454j, 191.81980515-255.45941546j])"
      ]
     },
     "execution_count": 307,
     "metadata": {},
     "output_type": "execute_result"
    }
   ],
   "source": [
    "y = np.matmul(sigma_R_basis.T, rounded_coordinates)\n",
    "y"
   ]
  },
  {
   "cell_type": "markdown",
   "metadata": {},
   "source": [
    "4. **Applying $\\sigma^{-1}$:**  \n",
    "Finally, we apply $\\sigma^{-1}$, as described below. This step outputs an element in $\\mathbb{R}$, completing the encoding process."
   ]
  },
  {
   "cell_type": "markdown",
   "metadata": {},
   "source": [
    "Find a polynomial $m(X) = \\sum_{i=0}^{N-1} \\alpha_i X^i \\in \\mathbb{C}[X]/(X^N + 1)$, given a vector $z \\in \\mathbb{C}^N$, such that $\\sigma(m) = (m(\\xi), m(\\xi^3), \\ldots, m(\\xi^{2N-1})) = (z_1, \\ldots, z_N)$ where $\\xi_M$, the $M$-th root of unity: $\\xi_M = e^{2i\\pi/M}$. So we get:\n",
    "$\\sum_{j=0}^{N-1} \\alpha_j (\\xi^{2i-1})^j = z_i, \\; i = 1, \\ldots, N.$\n",
    "\n",
    "This can be viewed as a linear equation:\n",
    "\n",
    "$A\\alpha = z$, with $A$ the Vandermonde matrix of the $(\\xi^{2i-1})_{i=1,\\ldots,N}$, $\\alpha$ the vector of the polynomial coefficients, and $z$ the vector we want to encode.\n",
    "\n",
    "$$\n",
    "\\begin{bmatrix}\n",
    "1 & \\xi_1 & \\xi_1^2 & \\xi_1^3 \\\\\n",
    "1 & \\xi_3 & \\xi_3^2 & \\xi_3^3 \\\\\n",
    "1 & \\xi_5 & \\xi_5^2 & \\xi_5^3 \\\\\n",
    "1 & \\xi_7 & \\xi_7^2 & \\xi_7^3\n",
    "\\end{bmatrix}\n",
    "\\cdot\n",
    "\\begin{bmatrix}\n",
    "a_1 \\\\\n",
    "a_2 \\\\\n",
    "a_3 \\\\\n",
    "a_4\n",
    "\\end{bmatrix}\n",
    "=\\begin{bmatrix}\n",
    "z_1 \\\\\n",
    "z_2 \\\\\n",
    "z_3 \\\\\n",
    "z_4\n",
    "\\end{bmatrix}\n",
    "$$\n",
    "\n",
    "where $\\xi_1 = \\xi_M, \\xi_3 = (\\xi_M)^3, \\xi_5 = (\\xi_M)^5, \\ldots$.\n",
    "\n"
   ]
  },
  {
   "cell_type": "code",
   "execution_count": 308,
   "metadata": {},
   "outputs": [
    {
     "data": {
      "text/latex": [
       "$x \\mapsto \\text{160.0} + \\text{90.0}\\,x + \\text{160.0}\\,x^{2} + \\text{45.0}\\,x^{3}$"
      ],
      "text/plain": [
       "Polynomial([160.,  90., 160.,  45.], domain=[-1.,  1.], window=[-1.,  1.], symbol='x')"
      ]
     },
     "execution_count": 308,
     "metadata": {},
     "output_type": "execute_result"
    }
   ],
   "source": [
    "def sigma_inverse(b: np.array) -> Polynomial:\n",
    "    \"\"\"Encodes the vector b in a polynomial using an M-th root of unity.\"\"\"\n",
    "\n",
    "    # First we create the Vandermonde matrix\n",
    "    A = vandermonde(xi, M)\n",
    "\n",
    "    # Then we solve the system\n",
    "    coeffs = np.linalg.solve(A, b)\n",
    "\n",
    "    # Finally we output the polynomial\n",
    "    p = Polynomial(coeffs)\n",
    "    \n",
    "    # We round it afterwards due to numerical imprecision\n",
    "    coef = np.round(np.real(p.coef)).astype(int)\n",
    "    return Polynomial(coef)\n",
    "\n",
    "encoded = sigma_inverse(y)\n",
    "encoded"
   ]
  },
  {
   "cell_type": "markdown",
   "metadata": {},
   "source": [
    "Therefore, we have that:\n",
    "\n",
    "$\\alpha = A^{-1}z$, and that $\\sigma^{-1}(z) = \\sum_{i=0}^{N-1} \\alpha_i X^i \\in \\mathbb{C}[X]/(X^N + 1)$. "
   ]
  },
  {
   "cell_type": "markdown",
   "metadata": {},
   "source": [
    "### Decoding\n",
    "\n",
    "For decoding, we work with a cyclotomic polynomial ring $\\mathbb{Z}[X]/(X^N + 1)$ and aim to decode it to a vector $z \\in \\mathbb{C}^N$ such that:\n",
    "$$\n",
    "z = \\pi \\circ \\sigma(\\Delta^{-1} * m) \\in \\mathbb{C}^{N/2}.\n",
    "$$\n",
    "\n",
    "The decoding process involves the following steps:\n"
   ]
  },
  {
   "cell_type": "markdown",
   "metadata": {},
   "source": [
    "1. **Scaling by $1 / \\Delta$:**  \n",
    "   Multiply the polynomial $m$ by the inverse of $\\Delta$, i.e., $1 / \\Delta$. This rescales the polynomial back to the correct domain.\n"
   ]
  },
  {
   "cell_type": "code",
   "execution_count": 309,
   "metadata": {},
   "outputs": [],
   "source": [
    "rescaled_p = encoded / delta"
   ]
  },
  {
   "cell_type": "markdown",
   "metadata": {},
   "source": [
    "2. **Applying $\\sigma$:**  \n",
    "   Next, apply $\\sigma$, which maps the polynomial from $\\mathbb{Z}[X]/(X^N + 1)$ to a complex vector in $\\mathbb{C}^N$. This is explained in detail below."
   ]
  },
  {
   "cell_type": "markdown",
   "metadata": {},
   "source": [
    "To decode a polynomial $m(X)$ into a vector $z$, we evaluate on certain values, which will be the roots of $\\Phi(M) = X^N + 1$, where the $N$ roots are $\\xi, \\xi^3, \\ldots, \\xi^{2N-1}$. \n"
   ]
  },
  {
   "cell_type": "code",
   "execution_count": 310,
   "metadata": {},
   "outputs": [],
   "source": [
    "def sigma(p: Polynomial) -> np.array:\n",
    "    \"\"\"Decodes a polynomial by applying it to the M-th roots of unity.\"\"\"\n",
    "\n",
    "    outputs = []\n",
    "    N = M //2\n",
    "\n",
    "    # We simply apply the polynomial on the roots\n",
    "    for i in range(N):\n",
    "        root = xi ** (2 * i + 1)\n",
    "        output = p(root)\n",
    "        outputs.append(output)\n",
    "    return np.array(outputs)\n",
    "\n",
    "z_vector = sigma(rescaled_p)"
   ]
  },
  {
   "cell_type": "markdown",
   "metadata": {},
   "source": [
    "3. **Projection to $\\mathbb{C}^{N/2}$:**  \n",
    "   The final step is to project the vector onto $\\mathbb{C}^{N/2}$. Since the structure ensures that the second half of the array is the conjugate of the first half, this projection simply involves returning the first half of the array."
   ]
  },
  {
   "cell_type": "code",
   "execution_count": 312,
   "metadata": {},
   "outputs": [
    {
     "data": {
      "text/plain": [
       "array([2.99718446+3.99155337j, 2.00281554-1.00844663j])"
      ]
     },
     "execution_count": 312,
     "metadata": {},
     "output_type": "execute_result"
    }
   ],
   "source": [
    "def pi(z: np.array) -> np.array:\n",
    "    \"\"\"Projects a vector of H into C^{N/2}.\"\"\"\n",
    "    \n",
    "    N = M // 4\n",
    "    return z[:N]\n",
    "\n",
    "decoded = pi(z_vector)\n",
    "decoded"
   ]
  },
  {
   "cell_type": "markdown",
   "metadata": {},
   "source": [
    "If we put everything together we have:"
   ]
  },
  {
   "cell_type": "code",
   "execution_count": 330,
   "metadata": {},
   "outputs": [
    {
     "name": "stdout",
     "output_type": "stream",
     "text": [
      "Original vector:  [3.+4.j 2.-1.j]\n",
      "Vector after encoding and decoding:  [2.99718446+3.99155337j 2.00281554-1.00844663j]\n"
     ]
    }
   ],
   "source": [
    "def sigma_R_discretization(z):\n",
    "    \"\"\"Projects a vector on the lattice using coordinate wise random rounding.\"\"\"\n",
    "    coordinates = compute_basis_coordinates(z)\n",
    "    \n",
    "    rounded_coordinates = coordinate_wise_random_rounding(coordinates)\n",
    "    y = np.matmul(sigma_R_basis.T, rounded_coordinates)\n",
    "    return y\n",
    "\n",
    "def decode(p: Polynomial) -> np.array:\n",
    "        \"\"\"Decodes a polynomial by removing the scale, \n",
    "        evaluating on the roots, and project it on C^(N/2)\"\"\"\n",
    "        rescaled_p = p / scale\n",
    "        z = sigma(rescaled_p)\n",
    "        pi_z = pi(z)\n",
    "        return pi_z\n",
    "\n",
    "def encode(z: np.array) -> Polynomial:\n",
    "    \"\"\"Encodes a vector by expanding it first to H,\n",
    "    scale it, project it on the lattice of sigma(R), and performs\n",
    "    sigma inverse.\n",
    "    \"\"\"\n",
    "    pi_z = pi_inverse(z)\n",
    "    scaled_pi_z = scale * pi_z\n",
    "    rounded_scale_pi_zi = sigma_R_discretization(scaled_pi_z)\n",
    "    p = sigma_inverse(rounded_scale_pi_zi)\n",
    "    \n",
    "    # We round it afterwards due to numerical imprecision\n",
    "    coef = np.round(np.real(p.coef)).astype(int)\n",
    "    p = Polynomial(coef)\n",
    "    return p\n",
    "\n",
    "\n",
    "# TOY EXAMPLE FROM https://eprint.iacr.org/2016/421.pdf section 3.2\n",
    "\n",
    "encoded_pol = encode(z)\n",
    "decoded = decode(encoded_pol)\n",
    "\n",
    "print(f\"Original vector: \", z)\n",
    "print(f\"Vector after encoding and decoding: \", decoded)\n"
   ]
  },
  {
   "cell_type": "code",
   "execution_count": 9,
   "metadata": {},
   "outputs": [],
   "source": [
    "# code from https://github.com/AI-Tech-Research-Lab/Introduction-to-BFV-HE-ML/blob/main/BFV_theory/BFV_theory.ipynb\n",
    "\n",
    "def Poly(coeffs):\n",
    "    \"\"\"\n",
    "    Helper function to build polynomials, passing a dictionary of coefficients.\n",
    "    For example, passing {0: 1, 1: -2, 2: 2} returns the polynomial\n",
    "    2X**2 - 2X + 1\n",
    "    \"\"\"\n",
    "    max_power = max(coeffs.keys())\n",
    "    _coeffs = np.zeros(max_power + 1)\n",
    "     \n",
    "    for i, c in coeffs.items():\n",
    "        _coeffs[i] = c\n",
    "        \n",
    "    return Polynomial(_coeffs)\n",
    "\n",
    "def pr(p):\n",
    "    \"\"\" \n",
    "    Helper function to pretty-print the polynomials, with human order\n",
    "    of powers, removed trailing .0, etc.\n",
    "    \"\"\"\n",
    "    coefs = p.coef\n",
    "    res = \"\"\n",
    "    \n",
    "    powers = range(len(coefs)-1, -1, -1)\n",
    "    for power, coeff in zip(powers, reversed(coefs)):\n",
    "        if coeff == 0:\n",
    "            continue\n",
    "        \n",
    "        if int(coeff) == coeff:\n",
    "            coeff = int(coeff)\n",
    "                  \n",
    "        sign = \"- \" if coeff < 0 else \"+ \"\n",
    "        \n",
    "        if power == 0:\n",
    "            value = abs(coeff)\n",
    "        elif abs(coeff) != 1:\n",
    "            value = abs(coeff)\n",
    "        else:\n",
    "            value = \"\"\n",
    "\n",
    "        power_sign = {0: \"\", 1: \"X\"}\n",
    "        def_power_sign = f\"X**{power}\"\n",
    "        \n",
    "        res += f\" {sign}{value}{power_sign.get(power, def_power_sign)}\"\n",
    "        \n",
    "    if res[1] == \"+\":\n",
    "        return res[3:]\n",
    "    if res[1] == \"-\":\n",
    "        return res[1:]\n",
    "\n",
    "def mod_on_coefficients(polynomial, modulo):\n",
    "    \"\"\"\n",
    "    Apply the modulo on the coefficients of a polynomial.\n",
    "    \"\"\"\n",
    "    coefs = polynomial.coef\n",
    "    mod_coefs = []\n",
    "    for c in coefs:\n",
    "        mod_coefs.append(c % modulo)\n",
    "        \n",
    "    return Polynomial(mod_coefs)\n",
    "\n",
    "def round_on_nearest_integer(polynomial):\n",
    "    \"\"\"\n",
    "    Round the coefficients of a polynomial to the\n",
    "    nearest integer.\n",
    "    \"\"\"\n",
    "    coefs = polynomial.coef\n",
    "    round_coefs = []\n",
    "    for c in coefs:\n",
    "        round_coefs.append(round(c))\n",
    "    \n",
    "    return Polynomial(round_coefs)\n",
    "\n",
    "\n",
    "def reduce_polynomial(polynomial, cyclotomic_polynomial, q):\n",
    "    \"\"\"\n",
    "    Reduce a polynomial modulo a cyclotomic polynomial and a modulus.\n",
    "    \"\"\"\n",
    "    remainder = divmod(polynomial, polynomial_modulus)[1] # polynomial modulo cyclotomic polynomial -> get the remainder\n",
    "    return mod_on_coefficients(remainder, q) # perfrom mod operation on coefficients\n"
   ]
  },
  {
   "cell_type": "code",
   "execution_count": 10,
   "metadata": {},
   "outputs": [],
   "source": [
    "import random\n",
    "\n",
    "def secret_key_pol(M, h):\n",
    "\n",
    "    s = {}\n",
    "    non_zero_indices = random.sample(range(M), h)\n",
    "    \n",
    "    # Assign ±1 randomly to the selected positions\n",
    "    for idx in non_zero_indices:\n",
    "        s[idx] = random.choice([-1, 1])\n",
    "    \n",
    "    return Poly(s)\n",
    "\n",
    "def create_error_pol(M, sigma, mu):\n",
    "    e = np.random.normal(mu, sigma, M)\n",
    "    e_map = {}\n",
    "    for i in range(len(e)):\n",
    "        e_map[i] = round(e[i])\n",
    "    \n",
    "    return Poly(e_map)\n",
    "\n",
    "def sample_pol(M, modulous):\n",
    "    coeffs = {}\n",
    "    for i in range(M):\n",
    "        c = np.random.randint(0, modulous)\n",
    "        coeffs[i] = c\n",
    "    return Poly(coeffs)\n",
    "    "
   ]
  },
  {
   "cell_type": "code",
   "execution_count": 171,
   "metadata": {},
   "outputs": [],
   "source": [
    "delta = 64\n",
    "M = 32\n",
    "N = M // 2 # degree of the polynomial, also a power of 2\n",
    "polynomial_modulus = Poly({0: 1, N: 1})\n",
    "h = 5 # the number of non zero coefficients\n",
    "L = 1 # ciphertext level -> decreases as the computation progresses\n",
    "q0 = delta << 2 # base modulous, q\n",
    "qL = q0 * delta**L\n",
    "\n",
    "mu = 0\n",
    "sigma = 3.2\n",
    "p = 997\n",
    "\n",
    "\n",
    "s = secret_key_pol(N, h) # secret key\n",
    "a = sample_pol(N, qL)\n",
    "e = create_error_pol(N, sigma, mu)\n",
    "\n",
    "b = (-a*s)+e\n",
    "b = reduce_polynomial(b, polynomial_modulus, qL)\n",
    "\n",
    "# public key\n",
    "pk = (b, a)\n",
    "\n",
    "# Evaluation key generation\n",
    "a_prime = sample_pol(N, qL*p)\n",
    "e_prime = create_error_pol(N, sigma, mu)\n",
    "\n",
    "b_prime = (-a_prime*s)+e_prime+p*(s**2)\n",
    "b_prime = reduce_polynomial(b_prime, polynomial_modulus, qL*p)\n",
    "\n",
    "eval_key = (b_prime, a_prime)"
   ]
  },
  {
   "cell_type": "code",
   "execution_count": 193,
   "metadata": {},
   "outputs": [
    {
     "name": "stdout",
     "output_type": "stream",
     "text": [
      "e_1: X**15 + 2X**14 - 9X**12 - 8X**11 + 2X**10 + 4X**8 - X**7 - 4X**6 + 2X**5 - X**4 - 6X**3 + 2X**2 + 2X - 3\n",
      "\n",
      "e_2: - 3X**15 + X**14 + 4X**13 + 7X**12 + X**11 + 2X**10 + 2X**9 - 2X**8 - 5X**7 - 3X**6 - 3X**4 + X**2 - 2X - 3\n",
      "\n",
      "v: - X**15 - X**12 + X**11 - X**10 + X**9 + X**8 - X**7 - X**4 - X**2 - 1\n",
      "\n"
     ]
    }
   ],
   "source": [
    "e1 = create_error_pol(N, sigma, mu)\n",
    "e2 = create_error_pol(N, sigma, mu)\n",
    "coeffs = {}\n",
    "\n",
    "for i in range(0, N):\n",
    "    coeffs[i] = np.random.randint(-1, 2)    \n",
    "v = Poly(coeffs)\n",
    "\n",
    "print(f\"e_1: {pr(e1)}\\n\")\n",
    "print(f\"e_2: {pr(e2)}\\n\")\n",
    "print(f\"v: {pr(v)}\\n\")"
   ]
  },
  {
   "cell_type": "code",
   "execution_count": 209,
   "metadata": {},
   "outputs": [
    {
     "name": "stdout",
     "output_type": "stream",
     "text": [
      "63674554X**15 + 31439884X**14 + 52592614X**13 + 48757533X**12 + 66218841X**11 + 38337549X**10 + 24968707X**9 + 20659940X**8 + 40942671X**7 + 24261738X**6 + 14589591X**5 + 33039332X**4 + 63414118X**3 + 18745556X**2 + 43414306X + 1843027 43045451X**15 + 34966882X**14 + 64537927X**13 + 54621727X**12 + 59145777X**11 + 50294983X**10 + 59849089X**9 + 62158948X**8 + 65817519X**7 + 21379375X**6 + 32857074X**5 + 66347533X**4 + 21395355X**3 + 50150093X**2 + 38060665X + 16854629\n"
     ]
    }
   ],
   "source": [
    "from math import floor\n",
    "\n",
    "m = Poly({0: 160, 1: 91, 2: 160, 3:45})\n",
    "\n",
    "ct0 = pk[0] * v + e1 + floor((qL/p)) * m\n",
    "ct0 = divmod(ct0, polynomial_modulus)[1]\n",
    "ct0 = mod_on_coefficients(ct0, qL)\n",
    "\n",
    "ct1 = pk[1] * v + e2\n",
    "ct1 = divmod(ct1, polynomial_modulus)[1]\n",
    "ct1 = mod_on_coefficients(ct1, qL)\n",
    "\n",
    "ciphertext = (ct0, ct1)\n",
    "print(pr(ct0), pr(ct1))"
   ]
  },
  {
   "cell_type": "code",
   "execution_count": 210,
   "metadata": {},
   "outputs": [
    {
     "name": "stdout",
     "output_type": "stream",
     "text": [
      "Plain starting message: 45X**3 + 160X**2 + 91X + 160\n",
      "Final decryption result: 45X**3 + 160X**2 + 91X + 160\n"
     ]
    }
   ],
   "source": [
    "plaintext = ciphertext[1] * s + ciphertext[0]\n",
    "plaintext = divmod(plaintext, polynomial_modulus)[1]\n",
    "plaintext = mod_on_coefficients(plaintext, qL)\n",
    "plaintext = plaintext * p/qL\n",
    "plaintext = round_on_nearest_integer(plaintext)\n",
    "plaintext = mod_on_coefficients(plaintext, p)\n",
    "\n",
    "print(f\"Plain starting message: {pr(m)}\")\n",
    "print(f\"Final decryption result: {pr(plaintext)}\")"
   ]
  },
  {
   "cell_type": "code",
   "execution_count": null,
   "metadata": {},
   "outputs": [],
   "source": []
  }
 ],
 "metadata": {
  "kernelspec": {
   "display_name": "myenv",
   "language": "python",
   "name": "myenv"
  },
  "language_info": {
   "codemirror_mode": {
    "name": "ipython",
    "version": 3
   },
   "file_extension": ".py",
   "mimetype": "text/x-python",
   "name": "python",
   "nbconvert_exporter": "python",
   "pygments_lexer": "ipython3",
   "version": "3.13.0"
  }
 },
 "nbformat": 4,
 "nbformat_minor": 4
}
