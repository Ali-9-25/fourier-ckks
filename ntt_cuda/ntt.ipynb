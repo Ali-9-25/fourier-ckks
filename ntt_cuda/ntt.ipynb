{
 "cells": [
  {
   "cell_type": "code",
   "execution_count": 1,
   "id": "4c2314cf",
   "metadata": {},
   "outputs": [
    {
     "name": "stdout",
     "output_type": "stream",
     "text": [
      "All NTT tests passed!\n"
     ]
    }
   ],
   "source": [
    "from ntt import *\n",
    "import random\n",
    "\n",
    "mod = 998244353\n",
    "root = 3\n",
    "\n",
    "# Test 1-D transform / inverse\n",
    "for n in [1, 2, 4, 8, 16, 32, 64, 128]:\n",
    "    a = [random.randrange(mod) for _ in range(n)]\n",
    "    A = NTT1D(a, mod, root)\n",
    "    a_rec = INTT1D(A, mod, root)\n",
    "    assert a_rec == [val % mod for val in a], f\"1D NTT failed for n={n}\"\n",
    "\n",
    "# Test 2-D transform / inverse\n",
    "for dims in [(4, 4), (8, 8)]:\n",
    "    rows, cols = dims\n",
    "    mat = [[random.randrange(mod) for _ in range(cols)] for _ in range(rows)]\n",
    "    M = NTT2D(mat, mod, root)\n",
    "    mat_rec = INTT2D(M, mod, root)\n",
    "    assert mat_rec == [[v % mod for v in row] for row in mat], f\"2D NTT failed for dims={dims}\"\n",
    "\n",
    "# Test convolution\n",
    "for _ in range(5):\n",
    "    x = [random.randrange(mod) for _ in range(10)]\n",
    "    h = [random.randrange(mod) for _ in range(7)]\n",
    "    direct = linear_convolution_direct_mod(x, h, mod)\n",
    "    via_ntt = linear_convolution_ntt(x, h, mod, root)\n",
    "    assert direct == via_ntt, \"Convolution via NTT differs from direct\" \n",
    "\n",
    "print(\"All NTT tests passed!\")"
   ]
  },
  {
   "cell_type": "code",
   "execution_count": null,
   "id": "8746935d",
   "metadata": {},
   "outputs": [],
   "source": []
  }
 ],
 "metadata": {
  "kernelspec": {
   "display_name": "cfe",
   "language": "python",
   "name": "python3"
  },
  "language_info": {
   "codemirror_mode": {
    "name": "ipython",
    "version": 3
   },
   "file_extension": ".py",
   "mimetype": "text/x-python",
   "name": "python",
   "nbconvert_exporter": "python",
   "pygments_lexer": "ipython3",
   "version": "3.9.21"
  }
 },
 "nbformat": 4,
 "nbformat_minor": 5
}
