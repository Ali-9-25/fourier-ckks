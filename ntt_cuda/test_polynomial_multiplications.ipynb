{
 "cells": [
  {
   "cell_type": "markdown",
   "id": "e9f33c39",
   "metadata": {},
   "source": [
    "## Setup: Make sure to run this before proceeding with any other steps"
   ]
  },
  {
   "cell_type": "code",
   "execution_count": 1,
   "id": "fe56d9aa",
   "metadata": {},
   "outputs": [],
   "source": [
    "import os\n",
    "import ctypes\n",
    "import numpy as np\n",
    "\n",
    "here = os.getcwd()\n",
    "os.add_dll_directory(here)\n",
    "\n",
    "cuda_bin = r\"C:\\Program Files\\NVIDIA GPU Computing Toolkit\\CUDA\\v12.6\\bin\"\n",
    "os.add_dll_directory(cuda_bin)\n",
    "\n",
    "lib = ctypes.CDLL(\"multi_ntt.dll\")\n",
    "\n",
    "poly_mul = lib.poly_mul_multi_c\n",
    "poly_mul.restype = ctypes.c_int\n",
    "poly_mul.argtypes = [\n",
    "    ctypes.POINTER(ctypes.c_uint32),  # A_host\n",
    "    ctypes.POINTER(ctypes.c_uint32),  # B_host\n",
    "    ctypes.POINTER(ctypes.c_uint32),  # C_host\n",
    "    ctypes.c_uint,                    # N\n",
    "    ctypes.POINTER(ctypes.c_uint32),  # primitive_roots\n",
    "    ctypes.POINTER(ctypes.c_uint32),  # primitive_roots_inv\n",
    "    ctypes.POINTER(ctypes.c_uint32),  # primes\n",
    "    ctypes.c_uint                     # num_polys\n",
    "]"
   ]
  },
  {
   "cell_type": "markdown",
   "id": "c55c95c8",
   "metadata": {},
   "source": [
    "## Preparing the Function"
   ]
  },
  {
   "cell_type": "code",
   "execution_count": 2,
   "id": "09e5487d",
   "metadata": {},
   "outputs": [],
   "source": [
    "def fast_multi_polynomial_multiplication(A, B, N, num_polys, primes, primitive_roots, primitive_roots_inv):\n",
    "    \"\"\"\n",
    "    A: coefficients of the first polynomials, represented as a list of lists\n",
    "       where each inner list contains the coefficients of a polynomial of degree N-1 as a 2D array\n",
    "\n",
    "    B: coefficients of the second polynomials, represented as a list of lists\n",
    "        where each inner list contains the coefficients of a polynomial of degree N-1 as a 2D array\n",
    "    \n",
    "    N: degree of the polynomials\n",
    "    \n",
    "    num_polys: number of polynomials to be multiplied\n",
    "    \"\"\"\n",
    "    # Allocate space for the result\n",
    "    A_host = np.array(sum(A, []), dtype=np.uint32)\n",
    "    B_host = np.array(sum(B, []), dtype=np.uint32)\n",
    "    C_host = np.zeros(num_polys * N, dtype=np.uint32)\n",
    "    primitive_roots_numpy = np.array(primitive_roots, dtype=np.uint32)\n",
    "    primitive_roots_inv_numpy = np.array(primitive_roots_inv, dtype=np.uint32)\n",
    "    primes_numpy = np.array(primes, dtype=np.uint32)\n",
    "\n",
    "    # Call the C function\n",
    "    poly_mul(\n",
    "        A_host.ctypes.data_as(ctypes.POINTER(ctypes.c_uint32)),\n",
    "        B_host.ctypes.data_as(ctypes.POINTER(ctypes.c_uint32)),\n",
    "        C_host.ctypes.data_as(ctypes.POINTER(ctypes.c_uint32)),\n",
    "        N,\n",
    "        primitive_roots_numpy.ctypes.data_as(ctypes.POINTER(ctypes.c_uint32)),\n",
    "        primitive_roots_inv_numpy.ctypes.data_as(ctypes.POINTER(ctypes.c_uint32)),\n",
    "        primes_numpy.ctypes.data_as(ctypes.POINTER(ctypes.c_uint32)),\n",
    "        num_polys\n",
    "    )\n",
    "\n",
    "    return C_host.reshape((num_polys, N))"
   ]
  },
  {
   "cell_type": "markdown",
   "id": "c19107e3",
   "metadata": {},
   "source": [
    "## Setting Up the Test Case"
   ]
  },
  {
   "cell_type": "code",
   "execution_count": 3,
   "id": "d7370c9f",
   "metadata": {},
   "outputs": [],
   "source": [
    "# test parameters\n",
    "primes            = [536871001, 536871017, 536871089, 536871233, 536871337]\n",
    "primitive_roots   = [11, 3, 3, 3, 10]\n",
    "primitive_roots_inv = [146419364,178957006,178957030,178957078,375809936]\n",
    "N = 4\n",
    "num_polys = 5\n",
    "\n",
    "A_blocks = [\n",
    "    [51623921, 107100116, 420317839, 529122549],\n",
    "    [514852150, 175001745,  12583352, 34364657],\n",
    "    [24888899, 137505621, 368513557, 19284858],\n",
    "    [326213995, 66090711, 416104718, 468974766],\n",
    "    [28829878, 269046690, 230329201, 48678983],\n",
    "]\n",
    "B_blocks = [[1,0,0,1]] * num_polys"
   ]
  },
  {
   "cell_type": "markdown",
   "id": "b4a224f3",
   "metadata": {},
   "source": [
    "## Calling the Function"
   ]
  },
  {
   "cell_type": "code",
   "execution_count": 4,
   "id": "68e8927e",
   "metadata": {},
   "outputs": [],
   "source": [
    "results = fast_multi_polynomial_multiplication(A_blocks, B_blocks, N, num_polys, primes, primitive_roots, primitive_roots_inv)"
   ]
  },
  {
   "cell_type": "markdown",
   "id": "8022f19f",
   "metadata": {},
   "source": [
    "## Verifying the Results"
   ]
  },
  {
   "cell_type": "code",
   "execution_count": null,
   "id": "35bb5a76",
   "metadata": {},
   "outputs": [
    {
     "name": "stdout",
     "output_type": "stream",
     "text": [
      "All 5 modular multiplications correct! 🎉\n"
     ]
    }
   ],
   "source": [
    "expected = np.array([\n",
    "    [481394806, 223653278, 428066291,  43875469],\n",
    "    [339850405, 162418393, 515089712,  12345790],\n",
    "    [424254367, 305863153, 349228699,  44173757],\n",
    "    [260123284, 186857226, 484001185, 258317528],\n",
    "    [296654525,  38717489, 181650218,  77508861],\n",
    "], dtype=np.uint32)\n",
    "\n",
    "if not np.array_equal(results, expected):\n",
    "    print(\"Got:\", results)\n",
    "    print(\"Expected:\", expected)\n",
    "    raise RuntimeError(\"NTT polynomial-multiplication test failed!\")\n",
    "print(\"All 5 modular multiplications correct! 🎉\")\n"
   ]
  }
 ],
 "metadata": {
  "kernelspec": {
   "display_name": "cfe",
   "language": "python",
   "name": "python3"
  },
  "language_info": {
   "codemirror_mode": {
    "name": "ipython",
    "version": 3
   },
   "file_extension": ".py",
   "mimetype": "text/x-python",
   "name": "python",
   "nbconvert_exporter": "python",
   "pygments_lexer": "ipython3",
   "version": "3.9.21"
  }
 },
 "nbformat": 4,
 "nbformat_minor": 5
}
