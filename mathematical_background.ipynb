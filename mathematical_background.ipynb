{
 "cells": [
  {
   "cell_type": "markdown",
   "metadata": {
    "jp-MarkdownHeadingCollapsed": true
   },
   "source": [
    "- [ ] Polynomial Rings\n",
    "- [ ] Complex Numbers\n",
    "- [ ] LWE\n",
    "- [ ] RLWE\n",
    "\n",
    "## Polynomial Rings\n",
    "\n",
    "TBD: Some details about the polynomial rings here..."
   ]
  },
  {
   "cell_type": "markdown",
   "metadata": {},
   "source": [
    "## Learning with Error (LWE)\n",
    "\n",
    "TBD: Some details about LWE\n",
    "\n",
    "### Ring Learning with Error\n",
    "\n",
    "TBD: Some details about RLWE"
   ]
  },
  {
   "cell_type": "markdown",
   "metadata": {},
   "source": [
    "## Mathematical Background:\n",
    "\n",
    "### Complex Numbers \n",
    "\n",
    "TBD: Here goes some short info about complex numbers.\n",
    "\n",
    "Ref: [Complex Numbers](https://www.mathsisfun.com/numbers/complex-numbers.html)\n",
    "\n",
    "\n",
    "### Primitive root of unity\n",
    "Any complex number that yields 1 when raised to some positive integer power n.\n",
    "1. $ \\zeta^n = 1 $\n",
    "2. $ \\zeta^k \\neq 1 $ for all integers $ k $ such that $ 0 < k < n $.\n",
    "\n",
    "$\\zeta^n = e^{i(2\\pi \\frac{k}{n})}$\n",
    "\n",
    "For 2N-th roots of unity, this means any number $\\zeta$ that satisfies $\\zeta^{2N}=1$\n",
    "\n",
    "**Example of a Primitive Root of Unity:**\n",
    "\n",
    "Let’s take $ n = 4 $. In this case, we are looking for the **primitive 4th roots of unity**, which are complex numbers that satisfy:\n",
    "\n",
    "1. $ \\zeta^4 = 1 $  \n",
    "2. $ \\zeta^k \\neq 1 $ for $ 0 < k < 4 $.  \n",
    "\n",
    "Using the formula $ \\zeta = e^{i(2\\pi k / n)} $, the 4th roots of unity are:\n",
    "\n",
    "- $ \\zeta_0 = e^{i(2\\pi \\cdot 0 / 4)} = e^{i \\cdot 0} = 1 $\n",
    "- $ \\zeta_1 = e^{i(2\\pi \\cdot 1 / 4)} = e^{i\\pi/2} = i $\n",
    "- $ \\zeta_2 = e^{i(2\\pi \\cdot 2 / 4)} = e^{i\\pi} = -1 $\n",
    "- $ \\zeta_3 = e^{i(2\\pi \\cdot 3 / 4)} = e^{i3\\pi/2} = -i $\n",
    "\n",
    "The **primitive 4th roots of unity** are $ \\zeta_1 = i $ and $ \\zeta_3 = -i $, because:\n",
    "\n",
    "- They satisfy $ \\zeta^4 = 1 $, and\n",
    "- They do not satisfy $ \\zeta^k = 1 $ for $ 0 < k < 4 $.\n",
    "\n",
    "In contrast, $ \\zeta_0 = 1 $ and $ \\zeta_2 = -1 $ are not primitive because they satisfy $ \\zeta^2 = 1 $, violating the second condition.\n"
   ]
  },
  {
   "cell_type": "code",
   "execution_count": 5,
   "metadata": {},
   "outputs": [
    {
     "name": "stdout",
     "output_type": "stream",
     "text": [
      "Primitive 4th root of unity: 1j\n",
      "Primitive 4th root of unity: (-0-1j)\n"
     ]
    }
   ],
   "source": [
    "import numpy as np\n",
    "import math\n",
    "\n",
    "n = 4\n",
    "for k in range(4):\n",
    "    z = np.round(np.exp(2*np.pi*1j*k/n))\n",
    "    if z**(n) == 1 and math.gcd(k, n) == 1:\n",
    "        print(f\"Primitive {n}th root of unity: {z}\")"
   ]
  },
  {
   "cell_type": "markdown",
   "metadata": {},
   "source": [
    "### Cyclotomic Polynomial\n",
    "A **cyclotomic polynomial** is a special type of polynomial defined as the unique irreducible polynomial with integer coefficients whose roots are the **primitive roots of unity** $e^{i(2\\pi\\frac{k}{M})}$, where k runs over the positive integers less than M and coprime to M. The formula is equal to:\n",
    "\n",
    "$$\n",
    "\\Phi_{M}(x) = \\prod_{\\substack{1 \\leq k \\leq M \\\\ \\gcd(k, M) = 1}} \\left(x - e^{2i\\pi \\frac{k}{M}}\\right)\n",
    "$$\n",
    "\n"
   ]
  },
  {
   "cell_type": "markdown",
   "metadata": {},
   "source": [
    "#### Example of a Cyclotomic Polynomial\n",
    "\n",
    "Let’s take $M = 3$. The **cyclotomic polynomial** $\\Phi_3(x)$ corresponds to the primitive 3rd roots of unity. These are the roots of $e^{i(2\\pi k / 3)}$ for $k$ coprime to $3$ and $1 \\leq k < 3$. \n",
    "\n",
    "1. **Primitive 3rd Roots of Unity**:\n",
    "   - $k = 1$: $e^{i(2\\pi \\cdot 1 / 3)} = e^{i2\\pi/3}$,\n",
    "   - $k = 2$: $e^{i(2\\pi \\cdot 2 / 3)} = e^{i4\\pi/3}$.\n",
    "\n",
    "2. **Cyclotomic Polynomial Formula**:\n",
    "   Using the formula:\n",
    "   $$\n",
    "   \\Phi_3(x) = \\prod_{\\substack{1 \\leq k \\leq 3 \\\\ \\gcd(k, 3) = 1}} \\left(x - e^{2i\\pi \\frac{k}{3}}\\right),\n",
    "   $$\n",
    "   we have:\n",
    "   $$\n",
    "   \\Phi_3(x) = \\left(x - e^{i2\\pi/3}\\right)\\left(x - e^{i4\\pi/3}\\right).\n",
    "   $$\n",
    "\n",
    "3. **Simplification**:\n",
    "   Using the fact that the roots are complex conjugates and the polynomial has real coefficients:\n",
    "   $$\n",
    "   \\Phi_3(x) = x^2 + x + 1.\n",
    "   $$\n",
    "\n",
    "Thus, the cyclotomic polynomial for $M = 3$ is:\n",
    "$$\n",
    "\\Phi_3(x) = x^2 + x + 1.\n",
    "$$"
   ]
  },
  {
   "cell_type": "markdown",
   "metadata": {},
   "source": [
    "**Special Case**: $\\Phi_M(X) = X^N + 1$\n",
    "\n",
    "The specific form $\\Phi_M(X) = X^N + 1$ arises when:\n",
    "\n",
    "- $M = 2N$, i.e., $M$ is a power of 2.\n",
    "- The roots of $\\Phi_{2N}(X)$ are the primitive $2N$-th roots of unity."
   ]
  },
  {
   "cell_type": "markdown",
   "metadata": {},
   "source": [
    "### 2.1. Roots of $X^N + 1$\n",
    "\n",
    "The equation $X^N + 1 = 0$ has $N$ distinct roots in the complex plane. These roots are the **odd powers** of $\\xi$, a primitive $2N$-th root of unity:\n",
    "\n",
    "$$\n",
    "\\xi = e^{2\\pi i / (2N)}, \\quad \\text{so } \\xi^{2k+1} \\text{ for } k = 0, 1, \\dots, N-1.\n",
    "$$\n"
   ]
  },
  {
   "cell_type": "markdown",
   "metadata": {},
   "source": [
    "#### Example of Roots of $X^N + 1$\n",
    "\n",
    "Let’s take $N = 4$. The equation $X^4 + 1 = 0$ has $4$ distinct roots in the complex plane. These roots are the **odd powers** of $\\xi$, where $\\xi$ is a primitive $8$-th root of unity:\n",
    "\n",
    "1. **Primitive $8$-th Root of Unity**:\n",
    "   $$\n",
    "   \\xi = e^{2\\pi i / 8} = e^{i\\pi/4}.\n",
    "   $$\n",
    "\n",
    "2. **Odd Powers of $\\xi$**:\n",
    "   To find the roots of $X^4 + 1 = 0$, we compute $\\xi^{2k+1}$ for $k = 0, 1, 2, 3$:\n",
    "   - For $k = 0$: $\\xi^{2 \\cdot 0 + 1} = \\xi^1 = e^{i\\pi/4}$,\n",
    "   - For $k = 1$: $\\xi^{2 \\cdot 1 + 1} = \\xi^3 = e^{i3\\pi/4}$,\n",
    "   - For $k = 2$: $\\xi^{2 \\cdot 2 + 1} = \\xi^5 = e^{i5\\pi/4}$,\n",
    "   - For $k = 3$: $\\xi^{2 \\cdot 3 + 1} = \\xi^7 = e^{i7\\pi/4}$.\n",
    "\n",
    "3. **Roots**:\n",
    "   The roots of $X^4 + 1 = 0$ are:\n",
    "   $$\n",
    "   e^{i\\pi/4}, \\quad e^{i3\\pi/4}, \\quad e^{i5\\pi/4}, \\quad e^{i7\\pi/4}.\n",
    "   $$"
   ]
  },
  {
   "cell_type": "markdown",
   "metadata": {},
   "source": [
    "#### 2.2. Factorization\n",
    "\n",
    "The polynomial $X^N + 1$ factors as:\n",
    "\n",
    "$$\n",
    "X^N + 1 = \\prod_{k=0}^{N-1} \\left( X - \\xi^{2k+1} \\right),\n",
    "$$\n",
    "\n",
    "where $\\xi^{2k+1}$ are the odd powers of the primitive $2N$-th root of unity $\\xi$.\n",
    "\n",
    "\n"
   ]
  },
  {
   "cell_type": "markdown",
   "metadata": {},
   "source": [
    "### Example of Factorization of $X^N + 1$\n",
    "\n",
    "Let’s continue with $N = 4$. The equation $X^4 + 1 = 0$ can be factored using the formula:\n",
    "\n",
    "**Factorization**:\n",
    "   Substituting these roots into the factorization formula:\n",
    "   $$\n",
    "   X^4 + 1 = \\left( X - e^{i\\pi/4} \\right)\\left( X - e^{i3\\pi/4} \\right)\\left( X - e^{i5\\pi/4} \\right)\\left( X - e^{i7\\pi/4} \\right).\n",
    "   $$"
   ]
  },
  {
   "cell_type": "markdown",
   "metadata": {},
   "source": [
    "### Isomorphism\n",
    "\n",
    "An isomorphism between two algebraic structures is a bijective homomorphism.\n",
    "\n",
    "**Addition Preservation**:\n",
    "$\\sigma(m1 + m2) = \\sigma(m1) + \\sigma(m2)$\n",
    "\n",
    "**Multiplication Preservation**:\n",
    "$\\sigma(m1 * m2) = \\sigma(m1) \\circ \\sigma(m2)$\n",
    "\n",
    "- Injectivity: No two distinct polynomials map to the same vector under σ.\n",
    "- Surjectivity: Every vector in ${C^N}$ (satisfying the necessary properties) is the image of some polynomial under σσ.\n",
    "\n",
    "#### Example of Isomorphism\n",
    "\n",
    "Let’s illustrate an isomorphism using a simple example of polynomials and vectors.\n",
    "\n",
    "1. **Algebraic Structures**:\n",
    "   - Consider the space of polynomials with coefficients in $\\mathbb{R}$, up to degree 1: $P = \\{a + bx \\mid a, b \\in \\mathbb{R}\\}$.\n",
    "   - Consider the 2-dimensional vector space over $\\mathbb{R}$: $V = \\mathbb{R}^2$.\n",
    "\n",
    "2. **Isomorphism Definition**:\n",
    "   Define a map $\\sigma: P \\to V$ as:\n",
    "   $$\n",
    "   \\sigma(a + bx) = \\begin{bmatrix} a \\\\ b \\end{bmatrix}.\n",
    "   $$\n",
    "\n",
    "3. **Addition Preservation**:\n",
    "   For $p_1(x) = 1 + 2x$ and $p_2(x) = 3 + 4x$, we have:\n",
    "   $$\n",
    "   p_1(x) + p_2(x) = (1 + 2x) + (3 + 4x) = 4 + 6x.\n",
    "   $$\n",
    "   Applying $\\sigma$:\n",
    "   $$\n",
    "   \\sigma(p_1 + p_2) = \\sigma(4 + 6x) = \\begin{bmatrix} 4 \\\\ 6 \\end{bmatrix}.\n",
    "   $$\n",
    "   Separately:\n",
    "   $$\n",
    "   \\sigma(p_1) + \\sigma(p_2) = \\begin{bmatrix} 1 \\\\ 2 \\end{bmatrix} + \\begin{bmatrix} 3 \\\\ 4 \\end{bmatrix} = \\begin{bmatrix} 4 \\\\ 6 \\end{bmatrix}.\n",
    "   $$\n",
    "   Addition is preserved: $\\sigma(p_1 + p_2) = \\sigma(p_1) + \\sigma(p_2)$.\n",
    "\n",
    "4. **Multiplication Preservation**:\n",
    "   For scalar multiplication by 2 on $p_1(x) = 1 + 2x$:\n",
    "   $$\n",
    "   2 \\cdot p_1(x) = 2 \\cdot (1 + 2x) = 2 + 4x.\n",
    "   $$\n",
    "   Applying $\\sigma$:\n",
    "   $$\n",
    "   \\sigma(2 \\cdot p_1) = \\sigma(2 + 4x) = \\begin{bmatrix} 2 \\\\ 4 \\end{bmatrix}.\n",
    "   $$\n",
    "   Separately:\n",
    "   $$\n",
    "   2 \\cdot \\sigma(p_1) = 2 \\cdot \\begin{bmatrix} 1 \\\\ 2 \\end{bmatrix} = \\begin{bmatrix} 2 \\\\ 4 \\end{bmatrix}.\n",
    "   $$\n",
    "   Multiplication is preserved: $\\sigma(2 \\cdot p_1) = 2 \\cdot \\sigma(p_1)$.\n",
    "\n",
    "5. **Injectivity**:\n",
    "   If $\\sigma(p_1) = \\sigma(p_2)$, then:\n",
    "   $$\n",
    "   \\begin{bmatrix} a_1 \\\\ b_1 \\end{bmatrix} = \\begin{bmatrix} a_2 \\\\ b_2 \\end{bmatrix},\n",
    "   $$\n",
    "   implying $p_1(x) = a_1 + b_1x = a_2 + b_2x = p_2(x)$.\n",
    "\n",
    "6. **Surjectivity**:\n",
    "   Every vector in $\\mathbb{R}^2$ can be written as $\\begin{bmatrix} a \\\\ b \\end{bmatrix}$, which corresponds to the polynomial $a + bx$ in $P$.\n",
    "\n",
    "Thus, $\\sigma$ is a bijective homomorphism and an isomorphism between $P$ and $V$.\n",
    "\n"
   ]
  }
 ],
 "metadata": {
  "kernelspec": {
   "display_name": "Python 3 (ipykernel)",
   "language": "python",
   "name": "python3"
  },
  "language_info": {
   "codemirror_mode": {
    "name": "ipython",
    "version": 3
   },
   "file_extension": ".py",
   "mimetype": "text/x-python",
   "name": "python",
   "nbconvert_exporter": "python",
   "pygments_lexer": "ipython3",
   "version": "3.11.10"
  }
 },
 "nbformat": 4,
 "nbformat_minor": 4
}
