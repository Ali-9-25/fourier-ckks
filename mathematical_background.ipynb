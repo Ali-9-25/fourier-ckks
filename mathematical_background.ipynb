{
 "cells": [
  {
   "cell_type": "markdown",
   "metadata": {},
   "source": [
    "## Mathematical Background:\n",
    "\n",
    "### Primitive root of unity\n",
    "Any complex number that yields 1 when raised to some positive integer power n.\n",
    "1. $ \\zeta^n = 1 $\n",
    "2. $ \\zeta^k \\neq 1 $ for all integers $ k $ such that $ 0 < k < n $.\n",
    "\n",
    "$\\zeta^n = e^{i(2\\pi \\frac{k}{n})}$\n",
    "\n",
    "For 2N-th roots of unity, this means any number $\\zeta$ that satisfies $\\zeta^{2N}=1$\n",
    "\n",
    "**Example of a Primitive Root of Unity:**\n",
    "\n",
    "Let’s take $ n = 4 $. In this case, we are looking for the **primitive 4th roots of unity**, which are complex numbers that satisfy:\n",
    "\n",
    "1. $ \\zeta^4 = 1 $  \n",
    "2. $ \\zeta^k \\neq 1 $ for $ 0 < k < 4 $.  \n",
    "\n",
    "Using the formula $ \\zeta = e^{i(2\\pi k / n)} $, the 4th roots of unity are:\n",
    "\n",
    "- $ \\zeta_0 = e^{i(2\\pi \\cdot 0 / 4)} = e^{i \\cdot 0} = 1 $\n",
    "- $ \\zeta_1 = e^{i(2\\pi \\cdot 1 / 4)} = e^{i\\pi/2} = i $\n",
    "- $ \\zeta_2 = e^{i(2\\pi \\cdot 2 / 4)} = e^{i\\pi} = -1 $\n",
    "- $ \\zeta_3 = e^{i(2\\pi \\cdot 3 / 4)} = e^{i3\\pi/2} = -i $\n",
    "\n",
    "The **primitive 4th roots of unity** are $ \\zeta_1 = i $ and $ \\zeta_3 = -i $, because:\n",
    "\n",
    "- They satisfy $ \\zeta^4 = 1 $, and\n",
    "- They do not satisfy $ \\zeta^k = 1 $ for $ 0 < k < 4 $.\n",
    "\n",
    "In contrast, $ \\zeta_0 = 1 $ and $ \\zeta_2 = -1 $ are not primitive because they satisfy $ \\zeta^2 = 1 $, violating the second condition.\n"
   ]
  },
  {
   "cell_type": "code",
   "execution_count": 1,
   "metadata": {},
   "outputs": [
    {
     "name": "stdout",
     "output_type": "stream",
     "text": [
      "Primitive 4th root of unity: 1j\n",
      "Primitive 4th root of unity: (-0-1j)\n"
     ]
    }
   ],
   "source": [
    "import numpy as np\n",
    "import math\n",
    "\n",
    "n = 4\n",
    "for k in range(4):\n",
    "    z = np.round(np.exp(2*np.pi*1j*k/n))\n",
    "    if z**(n) == 1 and math.gcd(k, n) == 1:\n",
    "        print(f\"Primitive {n}th root of unity: {z}\")"
   ]
  },
  {
   "cell_type": "markdown",
   "metadata": {},
   "source": [
    "### Cyclotomic Polynomial\n",
    "A **cyclotomic polynomial** is a special type of polynomial defined as the unique irreducible polynomial with integer coefficients whose roots are the **primitive roots of unity** $e^{i(2\\pi\\frac{k}{M})}$, where k runs over the positive integers less than M and coprime to M. The formula is equal to:\n",
    "\n",
    "$$\n",
    "\\Phi_{M}(x) = \\prod_{\\substack{1 \\leq k \\leq M \\\\ \\gcd(k, M) = 1}} \\left(x - e^{2i\\pi \\frac{k}{M}}\\right)\n",
    "$$\n",
    "\n"
   ]
  },
  {
   "cell_type": "markdown",
   "metadata": {},
   "source": [
    "#### Example of a Cyclotomic Polynomial\n",
    "\n",
    "Let’s take $M = 3$. The **cyclotomic polynomial** $\\Phi_3(x)$ corresponds to the primitive 3rd roots of unity. These are the roots of $e^{i(2\\pi k / 3)}$ for $k$ coprime to $3$ and $1 \\leq k < 3$. \n",
    "\n",
    "1. **Primitive 3rd Roots of Unity**:\n",
    "   - $k = 1$: $e^{i(2\\pi \\cdot 1 / 3)} = e^{i2\\pi/3}$,\n",
    "   - $k = 2$: $e^{i(2\\pi \\cdot 2 / 3)} = e^{i4\\pi/3}$.\n",
    "\n",
    "2. **Cyclotomic Polynomial Formula**:\n",
    "   Using the formula:\n",
    "   $$\n",
    "   \\Phi_3(x) = \\prod_{\\substack{1 \\leq k \\leq 3 \\\\ \\gcd(k, 3) = 1}} \\left(x - e^{2i\\pi \\frac{k}{3}}\\right),\n",
    "   $$\n",
    "   we have:\n",
    "   $$\n",
    "   \\Phi_3(x) = \\left(x - e^{i2\\pi/3}\\right)\\left(x - e^{i4\\pi/3}\\right).\n",
    "   $$\n",
    "\n",
    "3. **Simplification**:\n",
    "   Using the fact that the roots are complex conjugates and the polynomial has real coefficients:\n",
    "   $$\n",
    "   \\Phi_3(x) = x^2 + x + 1.\n",
    "   $$\n",
    "\n",
    "Thus, the cyclotomic polynomial for $M = 3$ is:\n",
    "$$\n",
    "\\Phi_3(x) = x^2 + x + 1.\n",
    "$$"
   ]
  },
  {
   "cell_type": "code",
   "execution_count": 4,
   "metadata": {},
   "outputs": [
    {
     "ename": "SyntaxError",
     "evalue": "invalid syntax (1613347418.py, line 1)",
     "output_type": "error",
     "traceback": [
      "\u001b[0;36m  Cell \u001b[0;32mIn[4], line 1\u001b[0;36m\u001b[0m\n\u001b[0;31m    **Special Case**: $\\Phi_M(X) = X^N + 1$\u001b[0m\n\u001b[0m    ^\u001b[0m\n\u001b[0;31mSyntaxError\u001b[0m\u001b[0;31m:\u001b[0m invalid syntax\n"
     ]
    }
   ],
   "source": [
    "**Special Case**: $\\Phi_M(X) = X^N + 1$\n",
    "\n",
    "The specific form $\\Phi_M(X) = X^N + 1$ arises when:\n",
    "\n",
    "- $M = 2N$, i.e., $M$ is a power of 2.\n",
    "- The roots of $\\Phi_{2N}(X)$ are the primitive $2N$-th roots of unity."
   ]
  }
 ],
 "metadata": {
  "kernelspec": {
   "display_name": "myenv",
   "language": "python",
   "name": "myenv"
  },
  "language_info": {
   "codemirror_mode": {
    "name": "ipython",
    "version": 3
   },
   "file_extension": ".py",
   "mimetype": "text/x-python",
   "name": "python",
   "nbconvert_exporter": "python",
   "pygments_lexer": "ipython3",
   "version": "3.13.0"
  }
 },
 "nbformat": 4,
 "nbformat_minor": 4
}
